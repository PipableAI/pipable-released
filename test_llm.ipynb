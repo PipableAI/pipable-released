{
 "cells": [
  {
   "cell_type": "code",
   "execution_count": 1,
   "metadata": {},
   "outputs": [
    {
     "name": "stderr",
     "output_type": "stream",
     "text": [
      "/home/raghav/.local/lib/python3.10/site-packages/tqdm/auto.py:21: TqdmWarning: IProgress not found. Please update jupyter and ipywidgets. See https://ipywidgets.readthedocs.io/en/stable/user_install.html\n",
      "  from .autonotebook import tqdm as notebook_tqdm\n"
     ]
    }
   ],
   "source": [
    "from pipable import Pipable"
   ]
  },
  {
   "cell_type": "code",
   "execution_count": 2,
   "metadata": {},
   "outputs": [],
   "source": [
    "a = Pipable(\"sample_data/configCSV.yaml\")"
   ]
  },
  {
   "cell_type": "code",
   "execution_count": 3,
   "metadata": {},
   "outputs": [
    {
     "name": "stderr",
     "output_type": "stream",
     "text": [
      "No GPU/TPU found, falling back to CPU. (Set TF_CPP_MIN_LOG_LEVEL=0 and rerun for more info.)\n"
     ]
    },
    {
     "name": "stdout",
     "output_type": "stream",
     "text": [
      "LLM: As an AI language model, I can provide you with a basic recipe for making a cake. However, it's important to note that there are numerous variations and techniques for making different types of cakes. It's always best to consult a trusted recipe source or search online for more specific instructions. Here's a simple, general method:\n",
      "\n",
      "Ingredients:\n",
      "- 2 ½ cups all-purpose flour\n",
      "- 2 ½ teaspoons baking powder\n",
      "- 1 ½ cups granulated sugar\n",
      "- 1 cup unsalted butter, softened\n",
      "- 4 large eggs\n",
      "- 1 teaspoon vanilla extract\n",
      "- 1 cup milk\n",
      "\n",
      "Instructions:\n",
      "1. Preheat the oven to 350°F (175°C) and grease the cake pans.\n",
      "2. In a medium-sized mixing bowl, whisk together the flour and baking powder.\n",
      "3. In a separate large mixing bowl, cream together the softened butter and sugar until light and fluffy.\n",
      "4. Beat in the eggs, one at a time, ensuring each one is fully incorporated before adding the next.\n",
      "5. Stir in the vanilla extract.\n",
      "6. Gradually add the dry ingredients to the wet ingredients, alternating with the milk. Begin and end with the dry ingredients, mixing until just combined and avoiding over-mixing.\n",
      "7. Divide the batter evenly between the prepared cake pans.\n",
      "8. Place the pans in the preheated oven and bake for approximately 25-30 minutes, or until a toothpick inserted into the center of the cakes comes out clean.\n",
      "9. Remove the cakes from the oven and allow them to cool in the pans for 10 minutes before transferring them to wire racks to cool completely.\n",
      "10. Once cooled, you can frost or decorate the cakes as desired.\n",
      "\n",
      "This recipe is a basic guideline, and variations can be made by adding different ingredients like cocoa powder, fruits, or nuts, based on the type of cake you want to create. Remember, it's always good to follow a specific recipe that suits your desired cake type for more precise instructions and measurements.\n",
      "Google search: As an AI language model, I can provide you with a basic recipe for making a cake. However, it's important to note that there are numerous variations and techniques for making different types of cakes. It's always best to consult a trusted recipe source or search online for more specific instructions. Here's a simple, general method:\n",
      "\n",
      "Ingredients:\n",
      "- 2 ½ cups all-purpose flour\n",
      "- 2 ½ teaspoons baking powder\n",
      "- 1 ½ cups granulated sugar\n",
      "- 1 cup unsalted butter, softened\n",
      "- 4 large eggs\n",
      "- 1 teaspoon vanilla extract\n",
      "- 1 cup milk\n",
      "\n",
      "Instructions:\n",
      "1. Preheat the oven to 350°F (175°C) and grease the cake pans.\n",
      "2. In a medium-sized mixing bowl, whisk together the flour and baking powder.\n",
      "3. In a separate large mixing bowl, cream together the softened butter and sugar until light and fluffy.\n",
      "4. Beat in the eggs, one at a time, ensuring each one is fully incorporated before adding the next.\n",
      "5. Stir in the vanilla extract.\n",
      "6. Gradually add the dry ingredients to the wet ingredients, alternating with the milk. Begin and end with the dry ingredients, mixing until just combined and avoiding over-mixing.\n",
      "7. Divide the batter evenly between the prepared cake pans.\n",
      "8. Place the pans in the preheated oven and bake for approximately 25-30 minutes, or until a toothpick inserted into the center of the cakes comes out clean.\n",
      "9. Remove the cakes from the oven and allow them to cool in the pans for 10 minutes before transferring them to wire racks to cool completely.\n",
      "10. Once cooled, you can frost or decorate the cakes as desired.\n",
      "\n",
      "This recipe is a basic guideline, and variations can be made by adding different ingredients like cocoa powder, fruits, or nuts, based on the type of cake you want to create. Remember, it's always good to follow a specific recipe that suits your desired cake type for more precise instructions and measurements.\n",
      "\n",
      "Link 1: https://support.microsoft.com/en-us/office/using-access-or-excel-to-manage-your-data-09576147-47d1-4c6f-9312-e825227fcaea\n",
      "Result 1: Access and Microsoft Excel possess many similarities which can make it is better for managing data helping you keep it organized easy to search\n",
      "\n",
      "Link 2: https://www.wordstream.com/blog/ws/2017/08/09/easy-keyword-research-guide\n",
      "Result 2: Aug 9 2017 In this easy guide to keyword research well walk you through everything you need to know to find the best keywords for your business\n",
      "\n",
      "Link 3: https://blog.hubspot.com/marketing/youtube-seo\n",
      "Result 3: Jun 8 2023 Want your videos to rank on YouTube Here are the most important YouTube SEO tips and the tools you can use to optimize your videos for\n",
      "\n",
      "Link 4: https://plato.stanford.edu/entries/chinese-room/\n",
      "Result 4: Mar 19 2004 Searle argues that a good way to test a theory of mind say a theory Searles critique of AI that you could create a system that gave\n",
      "\n",
      "Link 5: https://www.oreilly.com/library/view/cooking-for-geeks/9781449389543/ch04.html\n",
      "Result 5: In baking and roasting the hot air of the oven imparts the heat in boiling and steaming its the water that does this Those heat methods that involve water\n",
      "\n",
      "Link 6: https://www.pillsbury.com/everyday-eats/desserts/pies-tarts/how-to-make-apple-pie\n",
      "Result 6: How to Make Classic Apple Pie The Best Apples for Apple Pie How to Make Homemade Apple Pie Filling How Long to Bake Apple Pie Different Types of Apple Pie\n",
      "\n",
      "Link 7: https://www.betterhealth.vic.gov.au/health/healthyliving/weight-loss-and-fad-diets\n",
      "Result 7: With a balanced eating plan its what you leave in that makes all the A healthy eating plan will help you feel better and give you more energy\n",
      "\n",
      "Link 8: https://www.myplate.gov/eat-healthy/more-key-topics\n",
      "Result 8: Most oils are high in monounsaturated fats or polyunsaturated fats which are healthy fats and low in saturated fats Foods that are mainly made of oil include\n",
      "\n",
      "Link 9: https://www.nature.com/articles/s41538-023-00182-6\n",
      "Result 9: Mar 21 2023 With the continual evolution of digital technologies however laser cooking and 3D food printing may present nutritious convenient and cost\n",
      "\n",
      "Link 10: https://neilpatel.com/how-to-start-a-blog/\n",
      "Result 10: Make sure to pick a niche that is bigger than vegan Caribbean recipes but to have multiple monetization methods but youll also make more money\n"
     ]
    }
   ],
   "source": [
    "a.ask(\"ask LLM and google what is the best way to make a cake?\")"
   ]
  },
  {
   "cell_type": "code",
   "execution_count": 4,
   "metadata": {},
   "outputs": [
    {
     "name": "stdout",
     "output_type": "stream",
     "text": [
      "Google search: ask google what is the best way to make a cake?\n",
      "\n",
      "Link 1: https://www.youtube.com/watch?v=uC7r9OtI0Xs\n",
      "Result 1: Sep 28 2017 3Layer Cake Made in the Microwave Gemmas Bigger Bolder Baking RECIPES REFERENCED How to Make the BestEver Buttercream Frosting\n",
      "\n",
      "Link 2: https://support.google.com/googlenest/answer/7536723?hl=en\n",
      "Result 2: Get a little help to remember things Ask Google Assistant to remember your moms favorite cake your bike locker number or the last place you stored your\n",
      "\n",
      "Link 3: https://www.wordstream.com/blog/ws/2020/07/16/how-to-ask-for-reviews\n",
      "Result 3: Jul 16 2020 For some businesses asking for a review immediately after their purchase makes sense while others may want to wait to give the customer time\n",
      "\n",
      "Link 4: https://support.google.com/assistant/answer/7536723?hl=en\n",
      "Result 4: Get a little help to remember things Ask Google Assistant to remember your moms favorite cake your bike locker number or the last place you stored your\n",
      "\n",
      "Link 5: https://www.instacart.com/company/ideas/how-to-make-box-cake-better/\n",
      "Result 5: Jun 30 2023 Use butter instead of oil More often than not box cake recipes will ask that you add canola or vegetable oil Thats because theyre\n",
      "\n",
      "Link 6: https://www.bettycrocker.com/how-to/ask-betty/answer/how-can-make-white-cake-mix-into-chocolate/034bd80d-e180-5886-97f1-3556731d8e32\n",
      "Result 6: Mar 16 2013 Add 14 cup of cocoa to the cake mix and add all other ingredients as directed I have attached another way of getting a chocolate cake using\n",
      "\n",
      "Link 7: https://www.bhg.com/recipes/how-to/bake/how-to-make-a-cake/\n",
      "Result 7: Sep 26 2022 How to Bake a Cake Step 1 Prepare Baking Pans Step 2 Allow Ingredients to Reach Room Temperature Step 3 Preheat the Oven Step 4 Stir\n",
      "\n",
      "Link 8: https://www.bettycrocker.com/how-to/ask-betty/answer/how-to-make-cake-denser/cf46a673-da02-4614-a857-6cf9af29bf3d\n",
      "Result 8: Jan 4 2015 That is a great question There are several ways to modify a boxed cake mix to make it more dense You can try any of the following adding a 1\n",
      "\n",
      "Link 9: https://www.thepioneerwoman.com/food-cooking/meals-menus/g41410556/bundt-cake-recipes/\n",
      "Result 9: Sep 29 2022 Lemon Pound Cake lemon pound cake with glaze Con Poulos This bright and citrusy cake uses lemon three ways\n",
      "\n",
      "Link 10: https://food-hacks.wonderhowto.com/how-to/8-tricks-make-boxed-cake-mix-taste-like-homemade-0162021/\n",
      "Result 10: May 19 2015 Ask ten different people how they feel about boxed cake mixes Mayo makes cake mix incredibly luscious and homemade tasting\n"
     ]
    }
   ],
   "source": [
    "a.ask(\"ask google what is the best way to make a cake?\")"
   ]
  },
  {
   "cell_type": "code",
   "execution_count": 5,
   "metadata": {},
   "outputs": [
    {
     "name": "stdout",
     "output_type": "stream",
     "text": [
      "LLM: The best way to make a cake ultimately depends on personal preferences and the specific recipe you're using. However, here are a few general tips for successful cake baking:\n",
      "\n",
      "1. Read through the entire recipe before you begin to understand the steps and ingredients required.\n",
      "2. Ensure all your ingredients are at room temperature unless specified otherwise in the recipe. This helps with proper mixing and achieving a uniform texture.\n",
      "3. Accurate measurements are important in baking, so use measuring cups and spoons, and level off ingredients to avoid inconsistency.\n",
      "4. Creaming the butter and sugar properly is crucial for achieving a light and fluffy texture. Ensure the butter is softened but not melted, and beat it together with the sugar until the mixture is pale and creamy.\n",
      "5. Add eggs one at a time, beating well after each addition. This helps to incorporate air and prevent curdling.\n",
      "6. Alternate adding dry ingredients and wet ingredients slowly to the batter, beginning and ending with the dry ingredients. This helps with even mixing and prevents over-mixing.\n",
      "7. Avoid over-mixing the batter, as it can result in a dense and tough cake. Mix until the ingredients are just combined.\n",
      "8. Preheat the oven to the specified temperature and ensure it is accurate with an oven thermometer.\n",
      "9. Properly grease and flour your cake pans or use parchment paper to prevent sticking.\n",
      "10. Don't open the oven door too frequently or too early during baking, as it can cause the cake to sink or become dense.\n",
      "11. Test for doneness by inserting a toothpick or cake tester into the center of the cake. If it comes out clean or with a few crumbs, the cake is done.\n",
      "12. Allow the cake to cool in the pans for a few minutes before transferring it to a wire rack to cool completely. This helps it hold its shape and prevents it from breaking.\n",
      "13. Frost or decorate the cake once it has cooled completely to avoid melting or sliding of the frosting.\n",
      "\n",
      "Remember, different cake recipes may have specific techniques and variations, so it's always best to follow the instructions provided in a trusted recipe source.\n"
     ]
    }
   ],
   "source": [
    "a.ask(\"ask LLM what is the best way to make a cake?\")"
   ]
  }
 ],
 "metadata": {
  "kernelspec": {
   "display_name": "Python 3",
   "language": "python",
   "name": "python3"
  },
  "language_info": {
   "codemirror_mode": {
    "name": "ipython",
    "version": 3
   },
   "file_extension": ".py",
   "mimetype": "text/x-python",
   "name": "python",
   "nbconvert_exporter": "python",
   "pygments_lexer": "ipython3",
   "version": "3.10.12"
  },
  "orig_nbformat": 4
 },
 "nbformat": 4,
 "nbformat_minor": 2
}
