{
 "cells": [
  {
   "cell_type": "code",
   "execution_count": 1,
   "metadata": {},
   "outputs": [
    {
     "name": "stderr",
     "output_type": "stream",
     "text": [
      "/home/raghav/.local/lib/python3.10/site-packages/tqdm/auto.py:21: TqdmWarning: IProgress not found. Please update jupyter and ipywidgets. See https://ipywidgets.readthedocs.io/en/stable/user_install.html\n",
      "  from .autonotebook import tqdm as notebook_tqdm\n"
     ]
    }
   ],
   "source": [
    "from pipable import Pipable"
   ]
  },
  {
   "cell_type": "code",
   "execution_count": 2,
   "metadata": {},
   "outputs": [],
   "source": [
    "a = Pipable(\"sample_data/configCSV.yaml\")"
   ]
  },
  {
   "cell_type": "code",
   "execution_count": 3,
   "metadata": {},
   "outputs": [
    {
     "name": "stderr",
     "output_type": "stream",
     "text": [
      "No GPU/TPU found, falling back to CPU. (Set TF_CPP_MIN_LOG_LEVEL=0 and rerun for more info.)\n"
     ]
    },
    {
     "name": "stdout",
     "output_type": "stream",
     "text": [
      "LLM: There are various ways to make a cake, and it ultimately depends on personal preference, dietary restrictions, and the type of cake you want to bake. However, here is a general approach to making a cake:\n",
      "\n",
      "1. Gather ingredients: Common cake ingredients include flour, sugar, eggs, butter or oil, baking powder, milk or buttermilk, and flavorings like vanilla extract.\n",
      "\n",
      "2. Preheat the oven: Usually, cake recipes require preheating the oven to a specific temperature, so ensure you do this to bake the cake evenly.\n",
      "\n",
      "3. Prepare the cake pans: Grease and flour the cake pans to prevent sticking. You can also line the bottoms with parchment paper for easy removal after baking.\n",
      "\n",
      "4. Combine dry ingredients: Whisk together the flour, baking powder, and salt in a separate bowl.\n",
      "\n",
      "5. Cream butter and sugar: In a mixing bowl, beat the butter and sugar until light and fluffy. This helps create a soft and tender cake.\n",
      "\n",
      "6. Add eggs and flavorings: Beat in the eggs one at a time, ensuring each is fully incorporated. Add any desired flavorings, like vanilla extract or citrus zest.\n",
      "\n",
      "7. Alternate mixing: Gradually add the dry ingredients and the milk to the batter, starting and ending with the dry ingredients. This helps create a moist cake.\n",
      "\n",
      "8. Bake the cake: Divide the batter evenly between the prepared pans. Bake in the preheated oven for the specified time, or until a toothpick inserted into the center comes out clean.\n",
      "\n",
      "9. Cool and frost: Allow the cakes to cool in the pans for a few minutes, then transfer them onto wire racks to cool completely. Once cooled, you can frost the cake with your preferred frosting or decorate it as desired.\n",
      "\n",
      "Remember, this is a general guide, and specific cake recipes or dietary restrictions may require different methods or ingredients. It's always a good idea to follow a trusted recipe or consult a baking expert for more specific instructions.\n",
      "Google search: There are various ways to make a cake, and it ultimately depends on personal preference, dietary restrictions, and the type of cake you want to bake. However, here is a general approach to making a cake:\n",
      "\n",
      "1. Gather ingredients: Common cake ingredients include flour, sugar, eggs, butter or oil, baking powder, milk or buttermilk, and flavorings like vanilla extract.\n",
      "\n",
      "2. Preheat the oven: Usually, cake recipes require preheating the oven to a specific temperature, so ensure you do this to bake the cake evenly.\n",
      "\n",
      "3. Prepare the cake pans: Grease and flour the cake pans to prevent sticking. You can also line the bottoms with parchment paper for easy removal after baking.\n",
      "\n",
      "4. Combine dry ingredients: Whisk together the flour, baking powder, and salt in a separate bowl.\n",
      "\n",
      "5. Cream butter and sugar: In a mixing bowl, beat the butter and sugar until light and fluffy. This helps create a soft and tender cake.\n",
      "\n",
      "6. Add eggs and flavorings: Beat in the eggs one at a time, ensuring each is fully incorporated. Add any desired flavorings, like vanilla extract or citrus zest.\n",
      "\n",
      "7. Alternate mixing: Gradually add the dry ingredients and the milk to the batter, starting and ending with the dry ingredients. This helps create a moist cake.\n",
      "\n",
      "8. Bake the cake: Divide the batter evenly between the prepared pans. Bake in the preheated oven for the specified time, or until a toothpick inserted into the center comes out clean.\n",
      "\n",
      "9. Cool and frost: Allow the cakes to cool in the pans for a few minutes, then transfer them onto wire racks to cool completely. Once cooled, you can frost the cake with your preferred frosting or decorate it as desired.\n",
      "\n",
      "Remember, this is a general guide, and specific cake recipes or dietary restrictions may require different methods or ingredients. It's always a good idea to follow a trusted recipe or consult a baking expert for more specific instructions.\n",
      "\n",
      "Link 1: https://www.fda.gov/files/food/published/Food-Labeling-Guide-%28PDF%29.pdf\n",
      "Result 1: May 24 2011 Under FDAs laws and regulations FDA does not preapprove labels How do you declare the ingredients in a food when the food itself is\n",
      "\n",
      "Link 2: https://www.kitchenaid.com/pinch-of-help/stand-mixers/four-types-of-bread-leavening-agents.html\n",
      "Result 2: How to Leaven Breads Cakes Cookies and Baked Goods Leavening adds volume to your baked goods whether youre baking bread cake or cookies The trapped air\n",
      "\n",
      "Link 3: https://hbr.org/1998/07/welcome-to-the-experience-economy\n",
      "Result 3: As a vestige of the agrarian economy mothers made birthday cakes from scratch mixing farm commodities flour sugar butter and eggs that together cost\n",
      "\n",
      "Link 4: https://www.foodtimeline.org/foodcakes.html\n",
      "Result 4: The types of ingredients used to make these cakes contributed to their symbolism History of bread and cakes includes baking methods symbolism\n",
      "\n",
      "Link 5: https://psu.pb.unizin.org/hmd329/chapter/chapter-6-standardized-recipes/\n",
      "Result 5: Components of a standardized recipe Benefits of using standardized recipes Recipe yield Standard portions Kitchen Measurements Converting and adjusting\n",
      "\n",
      "Link 6: https://smittenkitchen.com/2008/09/moms-apple-cake/\n",
      "Result 6: Sep 30 2008 Peel core and chop apples into 1inch chunksToss with cinnamon and 5 tablespoons sugar and set aside Stir together flour baking powder and\n",
      "\n",
      "Link 7: https://www.webstaurantstore.com/article/454/types-of-cooking-methods.html\n",
      "Result 7: Nov 17 2020 Simmering Steaming Boiling Baking Grilling Roasting Sauteing Frying Broiling Braising Stewing Glossary 1 Moist Heat Cooking\n",
      "\n",
      "Link 8: https://www.moresteam.com/toolbox/design-of-experiments.cfm\n",
      "Result 8: How do you produce the best tasting cake with the simplest recipe least number of ingredients and shortest baking time 5 Experiment Design Guidelines The\n",
      "\n",
      "Link 9: https://www.davidlebovitz.com/how-precise-do-recipes-need-to-be/\n",
      "Result 9: Nov 16 2012 Cooking is an intuitive act and except for the pastry kitchen Ive rarely seen a restaurant cook peering into a cookbook while plating up food\n",
      "\n",
      "Link 10: https://www.oreilly.com/library/view/cooking-for-geeks/9781449389543/ch04.html\n",
      "Result 10: And there are many different types of proteins in different foods For that steak to be cooked to at least medium rare you need to heat the meat such\n"
     ]
    }
   ],
   "source": [
    "a.ask(\"ask LLM and google what is the best way to make a cake?\")"
   ]
  },
  {
   "cell_type": "code",
   "execution_count": 4,
   "metadata": {},
   "outputs": [
    {
     "data": {
      "text/plain": [
       "[{'isError': False,\n",
       "  'output': {'llm': \"There are various ways to make a cake, and it ultimately depends on personal preference, dietary restrictions, and the type of cake you want to bake. However, here is a general approach to making a cake:\\n\\n1. Gather ingredients: Common cake ingredients include flour, sugar, eggs, butter or oil, baking powder, milk or buttermilk, and flavorings like vanilla extract.\\n\\n2. Preheat the oven: Usually, cake recipes require preheating the oven to a specific temperature, so ensure you do this to bake the cake evenly.\\n\\n3. Prepare the cake pans: Grease and flour the cake pans to prevent sticking. You can also line the bottoms with parchment paper for easy removal after baking.\\n\\n4. Combine dry ingredients: Whisk together the flour, baking powder, and salt in a separate bowl.\\n\\n5. Cream butter and sugar: In a mixing bowl, beat the butter and sugar until light and fluffy. This helps create a soft and tender cake.\\n\\n6. Add eggs and flavorings: Beat in the eggs one at a time, ensuring each is fully incorporated. Add any desired flavorings, like vanilla extract or citrus zest.\\n\\n7. Alternate mixing: Gradually add the dry ingredients and the milk to the batter, starting and ending with the dry ingredients. This helps create a moist cake.\\n\\n8. Bake the cake: Divide the batter evenly between the prepared pans. Bake in the preheated oven for the specified time, or until a toothpick inserted into the center comes out clean.\\n\\n9. Cool and frost: Allow the cakes to cool in the pans for a few minutes, then transfer them onto wire racks to cool completely. Once cooled, you can frost the cake with your preferred frosting or decorate it as desired.\\n\\nRemember, this is a general guide, and specific cake recipes or dietary restrictions may require different methods or ingredients. It's always a good idea to follow a trusted recipe or consult a baking expert for more specific instructions.\",\n",
       "   'google_search': [{'url': 'https://www.fda.gov/files/food/published/Food-Labeling-Guide-%28PDF%29.pdf',\n",
       "     'headline': 'May 24 2011 Under FDAs laws and regulations FDA does not preapprove labels How do you declare the ingredients in a food when the food itself is'},\n",
       "    {'url': 'https://www.kitchenaid.com/pinch-of-help/stand-mixers/four-types-of-bread-leavening-agents.html',\n",
       "     'headline': 'How to Leaven Breads Cakes Cookies and Baked Goods Leavening adds volume to your baked goods whether youre baking bread cake or cookies The trapped air'},\n",
       "    {'url': 'https://hbr.org/1998/07/welcome-to-the-experience-economy',\n",
       "     'headline': 'As a vestige of the agrarian economy mothers made birthday cakes from scratch mixing farm commodities flour sugar butter and eggs that together cost'},\n",
       "    {'url': 'https://www.foodtimeline.org/foodcakes.html',\n",
       "     'headline': 'The types of ingredients used to make these cakes contributed to their symbolism History of bread and cakes includes baking methods symbolism'},\n",
       "    {'url': 'https://psu.pb.unizin.org/hmd329/chapter/chapter-6-standardized-recipes/',\n",
       "     'headline': 'Components of a standardized recipe Benefits of using standardized recipes Recipe yield Standard portions Kitchen Measurements Converting and adjusting'},\n",
       "    {'url': 'https://smittenkitchen.com/2008/09/moms-apple-cake/',\n",
       "     'headline': 'Sep 30 2008 Peel core and chop apples into 1inch chunksToss with cinnamon and 5 tablespoons sugar and set aside Stir together flour baking powder and'},\n",
       "    {'url': 'https://www.webstaurantstore.com/article/454/types-of-cooking-methods.html',\n",
       "     'headline': 'Nov 17 2020 Simmering Steaming Boiling Baking Grilling Roasting Sauteing Frying Broiling Braising Stewing Glossary 1 Moist Heat Cooking'},\n",
       "    {'url': 'https://www.moresteam.com/toolbox/design-of-experiments.cfm',\n",
       "     'headline': 'How do you produce the best tasting cake with the simplest recipe least number of ingredients and shortest baking time 5 Experiment Design Guidelines The'},\n",
       "    {'url': 'https://www.davidlebovitz.com/how-precise-do-recipes-need-to-be/',\n",
       "     'headline': 'Nov 16 2012 Cooking is an intuitive act and except for the pastry kitchen Ive rarely seen a restaurant cook peering into a cookbook while plating up food'},\n",
       "    {'url': 'https://www.oreilly.com/library/view/cooking-for-geeks/9781449389543/ch04.html',\n",
       "     'headline': 'And there are many different types of proteins in different foods For that steak to be cooked to at least medium rare you need to heat the meat such'}]},\n",
       "  'model_id': 'llm_google',\n",
       "  'dtype': dict}]"
      ]
     },
     "execution_count": 4,
     "metadata": {},
     "output_type": "execute_result"
    }
   ],
   "source": [
    "a.get_outputs()"
   ]
  },
  {
   "cell_type": "code",
   "execution_count": 5,
   "metadata": {},
   "outputs": [
    {
     "name": "stdout",
     "output_type": "stream",
     "text": [
      "Google search: ask google what is the best way to make a cake?\n",
      "\n",
      "Link 1: https://www.youtube.com/watch?v=uC7r9OtI0Xs\n",
      "Result 1: Sep 28 2017 VIDEOS RECIPES REFERENCED How to Make the BestEver Buttercream Frosting httpbitlyButtercreamVid How to Substitute Eggs in\n",
      "\n",
      "Link 2: https://www.wordstream.com/blog/ws/2020/07/16/how-to-ask-for-reviews\n",
      "Result 2: Jul 16 2020 For some businesses asking for a review immediately after their purchase makes sense while others may want to wait to give the customer time\n",
      "\n",
      "Link 3: https://support.google.com/googlenest/answer/7536723?hl=en\n",
      "Result 3: Get a little help to remember things Ask Google Assistant to remember your moms favorite cake your bike locker number or the last place you stored your\n",
      "\n",
      "Link 4: https://www.bettycrocker.com/how-to/ask-betty/answer/how-can-make-white-cake-mix-into-chocolate/034bd80d-e180-5886-97f1-3556731d8e32\n",
      "Result 4: Mar 16 2013 Add 14 cup of cocoa to the cake mix and add all other ingredients as directed I have attached another way of getting a chocolate cake using\n",
      "\n",
      "Link 5: https://support.google.com/assistant/answer/7536723?hl=en\n",
      "Result 5: Get a little help to remember things Ask Google Assistant to remember your moms favorite cake your bike locker number or the last place you stored your\n",
      "\n",
      "Link 6: https://www.askchefdennis.com/jewish-apple-cake/\n",
      "Result 6: Jun 7 2020 Cakes made with butter will taste better but for this cake oil is definitely a good choice How do I make a Jewish Apple Cake\n",
      "\n",
      "Link 7: https://www.bhg.com/recipes/how-to/bake/how-to-make-a-cake/\n",
      "Result 7: Sep 26 2022 How to Bake a Cake Step 1 Prepare Baking Pans Step 2 Allow Ingredients to Reach Room Temperature Step 3 Preheat the Oven Step 4 Stir\n",
      "\n",
      "Link 8: https://food-hacks.wonderhowto.com/how-to/8-tricks-make-boxed-cake-mix-taste-like-homemade-0162021/\n",
      "Result 8: May 19 2015 Ask ten different people how they feel about boxed cake mixes Mayo makes cake mix incredibly luscious and homemade tasting\n",
      "\n",
      "Link 9: https://www.instacart.com/company/ideas/how-to-make-box-cake-better/\n",
      "Result 9: Jun 30 2023 Use butter instead of oil More often than not box cake recipes will ask that you add canola or vegetable oil Thats because theyre\n",
      "\n",
      "Link 10: https://lifestyleofafoodie.com/how-to-make-box-cake-taste-homemade/\n",
      "Result 10: Oct 15 2021 These are the bestkept secrets to make your cake mix taste homemade Most cake mixes ask for water to be mixed in but instead of that\n"
     ]
    }
   ],
   "source": [
    "a.ask(\"ask google what is the best way to make a cake?\")"
   ]
  },
  {
   "cell_type": "code",
   "execution_count": 6,
   "metadata": {},
   "outputs": [
    {
     "name": "stdout",
     "output_type": "stream",
     "text": [
      "LLM: The best way to make a cake ultimately depends on personal preference and the type of cake you want to bake. Some people prefer using butter for a richer flavor, while others opt for oil for a moist texture. Similarly, the choice of ingredients, such as using cake flour for a lighter crumb or all-purpose flour for a denser texture, can also vary.\n",
      "\n",
      "However, there are a few tips that can help improve your cake baking:\n",
      "\n",
      "1. Follow a trusted recipe: Using a reliable recipe ensures that the proportions and method are tested for successful results.\n",
      "\n",
      "2. Measure ingredients accurately: Use measuring cups and spoons to ensure precise measurements, especially for flour and leavening agents like baking powder.\n",
      "\n",
      "3. Cream butter and sugar thoroughly: Beating the butter and sugar together until light and fluffy incorporates air, resulting in a softer and tender crumb.\n",
      "\n",
      "4. Follow the mixing method: Gradually add dry and wet ingredients to the batter, alternating between the two. This ensures a smooth and well-incorporated batter.\n",
      "\n",
      "5. Prep your pans properly: Grease and flour the pans to prevent sticking or use parchment paper for easy release. This helps ensure that the cake bakes evenly and comes out of the pan easily.\n",
      "\n",
      "6. Preheat the oven and check for doneness: Make sure to preheat the oven to the specified temperature and bake the cake for the recommended time. Test for doneness by inserting a toothpick or cake tester into the center of the cake – if it comes out clean or with a few moist crumbs, the cake is done.\n",
      "\n",
      "7. Allow for proper cooling: Let the cakes cool in the pans for a few minutes before transferring to wire racks to cool completely. This helps prevent the cakes from collapsing or sticking to the racks.\n",
      "\n",
      "8. Frost or decorate as desired: Once cooled, you can frost the cake with your preferred frosting or decorate it as desired. Ensure the cake is completely cooled before frosting to prevent the frosting from melting.\n",
      "\n",
      "These tips should help you achieve a delicious and well-baked cake. Experiment with different recipes, flavors, and techniques to find your personal favorite. Happy baking!\n"
     ]
    }
   ],
   "source": [
    "a.ask(\"ask LLM what is the best way to make a cake?\")"
   ]
  },
  {
   "cell_type": "code",
   "execution_count": 7,
   "metadata": {},
   "outputs": [],
   "source": [
    "a.ask(\"Can you point me to some of the latest studies in cardio health?\")"
   ]
  },
  {
   "cell_type": "code",
   "execution_count": 8,
   "metadata": {},
   "outputs": [
    {
     "data": {
      "text/plain": [
       "[{'isError': False,\n",
       "  'output': {'llm': \"There are various ways to make a cake, and it ultimately depends on personal preference, dietary restrictions, and the type of cake you want to bake. However, here is a general approach to making a cake:\\n\\n1. Gather ingredients: Common cake ingredients include flour, sugar, eggs, butter or oil, baking powder, milk or buttermilk, and flavorings like vanilla extract.\\n\\n2. Preheat the oven: Usually, cake recipes require preheating the oven to a specific temperature, so ensure you do this to bake the cake evenly.\\n\\n3. Prepare the cake pans: Grease and flour the cake pans to prevent sticking. You can also line the bottoms with parchment paper for easy removal after baking.\\n\\n4. Combine dry ingredients: Whisk together the flour, baking powder, and salt in a separate bowl.\\n\\n5. Cream butter and sugar: In a mixing bowl, beat the butter and sugar until light and fluffy. This helps create a soft and tender cake.\\n\\n6. Add eggs and flavorings: Beat in the eggs one at a time, ensuring each is fully incorporated. Add any desired flavorings, like vanilla extract or citrus zest.\\n\\n7. Alternate mixing: Gradually add the dry ingredients and the milk to the batter, starting and ending with the dry ingredients. This helps create a moist cake.\\n\\n8. Bake the cake: Divide the batter evenly between the prepared pans. Bake in the preheated oven for the specified time, or until a toothpick inserted into the center comes out clean.\\n\\n9. Cool and frost: Allow the cakes to cool in the pans for a few minutes, then transfer them onto wire racks to cool completely. Once cooled, you can frost the cake with your preferred frosting or decorate it as desired.\\n\\nRemember, this is a general guide, and specific cake recipes or dietary restrictions may require different methods or ingredients. It's always a good idea to follow a trusted recipe or consult a baking expert for more specific instructions.\",\n",
       "   'google_search': [{'url': 'https://www.fda.gov/files/food/published/Food-Labeling-Guide-%28PDF%29.pdf',\n",
       "     'headline': 'May 24 2011 Under FDAs laws and regulations FDA does not preapprove labels How do you declare the ingredients in a food when the food itself is'},\n",
       "    {'url': 'https://www.kitchenaid.com/pinch-of-help/stand-mixers/four-types-of-bread-leavening-agents.html',\n",
       "     'headline': 'How to Leaven Breads Cakes Cookies and Baked Goods Leavening adds volume to your baked goods whether youre baking bread cake or cookies The trapped air'},\n",
       "    {'url': 'https://hbr.org/1998/07/welcome-to-the-experience-economy',\n",
       "     'headline': 'As a vestige of the agrarian economy mothers made birthday cakes from scratch mixing farm commodities flour sugar butter and eggs that together cost'},\n",
       "    {'url': 'https://www.foodtimeline.org/foodcakes.html',\n",
       "     'headline': 'The types of ingredients used to make these cakes contributed to their symbolism History of bread and cakes includes baking methods symbolism'},\n",
       "    {'url': 'https://psu.pb.unizin.org/hmd329/chapter/chapter-6-standardized-recipes/',\n",
       "     'headline': 'Components of a standardized recipe Benefits of using standardized recipes Recipe yield Standard portions Kitchen Measurements Converting and adjusting'},\n",
       "    {'url': 'https://smittenkitchen.com/2008/09/moms-apple-cake/',\n",
       "     'headline': 'Sep 30 2008 Peel core and chop apples into 1inch chunksToss with cinnamon and 5 tablespoons sugar and set aside Stir together flour baking powder and'},\n",
       "    {'url': 'https://www.webstaurantstore.com/article/454/types-of-cooking-methods.html',\n",
       "     'headline': 'Nov 17 2020 Simmering Steaming Boiling Baking Grilling Roasting Sauteing Frying Broiling Braising Stewing Glossary 1 Moist Heat Cooking'},\n",
       "    {'url': 'https://www.moresteam.com/toolbox/design-of-experiments.cfm',\n",
       "     'headline': 'How do you produce the best tasting cake with the simplest recipe least number of ingredients and shortest baking time 5 Experiment Design Guidelines The'},\n",
       "    {'url': 'https://www.davidlebovitz.com/how-precise-do-recipes-need-to-be/',\n",
       "     'headline': 'Nov 16 2012 Cooking is an intuitive act and except for the pastry kitchen Ive rarely seen a restaurant cook peering into a cookbook while plating up food'},\n",
       "    {'url': 'https://www.oreilly.com/library/view/cooking-for-geeks/9781449389543/ch04.html',\n",
       "     'headline': 'And there are many different types of proteins in different foods For that steak to be cooked to at least medium rare you need to heat the meat such'}]},\n",
       "  'model_id': 'llm_google',\n",
       "  'dtype': dict},\n",
       " {'isError': False,\n",
       "  'output': [{'url': 'https://www.youtube.com/watch?v=uC7r9OtI0Xs',\n",
       "    'headline': 'Sep 28 2017 VIDEOS RECIPES REFERENCED How to Make the BestEver Buttercream Frosting httpbitlyButtercreamVid How to Substitute Eggs in'},\n",
       "   {'url': 'https://www.wordstream.com/blog/ws/2020/07/16/how-to-ask-for-reviews',\n",
       "    'headline': 'Jul 16 2020 For some businesses asking for a review immediately after their purchase makes sense while others may want to wait to give the customer time'},\n",
       "   {'url': 'https://support.google.com/googlenest/answer/7536723?hl=en',\n",
       "    'headline': 'Get a little help to remember things Ask Google Assistant to remember your moms favorite cake your bike locker number or the last place you stored your'},\n",
       "   {'url': 'https://www.bettycrocker.com/how-to/ask-betty/answer/how-can-make-white-cake-mix-into-chocolate/034bd80d-e180-5886-97f1-3556731d8e32',\n",
       "    'headline': 'Mar 16 2013 Add 14 cup of cocoa to the cake mix and add all other ingredients as directed I have attached another way of getting a chocolate cake using'},\n",
       "   {'url': 'https://support.google.com/assistant/answer/7536723?hl=en',\n",
       "    'headline': 'Get a little help to remember things Ask Google Assistant to remember your moms favorite cake your bike locker number or the last place you stored your'},\n",
       "   {'url': 'https://www.askchefdennis.com/jewish-apple-cake/',\n",
       "    'headline': 'Jun 7 2020 Cakes made with butter will taste better but for this cake oil is definitely a good choice How do I make a Jewish Apple Cake'},\n",
       "   {'url': 'https://www.bhg.com/recipes/how-to/bake/how-to-make-a-cake/',\n",
       "    'headline': 'Sep 26 2022 How to Bake a Cake Step 1 Prepare Baking Pans Step 2 Allow Ingredients to Reach Room Temperature Step 3 Preheat the Oven Step 4 Stir'},\n",
       "   {'url': 'https://food-hacks.wonderhowto.com/how-to/8-tricks-make-boxed-cake-mix-taste-like-homemade-0162021/',\n",
       "    'headline': 'May 19 2015 Ask ten different people how they feel about boxed cake mixes Mayo makes cake mix incredibly luscious and homemade tasting'},\n",
       "   {'url': 'https://www.instacart.com/company/ideas/how-to-make-box-cake-better/',\n",
       "    'headline': 'Jun 30 2023 Use butter instead of oil More often than not box cake recipes will ask that you add canola or vegetable oil Thats because theyre'},\n",
       "   {'url': 'https://lifestyleofafoodie.com/how-to-make-box-cake-taste-homemade/',\n",
       "    'headline': 'Oct 15 2021 These are the bestkept secrets to make your cake mix taste homemade Most cake mixes ask for water to be mixed in but instead of that'}],\n",
       "  'model_id': 'google_search',\n",
       "  'dtype': list},\n",
       " {'isError': False,\n",
       "  'output': 'The best way to make a cake ultimately depends on personal preference and the type of cake you want to bake. Some people prefer using butter for a richer flavor, while others opt for oil for a moist texture. Similarly, the choice of ingredients, such as using cake flour for a lighter crumb or all-purpose flour for a denser texture, can also vary.\\n\\nHowever, there are a few tips that can help improve your cake baking:\\n\\n1. Follow a trusted recipe: Using a reliable recipe ensures that the proportions and method are tested for successful results.\\n\\n2. Measure ingredients accurately: Use measuring cups and spoons to ensure precise measurements, especially for flour and leavening agents like baking powder.\\n\\n3. Cream butter and sugar thoroughly: Beating the butter and sugar together until light and fluffy incorporates air, resulting in a softer and tender crumb.\\n\\n4. Follow the mixing method: Gradually add dry and wet ingredients to the batter, alternating between the two. This ensures a smooth and well-incorporated batter.\\n\\n5. Prep your pans properly: Grease and flour the pans to prevent sticking or use parchment paper for easy release. This helps ensure that the cake bakes evenly and comes out of the pan easily.\\n\\n6. Preheat the oven and check for doneness: Make sure to preheat the oven to the specified temperature and bake the cake for the recommended time. Test for doneness by inserting a toothpick or cake tester into the center of the cake – if it comes out clean or with a few moist crumbs, the cake is done.\\n\\n7. Allow for proper cooling: Let the cakes cool in the pans for a few minutes before transferring to wire racks to cool completely. This helps prevent the cakes from collapsing or sticking to the racks.\\n\\n8. Frost or decorate as desired: Once cooled, you can frost the cake with your preferred frosting or decorate it as desired. Ensure the cake is completely cooled before frosting to prevent the frosting from melting.\\n\\nThese tips should help you achieve a delicious and well-baked cake. Experiment with different recipes, flavors, and techniques to find your personal favorite. Happy baking!',\n",
       "  'model_id': 'llm',\n",
       "  'dtype': str},\n",
       " {'isError': True,\n",
       "  'output': \"[Errno 2] No such file or directory: 'Can you point me to some of the latest studies in cardio health?'\",\n",
       "  'model_id': 'read_pdf',\n",
       "  'dtype': 'ERROR'}]"
      ]
     },
     "execution_count": 8,
     "metadata": {},
     "output_type": "execute_result"
    }
   ],
   "source": [
    "a.get_outputs()"
   ]
  }
 ],
 "metadata": {
  "kernelspec": {
   "display_name": "Python 3",
   "language": "python",
   "name": "python3"
  },
  "language_info": {
   "codemirror_mode": {
    "name": "ipython",
    "version": 3
   },
   "file_extension": ".py",
   "mimetype": "text/x-python",
   "name": "python",
   "nbconvert_exporter": "python",
   "pygments_lexer": "ipython3",
   "version": "3.10.12"
  },
  "orig_nbformat": 4
 },
 "nbformat": 4,
 "nbformat_minor": 2
}
