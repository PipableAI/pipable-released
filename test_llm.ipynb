{
 "cells": [
  {
   "cell_type": "code",
   "execution_count": 1,
   "metadata": {},
   "outputs": [
    {
     "name": "stderr",
     "output_type": "stream",
     "text": [
      "/home/raghav/.local/lib/python3.10/site-packages/tqdm/auto.py:21: TqdmWarning: IProgress not found. Please update jupyter and ipywidgets. See https://ipywidgets.readthedocs.io/en/stable/user_install.html\n",
      "  from .autonotebook import tqdm as notebook_tqdm\n"
     ]
    }
   ],
   "source": [
    "from pipable import Pipable"
   ]
  },
  {
   "cell_type": "code",
   "execution_count": 2,
   "metadata": {},
   "outputs": [],
   "source": [
    "a = Pipable(\"sample_data/configCSV.yaml\")"
   ]
  },
  {
   "cell_type": "code",
   "execution_count": 3,
   "metadata": {},
   "outputs": [
    {
     "name": "stderr",
     "output_type": "stream",
     "text": [
      "No GPU/TPU found, falling back to CPU. (Set TF_CPP_MIN_LOG_LEVEL=0 and rerun for more info.)\n"
     ]
    },
    {
     "name": "stdout",
     "output_type": "stream",
     "text": [
      "LLM: As an AI language model, I can provide a general answer to your question. The best way to make a cake can vary based on personal preferences and dietary restrictions, as well as the type of cake you are interested in. However, here is a basic guideline that can help you make a delicious cake:\n",
      "\n",
      "1. Gather your ingredients based on the recipe you choose. Basic ingredients for most cakes include flour, sugar, butter, eggs, baking powder/soda, salt, milk, and flavorings (e.g., vanilla extract).\n",
      "\n",
      "2. Preheat your oven to the required temperature stated in the recipe.\n",
      "\n",
      "3. Prepare your baking pans by greasing them lightly with butter or oil, and optionally flouring them to prevent sticking.\n",
      "\n",
      "4. In a mixing bowl, cream the butter and sugar together until light and fluffy. Then, add eggs one at a time, beating well after each addition.\n",
      "\n",
      "5. In a separate bowl, whisk together the dry ingredients (flour, baking powder/soda, and salt). Gradually add this mixture to the creamed mixture, alternating with the milk, starting and ending with the dry ingredients. Mix until just combined; avoid over-mixing.\n",
      "\n",
      "6. Add any desired flavorings, such as vanilla extract, and mix just until incorporated.\n",
      "\n",
      "7. Pour the batter evenly into the prepared pans and smooth the tops with a spatula.\n",
      "\n",
      "8. Place the pans in the preheated oven and bake for the time mentioned in the recipe. Avoid opening the oven door too often during baking to prevent heat loss.\n",
      "\n",
      "9. Check the cake's doneness by inserting a toothpick into the center; it should come out clean or with a few crumbs clinging to it. Be cautious not to overbake, as it can result in a dry cake.\n",
      "\n",
      "10. Once baked, remove the cakes from the oven and let them cool in the pans for around 10 minutes. Then, transfer them onto a wire rack to cool completely before frosting and decorating.\n",
      "\n",
      "Remember to consult specific cake recipes for more detailed instructions, as variations exist depending on the specific cake type you wish to make.\n",
      "Google search: As an AI language model, I can provide a general answer to your question. The best way to make a cake can vary based on personal preferences and dietary restrictions, as well as the type of cake you are interested in. However, here is a basic guideline that can help you make a delicious cake:\n",
      "\n",
      "1. Gather your ingredients based on the recipe you choose. Basic ingredients for most cakes include flour, sugar, butter, eggs, baking powder/soda, salt, milk, and flavorings (e.g., vanilla extract).\n",
      "\n",
      "2. Preheat your oven to the required temperature stated in the recipe.\n",
      "\n",
      "3. Prepare your baking pans by greasing them lightly with butter or oil, and optionally flouring them to prevent sticking.\n",
      "\n",
      "4. In a mixing bowl, cream the butter and sugar together until light and fluffy. Then, add eggs one at a time, beating well after each addition.\n",
      "\n",
      "5. In a separate bowl, whisk together the dry ingredients (flour, baking powder/soda, and salt). Gradually add this mixture to the creamed mixture, alternating with the milk, starting and ending with the dry ingredients. Mix until just combined; avoid over-mixing.\n",
      "\n",
      "6. Add any desired flavorings, such as vanilla extract, and mix just until incorporated.\n",
      "\n",
      "7. Pour the batter evenly into the prepared pans and smooth the tops with a spatula.\n",
      "\n",
      "8. Place the pans in the preheated oven and bake for the time mentioned in the recipe. Avoid opening the oven door too often during baking to prevent heat loss.\n",
      "\n",
      "9. Check the cake's doneness by inserting a toothpick into the center; it should come out clean or with a few crumbs clinging to it. Be cautious not to overbake, as it can result in a dry cake.\n",
      "\n",
      "10. Once baked, remove the cakes from the oven and let them cool in the pans for around 10 minutes. Then, transfer them onto a wire rack to cool completely before frosting and decorating.\n",
      "\n",
      "Remember to consult specific cake recipes for more detailed instructions, as variations exist depending on the specific cake type you wish to make.\n",
      "\n",
      "Link 1: https://www.pewresearch.org/internet/2018/12/10/improvements-ahead-how-humans-and-ai-might-evolve-together-in-the-next-decade/\n",
      "Result 1: Dec 10 2018 Artificial Intelligence and the Future of Humans What will humantechnology coevolution look like by 2030\n",
      "\n",
      "Link 2: http://collegeadmissions.uchicago.edu/apply/uchicago-supplemental-essay-questions\n",
      "Result 2: As you can see from the attributions the questions below were inspired by Pick a question from a song title or lyric and give it your best answer\n",
      "\n",
      "Link 3: https://monkeylearn.com/sentiment-analysis/\n",
      "Result 3: Sentiment analysis focuses on the polarity of a text positive negative neutral but it also goes beyond polarity to detect specific feelings and emotions\n",
      "\n",
      "Link 4: https://www.epa.gov/recycle/frequent-questions-recycling\n",
      "Result 4: May 29 2023 On this page Recycling 101 Plastic Bags Wrap film and Sacks Food and Drink Containers Other Garbage Household Hazardous Waste Recycling\n",
      "\n",
      "Link 5: https://web.cn.edu/kwheeler/fallacies_list.html\n",
      "Result 5: Appeal to Force Argumentum Ad Baculum or the MightMakesRight Fallacy This argument uses force the threat of force or some other unpleasant backlash to\n",
      "\n",
      "Link 6: https://www.betterhealth.vic.gov.au/health/healthyliving/weight-loss-and-fad-diets\n",
      "Result 6: Its not difficult to change your lifestyle to help you maintain a healthy weight A healthy eating plan will help you feel better and give you more energy\n",
      "\n",
      "Link 7: https://files.eric.ed.gov/fulltext/ED375288.pdf\n",
      "Result 7: economics teachers in implementing the nutrition and wellness course spent on each module will vary during an 18week course according to the students\n",
      "\n",
      "Link 8: https://www.analyticsvidhya.com/blog/2017/02/lintroductory-guide-on-linear-programming-explained-in-simple-english/\n",
      "Result 8: Feb 28 2017 It involves finding the optimal solution to a problem that involves linear relationships between the decision variables and the constraints\n",
      "\n",
      "Link 9: https://health.gov/sites/default/files/2019-09/2015-2020_Dietary_Guidelines.pdf\n",
      "Result 9: guidance that can be relied upon to help Americans choose a healthy eating pattern and enjoyable diet We believe that aligning with the\n",
      "\n",
      "Link 10: https://www.cmu.edu/teaching/designteach/teach/firstday.html\n",
      "Result 10: Before you even start teaching your students will have already made some can make decisions about what kind of course yours will be by the way the\n"
     ]
    }
   ],
   "source": [
    "a.ask(\"ask LLM and google what is the best way to make a cake?\")"
   ]
  },
  {
   "cell_type": "code",
   "execution_count": 4,
   "metadata": {},
   "outputs": [
    {
     "name": "stdout",
     "output_type": "stream",
     "text": [
      "Google search: ask google what is the best way to make a cake?\n",
      "\n",
      "Link 1: https://www.youtube.com/watch?v=uC7r9OtI0Xs\n",
      "Result 1: Sep 28 2017 3Layer Cake Made in the Microwave Gemmas Bigger Bolder Baking RECIPES REFERENCED How to Make the BestEver Buttercream Frosting\n",
      "\n",
      "Link 2: https://support.google.com/googlenest/answer/7536723?hl=en\n",
      "Result 2: Get a little help to remember things Ask Google Assistant to remember your moms favorite cake your bike locker number or the last place you stored your\n",
      "\n",
      "Link 3: https://www.wordstream.com/blog/ws/2020/07/16/how-to-ask-for-reviews\n",
      "Result 3: Jul 16 2020 For some businesses asking for a review immediately after their purchase makes sense while others may want to wait to give the customer time\n",
      "\n",
      "Link 4: https://support.google.com/assistant/answer/7536723?hl=en\n",
      "Result 4: Get a little help to remember things Ask Google Assistant to remember your moms favorite cake your bike locker number or the last place you stored your\n",
      "\n",
      "Link 5: https://www.instacart.com/company/ideas/how-to-make-box-cake-better/\n",
      "Result 5: Jun 30 2023 Use butter instead of oil More often than not box cake recipes will ask that you add canola or vegetable oil Thats because theyre\n",
      "\n",
      "Link 6: https://www.bettycrocker.com/how-to/ask-betty/answer/how-can-make-white-cake-mix-into-chocolate/034bd80d-e180-5886-97f1-3556731d8e32\n",
      "Result 6: Mar 16 2013 Add 14 cup of cocoa to the cake mix and add all other ingredients as directed I have attached another way of getting a chocolate cake using\n",
      "\n",
      "Link 7: https://www.bhg.com/recipes/how-to/bake/how-to-make-a-cake/\n",
      "Result 7: Sep 26 2022 How to Bake a Cake Step 1 Prepare Baking Pans Step 2 Allow Ingredients to Reach Room Temperature Step 3 Preheat the Oven Step 4 Stir\n",
      "\n",
      "Link 8: https://www.bettycrocker.com/how-to/ask-betty/answer/how-to-make-cake-denser/cf46a673-da02-4614-a857-6cf9af29bf3d\n",
      "Result 8: Jan 4 2015 That is a great question There are several ways to modify a boxed cake mix to make it more dense You can try any of the following adding a 1\n",
      "\n",
      "Link 9: https://food-hacks.wonderhowto.com/how-to/8-tricks-make-boxed-cake-mix-taste-like-homemade-0162021/\n",
      "Result 9: May 19 2015 Ask ten different people how they feel about boxed cake mixes Mayo makes cake mix incredibly luscious and homemade tasting\n",
      "\n",
      "Link 10: https://www.askchefdennis.com/jewish-apple-cake/\n",
      "Result 10: Jun 7 2020 Cakes made with butter will taste better but for this cake oil is definitely a good choice How do I make a Jewish Apple Cake\n"
     ]
    }
   ],
   "source": [
    "a.ask(\"ask google what is the best way to make a cake?\")"
   ]
  },
  {
   "cell_type": "code",
   "execution_count": 5,
   "metadata": {},
   "outputs": [
    {
     "name": "stdout",
     "output_type": "stream",
     "text": [
      "LLM: The best way to make a cake can vary based on personal preferences and dietary restrictions, as well as the type of cake you are interested in. However, here is a basic guideline that can help you make a delicious cake:\n",
      "\n",
      "1. Gather your ingredients based on the recipe you choose. Basic ingredients for most cakes include flour, sugar, butter, eggs, baking powder/soda, salt, milk, and flavorings (e.g., vanilla extract).\n",
      "\n",
      "2. Preheat your oven to the required temperature stated in the recipe.\n",
      "\n",
      "3. Prepare your baking pans by greasing them lightly with butter or oil, and optionally flouring them to prevent sticking.\n",
      "\n",
      "4. In a mixing bowl, cream the butter and sugar together until light and fluffy. Then, add eggs one at a time, beating well after each addition.\n",
      "\n",
      "5. In a separate bowl, whisk together the dry ingredients (flour, baking powder/soda, and salt). Gradually add this mixture to the creamed mixture, alternating with the milk, starting and ending with the dry ingredients. Mix until just combined; avoid over-mixing.\n",
      "\n",
      "6. Add any desired flavorings, such as vanilla extract, and mix just until incorporated.\n",
      "\n",
      "7. Pour the batter evenly into the prepared pans and smooth the tops with a spatula.\n",
      "\n",
      "8. Place the pans in the preheated oven and bake for the time mentioned in the recipe. Avoid opening the oven door too often during baking to prevent heat loss.\n",
      "\n",
      "9. Check the cake's doneness by inserting a toothpick into the center; it should come out clean or with a few crumbs clinging to it. Be cautious not to overbake, as it can result in a dry cake.\n",
      "\n",
      "10. Once baked, remove the cakes from the oven and let them cool in the pans for around 10 minutes. Then, transfer them onto a wire rack to cool completely before frosting and decorating.\n",
      "\n",
      "Remember to consult specific cake recipes for more detailed instructions, as variations exist depending on the specific cake type you wish to make.\n"
     ]
    }
   ],
   "source": [
    "a.ask(\"ask LLM what is the best way to make a cake?\")"
   ]
  }
 ],
 "metadata": {
  "kernelspec": {
   "display_name": "Python 3",
   "language": "python",
   "name": "python3"
  },
  "language_info": {
   "codemirror_mode": {
    "name": "ipython",
    "version": 3
   },
   "file_extension": ".py",
   "mimetype": "text/x-python",
   "name": "python",
   "nbconvert_exporter": "python",
   "pygments_lexer": "ipython3",
   "version": "3.10.12"
  },
  "orig_nbformat": 4
 },
 "nbformat": 4,
 "nbformat_minor": 2
}
