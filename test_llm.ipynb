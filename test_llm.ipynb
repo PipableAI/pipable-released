{
 "cells": [
  {
   "cell_type": "code",
   "execution_count": 1,
   "metadata": {},
   "outputs": [
    {
     "name": "stderr",
     "output_type": "stream",
     "text": [
      "/home/raghav/.local/lib/python3.10/site-packages/tqdm/auto.py:21: TqdmWarning: IProgress not found. Please update jupyter and ipywidgets. See https://ipywidgets.readthedocs.io/en/stable/user_install.html\n",
      "  from .autonotebook import tqdm as notebook_tqdm\n"
     ]
    }
   ],
   "source": [
    "from pipable import Pipable"
   ]
  },
  {
   "cell_type": "code",
   "execution_count": 2,
   "metadata": {},
   "outputs": [
    {
     "name": "stderr",
     "output_type": "stream",
     "text": [
      "[2023-08-05 01:51:15,216][PIP_POSTGRES][INFO] Successfully initalized with postgres/alyf\n",
      "[2023-08-05 01:51:18,716][PIP_POSTGRES][INFO] Schema retrieved - with 63 rows\n",
      "[2023-08-05 01:51:18,718][PIP_MAIN][INFO] Pipable class instantiated from sample_data/configPG_alyf.yaml\n"
     ]
    }
   ],
   "source": [
    "a = Pipable(\"sample_data/configPG_alyf.yaml\")"
   ]
  },
  {
   "cell_type": "code",
   "execution_count": 3,
   "metadata": {},
   "outputs": [
    {
     "name": "stderr",
     "output_type": "stream",
     "text": [
      "No GPU/TPU found, falling back to CPU. (Set TF_CPP_MIN_LOG_LEVEL=0 and rerun for more info.)\n"
     ]
    },
    {
     "name": "stderr",
     "output_type": "stream",
     "text": [
      "[2023-08-05 01:51:19,086][PIP_MAIN][INFO] Sem search resolved query to expert model llm (score of 0)\n"
     ]
    },
    {
     "name": "stdout",
     "output_type": "stream",
     "text": [
      "LLM: Faber-Castell is a German manufacturer of office and art supplies. It is known for producing high-quality writing instruments, including pencils, pens, and markers. Faber-Castell also offers a range of art materials, such as colored pencils, watercolor paints, and brushes. The company has a long history dating back to 1761 and is known for its focus on sustainability and environmental responsibility. Faber-Castell products are widely used by artists, students, and professionals around the world.\n"
     ]
    }
   ],
   "source": [
    "x = a.ask(\"ask LLM - what is faber castle?\")"
   ]
  },
  {
   "cell_type": "code",
   "execution_count": 4,
   "metadata": {},
   "outputs": [
    {
     "data": {
      "text/plain": [
       "({'isError': False,\n",
       "  'output': 'Faber-Castell is a German manufacturer of office and art supplies. It is known for producing high-quality writing instruments, including pencils, pens, and markers. Faber-Castell also offers a range of art materials, such as colored pencils, watercolor paints, and brushes. The company has a long history dating back to 1761 and is known for its focus on sustainability and environmental responsibility. Faber-Castell products are widely used by artists, students, and professionals around the world.',\n",
       "  'model_id': 'llm',\n",
       "  'dtype': str},)"
      ]
     },
     "execution_count": 4,
     "metadata": {},
     "output_type": "execute_result"
    }
   ],
   "source": [
    "x"
   ]
  },
  {
   "cell_type": "code",
   "execution_count": 5,
   "metadata": {},
   "outputs": [
    {
     "name": "stderr",
     "output_type": "stream",
     "text": [
      "[2023-08-05 01:51:22,294][PIP_MAIN][INFO] Sem search resolved query to expert model llm (score of 0)\n"
     ]
    },
    {
     "name": "stdout",
     "output_type": "stream",
     "text": [
      "LLM: Staedtler is a German manufacturer of writing instruments and stationery products. Similar to Faber-Castell, Staedtler is well-known for producing high-quality pencils, pens, and markers. The company also offers a range of other products, including erasers, rulers, and compasses. Staedtler has been in operation since 1835 and is recognized for its commitment to innovation, precision, and durability. Like Faber-Castell, Staedtler products are popular among artists, students, and professionals worldwide.\n"
     ]
    }
   ],
   "source": [
    "y = a.ask(\"ask LLM - what is steadler?\")"
   ]
  },
  {
   "cell_type": "code",
   "execution_count": 6,
   "metadata": {},
   "outputs": [
    {
     "data": {
      "text/plain": [
       "({'isError': False,\n",
       "  'output': 'Staedtler is a German manufacturer of writing instruments and stationery products. Similar to Faber-Castell, Staedtler is well-known for producing high-quality pencils, pens, and markers. The company also offers a range of other products, including erasers, rulers, and compasses. Staedtler has been in operation since 1835 and is recognized for its commitment to innovation, precision, and durability. Like Faber-Castell, Staedtler products are popular among artists, students, and professionals worldwide.',\n",
       "  'model_id': 'llm',\n",
       "  'dtype': str},)"
      ]
     },
     "execution_count": 6,
     "metadata": {},
     "output_type": "execute_result"
    }
   ],
   "source": [
    "y"
   ]
  },
  {
   "cell_type": "code",
   "execution_count": 7,
   "metadata": {},
   "outputs": [
    {
     "name": "stderr",
     "output_type": "stream",
     "text": [
      "[2023-08-05 01:51:25,240][PIP_MAIN][INFO] Sem search resolved query to expert model llm_google (score of 1)\n"
     ]
    },
    {
     "name": "stdout",
     "output_type": "stream",
     "text": [
      "LLM: According to available information from LLM and Google, there are a few differences between Faber-Castell and Staedtler:\n",
      "\n",
      "1. History and age: Faber-Castell has a longer history, dating back to 1761, while Staedtler was established in 1835. This makes Faber-Castell one of the oldest manufacturers of office and art supplies in the world.\n",
      "\n",
      "2. Focus on sustainability: Faber-Castell is well-known for its commitment to sustainability and environmental responsibility. They have various initiatives in place to minimize their ecological impact, such as using sustainable materials and promoting reforestation. Staedtler, on the other hand, doesn't mention sustainability as prominently in their official statements.\n",
      "\n",
      "3. Product range: While both companies produce writing instruments and stationery products, there may be differences in their specific product offerings. Faber-Castell is particularly known for its extensive range of art materials, such as colored pencils, watercolor paints, and brushes. Staedtler, on the other hand, may focus more prominently on writing instruments like pens and pencils.\n",
      "\n",
      "4. Marketing and branding: Both companies have strong reputations for producing high-quality writing instruments, but they may have different marketing strategies and target markets. Faber-Castell often emphasizes their long history and premium craftsmanship, which may appeal to artists and professionals. Staedtler, on the other hand, may focus more on precision and innovation in their branding.\n",
      "\n",
      "It's important to note that the specific differences may vary, and for comprehensive and accurate information, it is recommended to refer to the official websites or contact the companies directly.\n",
      "Google search: According to available information from LLM and Google, there are a few differences between Faber-Castell and Staedtler:\n",
      "\n",
      "1. History and age: Faber-Castell has a longer history, dating back to 1761, while Staedtler was established in 1835. This makes Faber-Castell one of the oldest manufacturers of office and art supplies in the world.\n",
      "\n",
      "2. Focus on sustainability: Faber-Castell is well-known for its commitment to sustainability and environmental responsibility. They have various initiatives in place to minimize their ecological impact, such as using sustainable materials and promoting reforestation. Staedtler, on the other hand, doesn't mention sustainability as prominently in their official statements.\n",
      "\n",
      "3. Product range: While both companies produce writing instruments and stationery products, there may be differences in their specific product offerings. Faber-Castell is particularly known for its extensive range of art materials, such as colored pencils, watercolor paints, and brushes. Staedtler, on the other hand, may focus more prominently on writing instruments like pens and pencils.\n",
      "\n",
      "4. Marketing and branding: Both companies have strong reputations for producing high-quality writing instruments, but they may have different marketing strategies and target markets. Faber-Castell often emphasizes their long history and premium craftsmanship, which may appeal to artists and professionals. Staedtler, on the other hand, may focus more on precision and innovation in their branding.\n",
      "\n",
      "It's important to note that the specific differences may vary, and for comprehensive and accurate information, it is recommended to refer to the official websites or contact the companies directly.\n",
      "\n",
      "Link 1: https://nlp.biu.ac.il/~ravfogs/resources/embeddings-alignment/glove_vocab.250k.txt\n",
      "Result 1: do he more if one has so about new what his there up out their our like number company few 7 price ca between days book 0 name view found ago\n"
     ]
    }
   ],
   "source": [
    "z = a.ask(\"ask LLM and google - what is the difference between the two?\")"
   ]
  },
  {
   "cell_type": "code",
   "execution_count": 8,
   "metadata": {},
   "outputs": [
    {
     "data": {
      "text/plain": [
       "({'isError': False,\n",
       "  'output': \"According to available information from LLM and Google, there are a few differences between Faber-Castell and Staedtler:\\n\\n1. History and age: Faber-Castell has a longer history, dating back to 1761, while Staedtler was established in 1835. This makes Faber-Castell one of the oldest manufacturers of office and art supplies in the world.\\n\\n2. Focus on sustainability: Faber-Castell is well-known for its commitment to sustainability and environmental responsibility. They have various initiatives in place to minimize their ecological impact, such as using sustainable materials and promoting reforestation. Staedtler, on the other hand, doesn't mention sustainability as prominently in their official statements.\\n\\n3. Product range: While both companies produce writing instruments and stationery products, there may be differences in their specific product offerings. Faber-Castell is particularly known for its extensive range of art materials, such as colored pencils, watercolor paints, and brushes. Staedtler, on the other hand, may focus more prominently on writing instruments like pens and pencils.\\n\\n4. Marketing and branding: Both companies have strong reputations for producing high-quality writing instruments, but they may have different marketing strategies and target markets. Faber-Castell often emphasizes their long history and premium craftsmanship, which may appeal to artists and professionals. Staedtler, on the other hand, may focus more on precision and innovation in their branding.\\n\\nIt's important to note that the specific differences may vary, and for comprehensive and accurate information, it is recommended to refer to the official websites or contact the companies directly.\",\n",
       "  'model_id': 'llm',\n",
       "  'dtype': str},\n",
       " {'isError': False,\n",
       "  'output': [{'url': 'https://nlp.biu.ac.il/~ravfogs/resources/embeddings-alignment/glove_vocab.250k.txt',\n",
       "    'headline': 'do he more if one has so about new what his there up out their our like number company few 7 price ca between days book 0 name view found ago'}],\n",
       "  'model_id': 'google_search',\n",
       "  'dtype': list})"
      ]
     },
     "execution_count": 8,
     "metadata": {},
     "output_type": "execute_result"
    }
   ],
   "source": [
    "z"
   ]
  }
 ],
 "metadata": {
  "kernelspec": {
   "display_name": "Python 3",
   "language": "python",
   "name": "python3"
  },
  "language_info": {
   "codemirror_mode": {
    "name": "ipython",
    "version": 3
   },
   "file_extension": ".py",
   "mimetype": "text/x-python",
   "name": "python",
   "nbconvert_exporter": "python",
   "pygments_lexer": "ipython3",
   "version": "3.10.12"
  },
  "orig_nbformat": 4
 },
 "nbformat": 4,
 "nbformat_minor": 2
}
