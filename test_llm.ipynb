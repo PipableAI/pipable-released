{
 "cells": [
  {
   "cell_type": "code",
   "execution_count": 1,
   "metadata": {},
   "outputs": [
    {
     "name": "stderr",
     "output_type": "stream",
     "text": [
      "/home/raghav/.local/lib/python3.10/site-packages/tqdm/auto.py:21: TqdmWarning: IProgress not found. Please update jupyter and ipywidgets. See https://ipywidgets.readthedocs.io/en/stable/user_install.html\n",
      "  from .autonotebook import tqdm as notebook_tqdm\n"
     ]
    }
   ],
   "source": [
    "from pipable import Pipable"
   ]
  },
  {
   "cell_type": "code",
   "execution_count": 2,
   "metadata": {},
   "outputs": [
    {
     "name": "stderr",
     "output_type": "stream",
     "text": [
      "[2023-08-04 20:30:50,045][PIP_POSTGRES][INFO] Successfully initalized with postgres/alyf\n",
      "[2023-08-04 20:30:52,741][PIP_POSTGRES][INFO] Schema retrieved - with 63 rows\n",
      "[2023-08-04 20:30:52,742][PIP_MAIN][INFO] Pipable class instantiated from sample_data/configPG_alyf.yaml\n"
     ]
    }
   ],
   "source": [
    "a = Pipable(\"sample_data/configPG_alyf.yaml\")"
   ]
  },
  {
   "cell_type": "code",
   "execution_count": 3,
   "metadata": {},
   "outputs": [
    {
     "name": "stderr",
     "output_type": "stream",
     "text": [
      "No GPU/TPU found, falling back to CPU. (Set TF_CPP_MIN_LOG_LEVEL=0 and rerun for more info.)\n"
     ]
    },
    {
     "name": "stderr",
     "output_type": "stream",
     "text": [
      "[2023-08-04 20:30:52,865][PIP_MAIN][INFO] Sem search resolved query to expert model llm (score of 0)\n"
     ]
    },
    {
     "name": "stdout",
     "output_type": "stream",
     "text": [
      "LLM: Faber-Castell is a German brand known for manufacturing high-quality writing instruments and art supplies. It was founded in 1761 and is one of the world's oldest and largest manufacturers of pencils. Faber-Castell produces a wide range of products, including graphite pencils, colored pencils, markers, pens, and various art materials. The brand is recognized for its commitment to sustainability and offers eco-friendly options such as pencils made from sustainably sourced wood and water-based markers.\n"
     ]
    }
   ],
   "source": [
    "x = a.ask(\"ask LLM - what is faber castle?\")"
   ]
  },
  {
   "cell_type": "code",
   "execution_count": 8,
   "metadata": {},
   "outputs": [
    {
     "data": {
      "text/plain": [
       "{'isError': False,\n",
       " 'output': \"Faber-Castell is a German brand known for manufacturing high-quality writing instruments and art supplies. It was founded in 1761 and is one of the world's oldest and largest manufacturers of pencils. Faber-Castell produces a wide range of products, including graphite pencils, colored pencils, markers, pens, and various art materials. The brand is recognized for its commitment to sustainability and offers eco-friendly options such as pencils made from sustainably sourced wood and water-based markers.\",\n",
       " 'model_id': 'llm',\n",
       " 'dtype': str}"
      ]
     },
     "execution_count": 8,
     "metadata": {},
     "output_type": "execute_result"
    }
   ],
   "source": [
    "x"
   ]
  },
  {
   "cell_type": "code",
   "execution_count": 4,
   "metadata": {},
   "outputs": [
    {
     "name": "stderr",
     "output_type": "stream",
     "text": [
      "[2023-08-04 20:30:56,953][PIP_MAIN][INFO] Sem search resolved query to expert model llm (score of 0)\n"
     ]
    },
    {
     "name": "stdout",
     "output_type": "stream",
     "text": [
      "LLM: Staedtler is another German brand that specializes in manufacturing writing instruments and art supplies. It was founded in 1835 and is also known for its high-quality products. Staedtler offers a wide range of items, including pencils, pens, markers, highlighters, and various drawing instruments. The brand is well-regarded for its precision and innovation in writing and drawing tools.\n"
     ]
    }
   ],
   "source": [
    "y = a.ask(\"ask LLM - what is steadler?\")"
   ]
  },
  {
   "cell_type": "code",
   "execution_count": 7,
   "metadata": {},
   "outputs": [
    {
     "data": {
      "text/plain": [
       "{'isError': False,\n",
       " 'output': 'Staedtler is another German brand that specializes in manufacturing writing instruments and art supplies. It was founded in 1835 and is also known for its high-quality products. Staedtler offers a wide range of items, including pencils, pens, markers, highlighters, and various drawing instruments. The brand is well-regarded for its precision and innovation in writing and drawing tools.',\n",
       " 'model_id': 'llm',\n",
       " 'dtype': str}"
      ]
     },
     "execution_count": 7,
     "metadata": {},
     "output_type": "execute_result"
    }
   ],
   "source": [
    "y"
   ]
  },
  {
   "cell_type": "code",
   "execution_count": 5,
   "metadata": {},
   "outputs": [
    {
     "name": "stderr",
     "output_type": "stream",
     "text": [
      "[2023-08-04 20:30:59,842][PIP_MAIN][INFO] Sem search resolved query to expert model llm_google (score of 1)\n"
     ]
    },
    {
     "name": "stdout",
     "output_type": "stream",
     "text": [
      "LLM: Faber-Castell and Staedtler are both German brands that specialize in manufacturing writing instruments and art supplies. While they have some similarities, there are a few key differences between the two:\n",
      "\n",
      "1. History: Faber-Castell has a longer history, as it was founded in 1761, making it one of the world's oldest pencil manufacturers. On the other hand, Staedtler was founded in 1835.\n",
      "\n",
      "2. Range of Products: Both brands offer a wide range of products, including pencils, pens, markers, and other art materials. However, Faber-Castell is particularly known for its extensive line of colored pencils, with a wide variety of colors and sets available. Staedtler, on the other hand, is known for its precision and innovation in writing and drawing tools, such as its fine liners and mechanical pencils.\n",
      "\n",
      "3. Sustainability: Both Faber-Castell and Staedtler have a commitment to sustainability. Faber-Castell offers eco-friendly options such as pencils made from sustainably sourced wood and water-based markers. Staedtler also focuses on sustainability by implementing environmentally friendly production processes and using recycled materials in their products.\n",
      "\n",
      "4. Brand Recognition: Faber-Castell is perhaps more widely recognized as a premium brand for art supplies. It is known for its high-quality and reliable products. Staedtler also enjoys a strong reputation for quality, particularly in its writing instruments.\n",
      "\n",
      "Ultimately, the choice between Faber-Castell and Staedtler may come down to personal preference and specific needs. Both brands have a long history and offer a variety of high-quality products, so it's worth considering factors like product range, specific requirements, and individual brand preferences when making a decision.\n",
      "Google search: Faber-Castell and Staedtler are both German brands that specialize in manufacturing writing instruments and art supplies. While they have some similarities, there are a few key differences between the two:\n",
      "\n",
      "1. History: Faber-Castell has a longer history, as it was founded in 1761, making it one of the world's oldest pencil manufacturers. On the other hand, Staedtler was founded in 1835.\n",
      "\n",
      "2. Range of Products: Both brands offer a wide range of products, including pencils, pens, markers, and other art materials. However, Faber-Castell is particularly known for its extensive line of colored pencils, with a wide variety of colors and sets available. Staedtler, on the other hand, is known for its precision and innovation in writing and drawing tools, such as its fine liners and mechanical pencils.\n",
      "\n",
      "3. Sustainability: Both Faber-Castell and Staedtler have a commitment to sustainability. Faber-Castell offers eco-friendly options such as pencils made from sustainably sourced wood and water-based markers. Staedtler also focuses on sustainability by implementing environmentally friendly production processes and using recycled materials in their products.\n",
      "\n",
      "4. Brand Recognition: Faber-Castell is perhaps more widely recognized as a premium brand for art supplies. It is known for its high-quality and reliable products. Staedtler also enjoys a strong reputation for quality, particularly in its writing instruments.\n",
      "\n",
      "Ultimately, the choice between Faber-Castell and Staedtler may come down to personal preference and specific needs. Both brands have a long history and offer a variety of high-quality products, so it's worth considering factors like product range, specific requirements, and individual brand preferences when making a decision.\n",
      "\n",
      "Link 1: https://en.wikipedia.org/wiki/Faber-Castell\n",
      "Result 1: FaberCastell AG is a manufacturer of pens pencils other office supplies and art supplies as well as highend writing instruments and luxury leather\n",
      "\n",
      "Link 2: https://www.parisiangentleman.com/blog/a-comprehensive-review-of-writing-instruments-pens-by-parisian-gentleman\n",
      "Result 2: Jul 12 2016 Weve found several brands to be particularly remarkable ST Dupont Visconti Montegrappa Graf von Faber Castell Montblanc Caran dAche\n",
      "\n",
      "Link 3: https://bleistift.blog/2010/08/eberhard-faber-lederetui/\n",
      "Result 3: Aug 9 2010 those that you would find in most shops in Germany ie mainly Staedtler FaberCastell and for mechanical pencils the common Japanese brands\n",
      "\n",
      "Link 4: https://www.thestudiomanager.com/posts/colored-pencil-buyers-guide\n",
      "Result 4: Feb 6 2021 A comprehensive review and guide covering artistgrade and lightfast colored pencils including top brands such as Caran DAche Derwent\n",
      "\n",
      "Link 5: https://www.interwell.cn/best-pencil-brands-of-2023-a-comprehensive-guide\n",
      "Result 5: Elevate your stationery business with insights from our ultimate guide to the pencil industry Learn about the best materials features and top brands\n",
      "\n",
      "Link 6: https://paperndigital.blogspot.com/2020/\n",
      "Result 6: Dec 26 2020 A blog with and about stationary writing instruments reviews of mechanical pencils fountain pens and much more\n",
      "\n",
      "Link 7: https://www.verifiedmarketresearch.com/blog/top-pencil-manufacturers/\n",
      "Result 7: Aug 2 2021 FaberCastell is a leading producer of writing materials and art supplies They operate in various categories like pencil pen marker and\n",
      "\n",
      "Link 8: https://penvibe.com/the-wooden-pencil-brands-ultimate-guide/\n",
      "Result 8: Feb 8 2021 They have a longchequered history dating back to the 1930s when Edward Faber launched the first 602 pencils In 1998 in what is probably one of\n",
      "\n",
      "Link 9: https://www.hamiltonpens.com/blogs/articles/faber-castell-pens-pencils-and-a-whole-lot-of-history\n",
      "Result 9: This one goes out to all the PENthusiastcumhistorians Many of us have come across the rich and dynamic histories of the luxury pen powerhouses\n",
      "\n",
      "Link 10: https://www.fabercastell.com/blogs/creativity-for-life/graphite-pencil-lead-degree-hardness\n",
      "Result 10: Apr 20 2021 Your graphite pencil lead guide As the worlds largest pencil manufacturer FaberCastell has developed an expertise in graphite pencils\n"
     ]
    }
   ],
   "source": [
    "z = a.ask(\"ask LLM and google - what is the difference between the two?\")"
   ]
  },
  {
   "cell_type": "code",
   "execution_count": 6,
   "metadata": {},
   "outputs": [
    {
     "data": {
      "text/plain": [
       "({'isError': False,\n",
       "  'output': \"Faber-Castell and Staedtler are both German brands that specialize in manufacturing writing instruments and art supplies. While they have some similarities, there are a few key differences between the two:\\n\\n1. History: Faber-Castell has a longer history, as it was founded in 1761, making it one of the world's oldest pencil manufacturers. On the other hand, Staedtler was founded in 1835.\\n\\n2. Range of Products: Both brands offer a wide range of products, including pencils, pens, markers, and other art materials. However, Faber-Castell is particularly known for its extensive line of colored pencils, with a wide variety of colors and sets available. Staedtler, on the other hand, is known for its precision and innovation in writing and drawing tools, such as its fine liners and mechanical pencils.\\n\\n3. Sustainability: Both Faber-Castell and Staedtler have a commitment to sustainability. Faber-Castell offers eco-friendly options such as pencils made from sustainably sourced wood and water-based markers. Staedtler also focuses on sustainability by implementing environmentally friendly production processes and using recycled materials in their products.\\n\\n4. Brand Recognition: Faber-Castell is perhaps more widely recognized as a premium brand for art supplies. It is known for its high-quality and reliable products. Staedtler also enjoys a strong reputation for quality, particularly in its writing instruments.\\n\\nUltimately, the choice between Faber-Castell and Staedtler may come down to personal preference and specific needs. Both brands have a long history and offer a variety of high-quality products, so it's worth considering factors like product range, specific requirements, and individual brand preferences when making a decision.\",\n",
       "  'model_id': 'llm',\n",
       "  'dtype': str},\n",
       " {'isError': False,\n",
       "  'output': [{'url': 'https://en.wikipedia.org/wiki/Faber-Castell',\n",
       "    'headline': 'FaberCastell AG is a manufacturer of pens pencils other office supplies and art supplies as well as highend writing instruments and luxury leather'},\n",
       "   {'url': 'https://www.parisiangentleman.com/blog/a-comprehensive-review-of-writing-instruments-pens-by-parisian-gentleman',\n",
       "    'headline': 'Jul 12 2016 Weve found several brands to be particularly remarkable ST Dupont Visconti Montegrappa Graf von Faber Castell Montblanc Caran dAche'},\n",
       "   {'url': 'https://bleistift.blog/2010/08/eberhard-faber-lederetui/',\n",
       "    'headline': 'Aug 9 2010 those that you would find in most shops in Germany ie mainly Staedtler FaberCastell and for mechanical pencils the common Japanese brands'},\n",
       "   {'url': 'https://www.thestudiomanager.com/posts/colored-pencil-buyers-guide',\n",
       "    'headline': 'Feb 6 2021 A comprehensive review and guide covering artistgrade and lightfast colored pencils including top brands such as Caran DAche Derwent'},\n",
       "   {'url': 'https://www.interwell.cn/best-pencil-brands-of-2023-a-comprehensive-guide',\n",
       "    'headline': 'Elevate your stationery business with insights from our ultimate guide to the pencil industry Learn about the best materials features and top brands'},\n",
       "   {'url': 'https://paperndigital.blogspot.com/2020/',\n",
       "    'headline': 'Dec 26 2020 A blog with and about stationary writing instruments reviews of mechanical pencils fountain pens and much more'},\n",
       "   {'url': 'https://www.verifiedmarketresearch.com/blog/top-pencil-manufacturers/',\n",
       "    'headline': 'Aug 2 2021 FaberCastell is a leading producer of writing materials and art supplies They operate in various categories like pencil pen marker and'},\n",
       "   {'url': 'https://penvibe.com/the-wooden-pencil-brands-ultimate-guide/',\n",
       "    'headline': 'Feb 8 2021 They have a longchequered history dating back to the 1930s when Edward Faber launched the first 602 pencils In 1998 in what is probably one of'},\n",
       "   {'url': 'https://www.hamiltonpens.com/blogs/articles/faber-castell-pens-pencils-and-a-whole-lot-of-history',\n",
       "    'headline': 'This one goes out to all the PENthusiastcumhistorians Many of us have come across the rich and dynamic histories of the luxury pen powerhouses'},\n",
       "   {'url': 'https://www.fabercastell.com/blogs/creativity-for-life/graphite-pencil-lead-degree-hardness',\n",
       "    'headline': 'Apr 20 2021 Your graphite pencil lead guide As the worlds largest pencil manufacturer FaberCastell has developed an expertise in graphite pencils'}],\n",
       "  'model_id': 'google_search',\n",
       "  'dtype': list})"
      ]
     },
     "execution_count": 6,
     "metadata": {},
     "output_type": "execute_result"
    }
   ],
   "source": [
    "z"
   ]
  }
 ],
 "metadata": {
  "kernelspec": {
   "display_name": "Python 3",
   "language": "python",
   "name": "python3"
  },
  "language_info": {
   "codemirror_mode": {
    "name": "ipython",
    "version": 3
   },
   "file_extension": ".py",
   "mimetype": "text/x-python",
   "name": "python",
   "nbconvert_exporter": "python",
   "pygments_lexer": "ipython3",
   "version": "3.10.12"
  },
  "orig_nbformat": 4
 },
 "nbformat": 4,
 "nbformat_minor": 2
}
