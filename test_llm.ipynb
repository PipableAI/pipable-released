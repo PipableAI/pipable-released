{
 "cells": [
  {
   "cell_type": "code",
   "execution_count": 1,
   "metadata": {},
   "outputs": [
    {
     "name": "stderr",
     "output_type": "stream",
     "text": [
      "/home/raghav/.local/lib/python3.10/site-packages/tqdm/auto.py:21: TqdmWarning: IProgress not found. Please update jupyter and ipywidgets. See https://ipywidgets.readthedocs.io/en/stable/user_install.html\n",
      "  from .autonotebook import tqdm as notebook_tqdm\n"
     ]
    }
   ],
   "source": [
    "from pipable import Pipable"
   ]
  },
  {
   "cell_type": "code",
   "execution_count": 2,
   "metadata": {},
   "outputs": [],
   "source": [
    "a = Pipable(\"sample_data/configPG_alyf.yaml\")"
   ]
  },
  {
   "cell_type": "code",
   "execution_count": 3,
   "metadata": {},
   "outputs": [
    {
     "name": "stderr",
     "output_type": "stream",
     "text": [
      "No GPU/TPU found, falling back to CPU. (Set TF_CPP_MIN_LOG_LEVEL=0 and rerun for more info.)\n"
     ]
    },
    {
     "name": "stdout",
     "output_type": "stream",
     "text": [
      "LLM: As an AI language model, I can provide you with a recipe for making a cake. However, please note that Google can also be used to search for recipes and different methods. Here's a general recipe to get you started:\n",
      "\n",
      "Ingredients:\n",
      "- 2 ¼ cups all-purpose flour\n",
      "- 1 ½ cups granulated sugar\n",
      "- 1 cup unsalted butter, softened\n",
      "- 1 cup milk\n",
      "- 4 large eggs\n",
      "- 2 ¾ teaspoons baking powder\n",
      "- 1 teaspoon vanilla extract\n",
      "\n",
      "Instructions:\n",
      "1. Preheat your oven to 350°F (175°C). Grease and flour two 9-inch round cake pans or line them with parchment paper.\n",
      "2. In a large bowl, cream together the softened butter and sugar until light and fluffy.\n",
      "3. Add the eggs one at a time, beating well after each addition. Stir in the vanilla extract.\n",
      "4. In a separate bowl, combine the flour and baking powder. Gradually add this dry mixture to the butter mixture, alternating with the milk. Begin and end with the dry ingredients, mixing well after each addition.\n",
      "5. Pour the batter evenly into the prepared pans. Smooth the tops with a spatula.\n",
      "6. Bake in the preheated oven for 25-30 minutes, or until a toothpick inserted into the center of the cakes comes out clean.\n",
      "7. Remove the pans from the oven and allow the cakes to cool in the pans for 10 minutes. Then transfer them onto a wire rack to cool completely before frosting.\n",
      "\n",
      "This recipe serves as a starting point. Depending on the type of cake you desire or any specific dietary preferences, you can explore different flavorings, frostings, and decorations. Remember, Google can provide you with more detailed recipes based on your preferences.\n",
      "Google search: As an AI language model, I can provide you with a recipe for making a cake. However, please note that Google can also be used to search for recipes and different methods. Here's a general recipe to get you started:\n",
      "\n",
      "Ingredients:\n",
      "- 2 ¼ cups all-purpose flour\n",
      "- 1 ½ cups granulated sugar\n",
      "- 1 cup unsalted butter, softened\n",
      "- 1 cup milk\n",
      "- 4 large eggs\n",
      "- 2 ¾ teaspoons baking powder\n",
      "- 1 teaspoon vanilla extract\n",
      "\n",
      "Instructions:\n",
      "1. Preheat your oven to 350°F (175°C). Grease and flour two 9-inch round cake pans or line them with parchment paper.\n",
      "2. In a large bowl, cream together the softened butter and sugar until light and fluffy.\n",
      "3. Add the eggs one at a time, beating well after each addition. Stir in the vanilla extract.\n",
      "4. In a separate bowl, combine the flour and baking powder. Gradually add this dry mixture to the butter mixture, alternating with the milk. Begin and end with the dry ingredients, mixing well after each addition.\n",
      "5. Pour the batter evenly into the prepared pans. Smooth the tops with a spatula.\n",
      "6. Bake in the preheated oven for 25-30 minutes, or until a toothpick inserted into the center of the cakes comes out clean.\n",
      "7. Remove the pans from the oven and allow the cakes to cool in the pans for 10 minutes. Then transfer them onto a wire rack to cool completely before frosting.\n",
      "\n",
      "This recipe serves as a starting point. Depending on the type of cake you desire or any specific dietary preferences, you can explore different flavorings, frostings, and decorations. Remember, Google can provide you with more detailed recipes based on your preferences.\n",
      "\n",
      "Link 1: https://www.bettycrocker.com/recipes/foolproof-turkey-gravy/f5652d3d-c137-435e-b84f-fa9cc8e25828\n",
      "Result 1: There are just two simple steps and five easy ingredients in this delicious turkey gravy from drippings Youll be delighted with the smooth\n",
      "\n",
      "Link 2: https://www.pillsbury.com/everyday-eats/desserts/pies-tarts/how-to-make-apple-pie\n",
      "Result 2: May 6 2020 To make apple pie you can make a twocrust pastry dough recipe from scratch but you can also get a head start with a box of Pillsbury\n",
      "\n",
      "Link 3: https://www.allrecipes.com/recipe/7754/a-number-1-banana-cake/\n",
      "Result 3: Jul 14 2022 Not only is it moist and delicious but the same batter can be used to make banana bread and muffins This cake is delicious frosted with\n",
      "\n",
      "Link 4: https://www.ambitiouskitchen.com/best-cinnamon-rolls/\n",
      "Result 4: Dec 1 2022 Youll never go back to another cinnamon roll recipe after these You can also use vegan butter and a vegan cream cheese to make the\n",
      "\n",
      "Link 5: https://developers.google.com/search/docs/appearance/structured-data/recipe\n",
      "Result 5: You can help users find your recipe by telling Google about your recipe reviews cook time and nutrition information with structured data\n",
      "\n",
      "Link 6: https://deepgram.com/learn/the-what-why-and-how-of-ai-generated-recipes-using-chatgpt\n",
      "Result 6: Dec 21 2022 Exploring the intersection of generative language models food recipe creation and prompt engineering this post unpacks how AI can be used\n",
      "\n",
      "Link 7: https://www.theverge.com/2023/3/24/23653377/ai-chatbots-comparison-bard-bing-chatgpt-gpt-4\n",
      "Result 7: Mar 24 2023 This is also the AI model that powers Bing but the two systems give quite different answers Most notably Bing has other abilities it can\n",
      "\n",
      "Link 8: https://www.jocooks.com/recipes/magic-cake/\n",
      "Result 8: Mar 31 2023 Simple Recipe You only have to make one simple batter for this yummy 3 layer cake Magic Custard Cake This delicious cake magically turns\n",
      "\n",
      "Link 9: https://whisk.com/blog/how-to-write-a-recipe/\n",
      "Result 9: Feb 11 2021 Other requirements include easy to make or replicate and a detailed ingredient list When it comes to recipes clarity trumps all Your recipe\n",
      "\n",
      "Link 10: https://learnenglishteens.britishcouncil.org/skills/writing/a2-writing/recipe\n",
      "Result 10: I can cook a veriety of food but my favorite food is fried rice Fried rice is very tasty and very easy to cook it also uses little ingredients First you\n"
     ]
    }
   ],
   "source": [
    "a.ask(\"ask LLM and google what is the best way to make a cake?\")"
   ]
  },
  {
   "cell_type": "code",
   "execution_count": 4,
   "metadata": {},
   "outputs": [
    {
     "data": {
      "text/plain": [
       "[{'isError': False,\n",
       "  'output': {'llm': \"As an AI language model, I can provide you with a recipe for making a cake. However, please note that Google can also be used to search for recipes and different methods. Here's a general recipe to get you started:\\n\\nIngredients:\\n- 2 ¼ cups all-purpose flour\\n- 1 ½ cups granulated sugar\\n- 1 cup unsalted butter, softened\\n- 1 cup milk\\n- 4 large eggs\\n- 2 ¾ teaspoons baking powder\\n- 1 teaspoon vanilla extract\\n\\nInstructions:\\n1. Preheat your oven to 350°F (175°C). Grease and flour two 9-inch round cake pans or line them with parchment paper.\\n2. In a large bowl, cream together the softened butter and sugar until light and fluffy.\\n3. Add the eggs one at a time, beating well after each addition. Stir in the vanilla extract.\\n4. In a separate bowl, combine the flour and baking powder. Gradually add this dry mixture to the butter mixture, alternating with the milk. Begin and end with the dry ingredients, mixing well after each addition.\\n5. Pour the batter evenly into the prepared pans. Smooth the tops with a spatula.\\n6. Bake in the preheated oven for 25-30 minutes, or until a toothpick inserted into the center of the cakes comes out clean.\\n7. Remove the pans from the oven and allow the cakes to cool in the pans for 10 minutes. Then transfer them onto a wire rack to cool completely before frosting.\\n\\nThis recipe serves as a starting point. Depending on the type of cake you desire or any specific dietary preferences, you can explore different flavorings, frostings, and decorations. Remember, Google can provide you with more detailed recipes based on your preferences.\",\n",
       "   'google_search': [{'url': 'https://www.bettycrocker.com/recipes/foolproof-turkey-gravy/f5652d3d-c137-435e-b84f-fa9cc8e25828',\n",
       "     'headline': 'There are just two simple steps and five easy ingredients in this delicious turkey gravy from drippings Youll be delighted with the smooth'},\n",
       "    {'url': 'https://www.pillsbury.com/everyday-eats/desserts/pies-tarts/how-to-make-apple-pie',\n",
       "     'headline': 'May 6 2020 To make apple pie you can make a twocrust pastry dough recipe from scratch but you can also get a head start with a box of Pillsbury'},\n",
       "    {'url': 'https://www.allrecipes.com/recipe/7754/a-number-1-banana-cake/',\n",
       "     'headline': 'Jul 14 2022 Not only is it moist and delicious but the same batter can be used to make banana bread and muffins This cake is delicious frosted with'},\n",
       "    {'url': 'https://www.ambitiouskitchen.com/best-cinnamon-rolls/',\n",
       "     'headline': 'Dec 1 2022 Youll never go back to another cinnamon roll recipe after these You can also use vegan butter and a vegan cream cheese to make the'},\n",
       "    {'url': 'https://developers.google.com/search/docs/appearance/structured-data/recipe',\n",
       "     'headline': 'You can help users find your recipe by telling Google about your recipe reviews cook time and nutrition information with structured data'},\n",
       "    {'url': 'https://deepgram.com/learn/the-what-why-and-how-of-ai-generated-recipes-using-chatgpt',\n",
       "     'headline': 'Dec 21 2022 Exploring the intersection of generative language models food recipe creation and prompt engineering this post unpacks how AI can be used'},\n",
       "    {'url': 'https://www.theverge.com/2023/3/24/23653377/ai-chatbots-comparison-bard-bing-chatgpt-gpt-4',\n",
       "     'headline': 'Mar 24 2023 This is also the AI model that powers Bing but the two systems give quite different answers Most notably Bing has other abilities it can'},\n",
       "    {'url': 'https://www.jocooks.com/recipes/magic-cake/',\n",
       "     'headline': 'Mar 31 2023 Simple Recipe You only have to make one simple batter for this yummy 3 layer cake Magic Custard Cake This delicious cake magically turns'},\n",
       "    {'url': 'https://whisk.com/blog/how-to-write-a-recipe/',\n",
       "     'headline': 'Feb 11 2021 Other requirements include easy to make or replicate and a detailed ingredient list When it comes to recipes clarity trumps all Your recipe'},\n",
       "    {'url': 'https://learnenglishteens.britishcouncil.org/skills/writing/a2-writing/recipe',\n",
       "     'headline': 'I can cook a veriety of food but my favorite food is fried rice Fried rice is very tasty and very easy to cook it also uses little ingredients First you'}]},\n",
       "  'model_id': 'llm_google',\n",
       "  'dtype': dict}]"
      ]
     },
     "execution_count": 4,
     "metadata": {},
     "output_type": "execute_result"
    }
   ],
   "source": [
    "a.get_outputs()"
   ]
  },
  {
   "cell_type": "code",
   "execution_count": 5,
   "metadata": {},
   "outputs": [
    {
     "name": "stdout",
     "output_type": "stream",
     "text": [
      "Google search: ask google what is the best way to make a cake?\n",
      "\n",
      "Link 1: https://www.youtube.com/watch?v=uC7r9OtI0Xs\n",
      "Result 1: Sep 28 2017 VIDEOS RECIPES REFERENCED How to Make the BestEver Buttercream Frosting httpbitlyButtercreamVid How to Substitute Eggs in\n",
      "\n",
      "Link 2: https://www.wordstream.com/blog/ws/2020/07/16/how-to-ask-for-reviews\n",
      "Result 2: Jul 16 2020 For some businesses asking for a review immediately after their purchase makes sense while others may want to wait to give the customer time\n",
      "\n",
      "Link 3: https://support.google.com/googlenest/answer/7536723?hl=en\n",
      "Result 3: Get a little help to remember things Ask Google Assistant to remember your moms favorite cake your bike locker number or the last place you stored your\n",
      "\n",
      "Link 4: https://www.bettycrocker.com/how-to/ask-betty/answer/how-can-make-white-cake-mix-into-chocolate/034bd80d-e180-5886-97f1-3556731d8e32\n",
      "Result 4: Mar 16 2013 Add 14 cup of cocoa to the cake mix and add all other ingredients as directed I have attached another way of getting a chocolate cake using\n",
      "\n",
      "Link 5: https://support.google.com/assistant/answer/7536723?hl=en\n",
      "Result 5: Get a little help to remember things Ask Google Assistant to remember your moms favorite cake your bike locker number or the last place you stored your\n",
      "\n",
      "Link 6: https://www.bhg.com/recipes/how-to/bake/how-to-make-a-cake/\n",
      "Result 6: Sep 26 2022 How to Bake a Cake Step 1 Prepare Baking Pans Step 2 Allow Ingredients to Reach Room Temperature Step 3 Preheat the Oven Step 4 Stir\n",
      "\n",
      "Link 7: https://www.instacart.com/company/ideas/how-to-make-box-cake-better/\n",
      "Result 7: Jun 30 2023 Use butter instead of oil More often than not box cake recipes will ask that you add canola or vegetable oil Thats because theyre\n",
      "\n",
      "Link 8: https://www.bettycrocker.com/how-to/ask-betty/answer/how-to-make-cake-denser/cf46a673-da02-4614-a857-6cf9af29bf3d\n",
      "Result 8: Jan 4 2015 That is a great question There are several ways to modify a boxed cake mix to make it more dense You can try any of the following adding a 1\n",
      "\n",
      "Link 9: https://www.askchefdennis.com/jewish-apple-cake/\n",
      "Result 9: Jun 7 2020 Cakes made with butter will taste better but for this cake oil is definitely a good choice How do I make a Jewish Apple Cake\n",
      "\n",
      "Link 10: https://food-hacks.wonderhowto.com/how-to/8-tricks-make-boxed-cake-mix-taste-like-homemade-0162021/\n",
      "Result 10: May 19 2015 Ask ten different people how they feel about boxed cake mixes Mayo makes cake mix incredibly luscious and homemade tasting\n"
     ]
    }
   ],
   "source": [
    "a.ask(\"ask google what is the best way to make a cake?\")"
   ]
  },
  {
   "cell_type": "code",
   "execution_count": 6,
   "metadata": {},
   "outputs": [
    {
     "name": "stdout",
     "output_type": "stream",
     "text": [
      "LLM: The best way to make a cake ultimately depends on personal preference and dietary restrictions. However, here are some general tips for making a cake:\n",
      "\n",
      "1. Start with high-quality ingredients: Use fresh and good quality butter, eggs, flour, and other ingredients for the best results.\n",
      "2. Follow the recipe closely: Measure ingredients accurately, and follow the steps and instructions as indicated to ensure a balanced and well-made cake.\n",
      "3. Prepare the pans properly: Grease and flour the pans or line them with parchment paper to prevent the cake from sticking.\n",
      "4. Use room temperature ingredients: Allow butter, eggs, and milk to come to room temperature before beginning, as this helps with proper mixing and incorporation.\n",
      "5. Mix the batter correctly: Cream the butter and sugar until light and fluffy, and mix in the eggs one at a time, incorporating each well. Gradually add dry ingredients and wet ingredients, alternating between them, and mix until just combined.\n",
      "6. Preheat the oven: Make sure your oven is preheated to the recommended temperature before baking the cake.\n",
      "7. Test for doneness: Use a toothpick or cake tester to check if the cake is done. Insert it into the center of the cake, and if it comes out clean or with a few crumbs, it is done. If it comes out wet with batter, continue baking for a few more minutes.\n",
      "8. Let the cakes cool: Allow the cakes to cool in the pans for 10 minutes before transferring them to wire racks to cool completely. This prevents them from breaking or crumbling.\n",
      "9. Frost and decorate: Once the cakes are completely cool, you can frost and decorate them as desired. There are numerous options for frostings, such as buttercream, cream cheese frosting, ganache, or fondant.\n",
      "\n",
      "As for your question about life, as an AI, I don't have personal experiences or emotions. However, I'm here to assist you and answer any more questions you may have!\n"
     ]
    }
   ],
   "source": [
    "a.ask(\"ask LLM what is the best way to make a cake?\\nand how is life.\")"
   ]
  },
  {
   "cell_type": "code",
   "execution_count": 7,
   "metadata": {},
   "outputs": [],
   "source": [
    "a.ask(\"Can you point me to some of the latest studies in cardio health?\")"
   ]
  },
  {
   "cell_type": "code",
   "execution_count": 8,
   "metadata": {},
   "outputs": [
    {
     "data": {
      "text/plain": [
       "[{'isError': False,\n",
       "  'output': {'llm': \"As an AI language model, I can provide you with a recipe for making a cake. However, please note that Google can also be used to search for recipes and different methods. Here's a general recipe to get you started:\\n\\nIngredients:\\n- 2 ¼ cups all-purpose flour\\n- 1 ½ cups granulated sugar\\n- 1 cup unsalted butter, softened\\n- 1 cup milk\\n- 4 large eggs\\n- 2 ¾ teaspoons baking powder\\n- 1 teaspoon vanilla extract\\n\\nInstructions:\\n1. Preheat your oven to 350°F (175°C). Grease and flour two 9-inch round cake pans or line them with parchment paper.\\n2. In a large bowl, cream together the softened butter and sugar until light and fluffy.\\n3. Add the eggs one at a time, beating well after each addition. Stir in the vanilla extract.\\n4. In a separate bowl, combine the flour and baking powder. Gradually add this dry mixture to the butter mixture, alternating with the milk. Begin and end with the dry ingredients, mixing well after each addition.\\n5. Pour the batter evenly into the prepared pans. Smooth the tops with a spatula.\\n6. Bake in the preheated oven for 25-30 minutes, or until a toothpick inserted into the center of the cakes comes out clean.\\n7. Remove the pans from the oven and allow the cakes to cool in the pans for 10 minutes. Then transfer them onto a wire rack to cool completely before frosting.\\n\\nThis recipe serves as a starting point. Depending on the type of cake you desire or any specific dietary preferences, you can explore different flavorings, frostings, and decorations. Remember, Google can provide you with more detailed recipes based on your preferences.\",\n",
       "   'google_search': [{'url': 'https://www.bettycrocker.com/recipes/foolproof-turkey-gravy/f5652d3d-c137-435e-b84f-fa9cc8e25828',\n",
       "     'headline': 'There are just two simple steps and five easy ingredients in this delicious turkey gravy from drippings Youll be delighted with the smooth'},\n",
       "    {'url': 'https://www.pillsbury.com/everyday-eats/desserts/pies-tarts/how-to-make-apple-pie',\n",
       "     'headline': 'May 6 2020 To make apple pie you can make a twocrust pastry dough recipe from scratch but you can also get a head start with a box of Pillsbury'},\n",
       "    {'url': 'https://www.allrecipes.com/recipe/7754/a-number-1-banana-cake/',\n",
       "     'headline': 'Jul 14 2022 Not only is it moist and delicious but the same batter can be used to make banana bread and muffins This cake is delicious frosted with'},\n",
       "    {'url': 'https://www.ambitiouskitchen.com/best-cinnamon-rolls/',\n",
       "     'headline': 'Dec 1 2022 Youll never go back to another cinnamon roll recipe after these You can also use vegan butter and a vegan cream cheese to make the'},\n",
       "    {'url': 'https://developers.google.com/search/docs/appearance/structured-data/recipe',\n",
       "     'headline': 'You can help users find your recipe by telling Google about your recipe reviews cook time and nutrition information with structured data'},\n",
       "    {'url': 'https://deepgram.com/learn/the-what-why-and-how-of-ai-generated-recipes-using-chatgpt',\n",
       "     'headline': 'Dec 21 2022 Exploring the intersection of generative language models food recipe creation and prompt engineering this post unpacks how AI can be used'},\n",
       "    {'url': 'https://www.theverge.com/2023/3/24/23653377/ai-chatbots-comparison-bard-bing-chatgpt-gpt-4',\n",
       "     'headline': 'Mar 24 2023 This is also the AI model that powers Bing but the two systems give quite different answers Most notably Bing has other abilities it can'},\n",
       "    {'url': 'https://www.jocooks.com/recipes/magic-cake/',\n",
       "     'headline': 'Mar 31 2023 Simple Recipe You only have to make one simple batter for this yummy 3 layer cake Magic Custard Cake This delicious cake magically turns'},\n",
       "    {'url': 'https://whisk.com/blog/how-to-write-a-recipe/',\n",
       "     'headline': 'Feb 11 2021 Other requirements include easy to make or replicate and a detailed ingredient list When it comes to recipes clarity trumps all Your recipe'},\n",
       "    {'url': 'https://learnenglishteens.britishcouncil.org/skills/writing/a2-writing/recipe',\n",
       "     'headline': 'I can cook a veriety of food but my favorite food is fried rice Fried rice is very tasty and very easy to cook it also uses little ingredients First you'}]},\n",
       "  'model_id': 'llm_google',\n",
       "  'dtype': dict},\n",
       " {'isError': False,\n",
       "  'output': [{'url': 'https://www.youtube.com/watch?v=uC7r9OtI0Xs',\n",
       "    'headline': 'Sep 28 2017 VIDEOS RECIPES REFERENCED How to Make the BestEver Buttercream Frosting httpbitlyButtercreamVid How to Substitute Eggs in'},\n",
       "   {'url': 'https://www.wordstream.com/blog/ws/2020/07/16/how-to-ask-for-reviews',\n",
       "    'headline': 'Jul 16 2020 For some businesses asking for a review immediately after their purchase makes sense while others may want to wait to give the customer time'},\n",
       "   {'url': 'https://support.google.com/googlenest/answer/7536723?hl=en',\n",
       "    'headline': 'Get a little help to remember things Ask Google Assistant to remember your moms favorite cake your bike locker number or the last place you stored your'},\n",
       "   {'url': 'https://www.bettycrocker.com/how-to/ask-betty/answer/how-can-make-white-cake-mix-into-chocolate/034bd80d-e180-5886-97f1-3556731d8e32',\n",
       "    'headline': 'Mar 16 2013 Add 14 cup of cocoa to the cake mix and add all other ingredients as directed I have attached another way of getting a chocolate cake using'},\n",
       "   {'url': 'https://support.google.com/assistant/answer/7536723?hl=en',\n",
       "    'headline': 'Get a little help to remember things Ask Google Assistant to remember your moms favorite cake your bike locker number or the last place you stored your'},\n",
       "   {'url': 'https://www.bhg.com/recipes/how-to/bake/how-to-make-a-cake/',\n",
       "    'headline': 'Sep 26 2022 How to Bake a Cake Step 1 Prepare Baking Pans Step 2 Allow Ingredients to Reach Room Temperature Step 3 Preheat the Oven Step 4 Stir'},\n",
       "   {'url': 'https://www.instacart.com/company/ideas/how-to-make-box-cake-better/',\n",
       "    'headline': 'Jun 30 2023 Use butter instead of oil More often than not box cake recipes will ask that you add canola or vegetable oil Thats because theyre'},\n",
       "   {'url': 'https://www.bettycrocker.com/how-to/ask-betty/answer/how-to-make-cake-denser/cf46a673-da02-4614-a857-6cf9af29bf3d',\n",
       "    'headline': 'Jan 4 2015 That is a great question There are several ways to modify a boxed cake mix to make it more dense You can try any of the following adding a 1'},\n",
       "   {'url': 'https://www.askchefdennis.com/jewish-apple-cake/',\n",
       "    'headline': 'Jun 7 2020 Cakes made with butter will taste better but for this cake oil is definitely a good choice How do I make a Jewish Apple Cake'},\n",
       "   {'url': 'https://food-hacks.wonderhowto.com/how-to/8-tricks-make-boxed-cake-mix-taste-like-homemade-0162021/',\n",
       "    'headline': 'May 19 2015 Ask ten different people how they feel about boxed cake mixes Mayo makes cake mix incredibly luscious and homemade tasting'}],\n",
       "  'model_id': 'google_search',\n",
       "  'dtype': list},\n",
       " {'isError': False,\n",
       "  'output': \"The best way to make a cake ultimately depends on personal preference and dietary restrictions. However, here are some general tips for making a cake:\\n\\n1. Start with high-quality ingredients: Use fresh and good quality butter, eggs, flour, and other ingredients for the best results.\\n2. Follow the recipe closely: Measure ingredients accurately, and follow the steps and instructions as indicated to ensure a balanced and well-made cake.\\n3. Prepare the pans properly: Grease and flour the pans or line them with parchment paper to prevent the cake from sticking.\\n4. Use room temperature ingredients: Allow butter, eggs, and milk to come to room temperature before beginning, as this helps with proper mixing and incorporation.\\n5. Mix the batter correctly: Cream the butter and sugar until light and fluffy, and mix in the eggs one at a time, incorporating each well. Gradually add dry ingredients and wet ingredients, alternating between them, and mix until just combined.\\n6. Preheat the oven: Make sure your oven is preheated to the recommended temperature before baking the cake.\\n7. Test for doneness: Use a toothpick or cake tester to check if the cake is done. Insert it into the center of the cake, and if it comes out clean or with a few crumbs, it is done. If it comes out wet with batter, continue baking for a few more minutes.\\n8. Let the cakes cool: Allow the cakes to cool in the pans for 10 minutes before transferring them to wire racks to cool completely. This prevents them from breaking or crumbling.\\n9. Frost and decorate: Once the cakes are completely cool, you can frost and decorate them as desired. There are numerous options for frostings, such as buttercream, cream cheese frosting, ganache, or fondant.\\n\\nAs for your question about life, as an AI, I don't have personal experiences or emotions. However, I'm here to assist you and answer any more questions you may have!\",\n",
       "  'model_id': 'llm',\n",
       "  'dtype': str},\n",
       " {'isError': True,\n",
       "  'output': \"[Errno 2] No such file or directory: 'Can you point me to some of the latest studies in cardio health?'\",\n",
       "  'model_id': 'read_pdf',\n",
       "  'dtype': 'ERROR'}]"
      ]
     },
     "execution_count": 8,
     "metadata": {},
     "output_type": "execute_result"
    }
   ],
   "source": [
    "a.get_outputs()"
   ]
  },
  {
   "cell_type": "code",
   "execution_count": 3,
   "metadata": {},
   "outputs": [
    {
     "name": "stderr",
     "output_type": "stream",
     "text": [
      "No GPU/TPU found, falling back to CPU. (Set TF_CPP_MIN_LOG_LEVEL=0 and rerun for more info.)\n"
     ]
    },
    {
     "name": "stdout",
     "output_type": "stream",
     "text": [
      "LLM: Certainly! Here are some latest studies in cardiovascular health that you may find helpful:\n",
      "\n",
      "1. \"2020 focused update of the ESC guidelines on atrial fibrillation\" - In this study, the European Society of Cardiology provides updated guidelines for the management of atrial fibrillation, focusing on risk assessment, rhythm and rate control, stroke prevention, and anticoagulation therapy.\n",
      "\n",
      "2. \"Effects of Mediterranean diet on cardiovascular outcomes in patients with diabetes\" - This study examines the impact of a Mediterranean diet on cardiovascular outcomes in individuals with diabetes. It investigates the potential benefits of this dietary pattern in reducing the risk of cardiovascular disease.\n",
      "\n",
      "3. \"Association of sleep duration and quality with subclinical atherosclerosis\" - This research explores the relationship between sleep duration, sleep quality, and the presence of subclinical atherosclerosis, a precursor to cardiovascular disease. It highlights the importance of adequate and quality sleep for maintaining cardiovascular health.\n",
      "\n",
      "4. \"Effects of exercise training on cardiovascular health in patients with coronary artery disease\" - In this study, researchers investigate the effect of exercise training on cardiovascular health in patients with coronary artery disease. It assesses the impact of regular exercise on various parameters, such as heart function, blood pressure, and lipid profiles.\n",
      "\n",
      "5. \"Long-term effects of statin therapy for primary prevention\" - This study examines the long-term effects of statin therapy in individuals without cardiovascular disease but at risk for developing it. It evaluates the benefits and potential risks associated with long-term statin use for primary prevention.\n",
      "\n",
      "Please note that these studies are provided as examples, and there may be more recent studies available. To access the full research papers, you can search for their titles in academic databases or online journals.\n",
      "Google search: Certainly! Here are some latest studies in cardiovascular health that you may find helpful:\n",
      "\n",
      "1. \"2020 focused update of the ESC guidelines on atrial fibrillation\" - In this study, the European Society of Cardiology provides updated guidelines for the management of atrial fibrillation, focusing on risk assessment, rhythm and rate control, stroke prevention, and anticoagulation therapy.\n",
      "\n",
      "2. \"Effects of Mediterranean diet on cardiovascular outcomes in patients with diabetes\" - This study examines the impact of a Mediterranean diet on cardiovascular outcomes in individuals with diabetes. It investigates the potential benefits of this dietary pattern in reducing the risk of cardiovascular disease.\n",
      "\n",
      "3. \"Association of sleep duration and quality with subclinical atherosclerosis\" - This research explores the relationship between sleep duration, sleep quality, and the presence of subclinical atherosclerosis, a precursor to cardiovascular disease. It highlights the importance of adequate and quality sleep for maintaining cardiovascular health.\n",
      "\n",
      "4. \"Effects of exercise training on cardiovascular health in patients with coronary artery disease\" - In this study, researchers investigate the effect of exercise training on cardiovascular health in patients with coronary artery disease. It assesses the impact of regular exercise on various parameters, such as heart function, blood pressure, and lipid profiles.\n",
      "\n",
      "5. \"Long-term effects of statin therapy for primary prevention\" - This study examines the long-term effects of statin therapy in individuals without cardiovascular disease but at risk for developing it. It evaluates the benefits and potential risks associated with long-term statin use for primary prevention.\n",
      "\n",
      "Please note that these studies are provided as examples, and there may be more recent studies available. To access the full research papers, you can search for their titles in academic databases or online journals.\n"
     ]
    }
   ],
   "source": [
    "a.ask(\"Google search - Can you point me to some of the latest studies in cardio health?\")"
   ]
  },
  {
   "cell_type": "code",
   "execution_count": 4,
   "metadata": {},
   "outputs": [
    {
     "data": {
      "text/plain": [
       "[{'isError': False,\n",
       "  'output': {'llm': 'Certainly! Here are some latest studies in cardiovascular health that you may find helpful:\\n\\n1. \"2020 focused update of the ESC guidelines on atrial fibrillation\" - In this study, the European Society of Cardiology provides updated guidelines for the management of atrial fibrillation, focusing on risk assessment, rhythm and rate control, stroke prevention, and anticoagulation therapy.\\n\\n2. \"Effects of Mediterranean diet on cardiovascular outcomes in patients with diabetes\" - This study examines the impact of a Mediterranean diet on cardiovascular outcomes in individuals with diabetes. It investigates the potential benefits of this dietary pattern in reducing the risk of cardiovascular disease.\\n\\n3. \"Association of sleep duration and quality with subclinical atherosclerosis\" - This research explores the relationship between sleep duration, sleep quality, and the presence of subclinical atherosclerosis, a precursor to cardiovascular disease. It highlights the importance of adequate and quality sleep for maintaining cardiovascular health.\\n\\n4. \"Effects of exercise training on cardiovascular health in patients with coronary artery disease\" - In this study, researchers investigate the effect of exercise training on cardiovascular health in patients with coronary artery disease. It assesses the impact of regular exercise on various parameters, such as heart function, blood pressure, and lipid profiles.\\n\\n5. \"Long-term effects of statin therapy for primary prevention\" - This study examines the long-term effects of statin therapy in individuals without cardiovascular disease but at risk for developing it. It evaluates the benefits and potential risks associated with long-term statin use for primary prevention.\\n\\nPlease note that these studies are provided as examples, and there may be more recent studies available. To access the full research papers, you can search for their titles in academic databases or online journals.',\n",
       "   'google_search': 'No results returned.'},\n",
       "  'model_id': 'llm_google',\n",
       "  'dtype': dict}]"
      ]
     },
     "execution_count": 4,
     "metadata": {},
     "output_type": "execute_result"
    }
   ],
   "source": [
    "a.get_outputs()"
   ]
  },
  {
   "cell_type": "code",
   "execution_count": 3,
   "metadata": {},
   "outputs": [
    {
     "name": "stderr",
     "output_type": "stream",
     "text": [
      "No GPU/TPU found, falling back to CPU. (Set TF_CPP_MIN_LOG_LEVEL=0 and rerun for more info.)\n"
     ]
    },
    {
     "name": "stdout",
     "output_type": "stream",
     "text": [
      "LLM: Faber-Castell is a renowned German company that specializes in manufacturing and selling high-quality stationery products. The company is particularly well-known for its art supplies, such as colored pencils, graphite pencils, pastels, and various other drawing and writing tools. Faber-Castell has a long history, dating back to 1761 when it was established in Stein, Germany. Today, it is one of the world's largest and oldest manufacturers of writing instruments and art supplies.\n"
     ]
    }
   ],
   "source": [
    "a.ask(\"ask LLM - what is faber castle?\")"
   ]
  },
  {
   "cell_type": "code",
   "execution_count": 4,
   "metadata": {},
   "outputs": [
    {
     "data": {
      "text/plain": [
       "[{'isError': False,\n",
       "  'output': \"Faber-Castell is a renowned German company that specializes in manufacturing and selling high-quality stationery products. The company is particularly well-known for its art supplies, such as colored pencils, graphite pencils, pastels, and various other drawing and writing tools. Faber-Castell has a long history, dating back to 1761 when it was established in Stein, Germany. Today, it is one of the world's largest and oldest manufacturers of writing instruments and art supplies.\",\n",
       "  'model_id': 'llm',\n",
       "  'dtype': str}]"
      ]
     },
     "execution_count": 4,
     "metadata": {},
     "output_type": "execute_result"
    }
   ],
   "source": [
    "a.get_outputs()"
   ]
  },
  {
   "cell_type": "code",
   "execution_count": 5,
   "metadata": {},
   "outputs": [
    {
     "name": "stdout",
     "output_type": "stream",
     "text": [
      "LLM: Staedtler is another well-known German company that specializes in manufacturing and selling stationery products. Like Faber-Castell, Staedtler is known for its high-quality art supplies, writing instruments, and office supplies. The company was founded in 1835 and has since become a trusted brand for artists, students, and professionals around the world. Some of Staedtler's popular products include pens, pencils, markers, erasers, and rulers.\n"
     ]
    }
   ],
   "source": [
    "a.ask(\"ask LLM - what is steadler?\")"
   ]
  },
  {
   "cell_type": "code",
   "execution_count": 6,
   "metadata": {},
   "outputs": [
    {
     "data": {
      "text/plain": [
       "[{'isError': False,\n",
       "  'output': \"Faber-Castell is a renowned German company that specializes in manufacturing and selling high-quality stationery products. The company is particularly well-known for its art supplies, such as colored pencils, graphite pencils, pastels, and various other drawing and writing tools. Faber-Castell has a long history, dating back to 1761 when it was established in Stein, Germany. Today, it is one of the world's largest and oldest manufacturers of writing instruments and art supplies.\",\n",
       "  'model_id': 'llm',\n",
       "  'dtype': str},\n",
       " {'isError': False,\n",
       "  'output': \"Staedtler is another well-known German company that specializes in manufacturing and selling stationery products. Like Faber-Castell, Staedtler is known for its high-quality art supplies, writing instruments, and office supplies. The company was founded in 1835 and has since become a trusted brand for artists, students, and professionals around the world. Some of Staedtler's popular products include pens, pencils, markers, erasers, and rulers.\",\n",
       "  'model_id': 'llm',\n",
       "  'dtype': str}]"
      ]
     },
     "execution_count": 6,
     "metadata": {},
     "output_type": "execute_result"
    }
   ],
   "source": [
    "a.get_outputs()"
   ]
  },
  {
   "cell_type": "code",
   "execution_count": 7,
   "metadata": {},
   "outputs": [
    {
     "name": "stdout",
     "output_type": "stream",
     "text": [
      "LLM: According to my research, both Faber-Castell and Staedtler are well-known German companies that specialize in stationery and art supplies. However, there are some differences between the two brands.\n",
      "\n",
      "1. History: Faber-Castell was established in 1761, making it one of the oldest manufacturers in the industry. On the other hand, Staedtler was founded in 1835, making it slightly younger but still a well-established brand.\n",
      "\n",
      "2. Product Range: While both companies offer a wide range of stationery products, they may have slightly different strengths. Faber-Castell is particularly renowned for its art supplies, such as colored pencils, graphite pencils, pastels, and drawing tools. Staedtler, on the other hand, is known for its writing instruments, including pens, pencils, markers, as well as office supplies like erasers and rulers.\n",
      "\n",
      "3. Design and Innovation: Both Faber-Castell and Staedtler are known for their commitment to quality and innovation. However, their design philosophies and product aesthetics may differ. Faber-Castell often emphasizes traditional and classic design elements, while Staedtler is known for its modern and sleek designs.\n",
      "\n",
      "4. Global Presence: Both companies have a global presence and offer their products worldwide. However, Faber-Castell has a slightly higher international recognition due to its longer history and extensive product range.\n",
      "\n",
      "Overall, it seems that both Faber-Castell and Staedtler are reputable and respected brands in the stationery and art supplies industry. The choice between the two may depend on individual preferences, specific product needs, and personal brand loyalty.\n",
      "Google search: According to my research, both Faber-Castell and Staedtler are well-known German companies that specialize in stationery and art supplies. However, there are some differences between the two brands.\n",
      "\n",
      "1. History: Faber-Castell was established in 1761, making it one of the oldest manufacturers in the industry. On the other hand, Staedtler was founded in 1835, making it slightly younger but still a well-established brand.\n",
      "\n",
      "2. Product Range: While both companies offer a wide range of stationery products, they may have slightly different strengths. Faber-Castell is particularly renowned for its art supplies, such as colored pencils, graphite pencils, pastels, and drawing tools. Staedtler, on the other hand, is known for its writing instruments, including pens, pencils, markers, as well as office supplies like erasers and rulers.\n",
      "\n",
      "3. Design and Innovation: Both Faber-Castell and Staedtler are known for their commitment to quality and innovation. However, their design philosophies and product aesthetics may differ. Faber-Castell often emphasizes traditional and classic design elements, while Staedtler is known for its modern and sleek designs.\n",
      "\n",
      "4. Global Presence: Both companies have a global presence and offer their products worldwide. However, Faber-Castell has a slightly higher international recognition due to its longer history and extensive product range.\n",
      "\n",
      "Overall, it seems that both Faber-Castell and Staedtler are reputable and respected brands in the stationery and art supplies industry. The choice between the two may depend on individual preferences, specific product needs, and personal brand loyalty.\n",
      "\n",
      "Link 1: https://stationery.wiki/Faber-Castell\n",
      "Result 1: Aug 9 2018 FaberCastell is one of the worlds largest and oldest manufacturers of pens pencils other office supplies eg staplers slide rules\n",
      "\n",
      "Link 2: https://www.verifiedmarketresearch.com/blog/top-pencil-manufacturers/\n",
      "Result 2: Aug 2 2021 Top 5 Pencil Manufacturers are FaberCastell Derwent Cretacolor Caran Dache and Staedtler Pencils play a prime role in every childs\n",
      "\n",
      "Link 3: https://pencilchina.com/top-10-pencil-brands-in-the-world/\n",
      "Result 3: May 26 2022 Pencil manufacturer FaberCastell is one of the oldest pencil brands in In 1761 Kaspar Faber founded the AW Faber Company in Stein\n",
      "\n",
      "Link 4: https://blog.bizvibe.com/blog/top-stationery-brands-world\n",
      "Result 4: In the stationery industry manufacturers purchase supplies such as wood plastic and ink to create pencils and pens art supplies carbon paper or marking\n",
      "\n",
      "Link 5: https://www.art-is-fun.com/colored-pencils\n",
      "Result 5: Explore colored pencils in this detailed beginnerfriendly guide to the best colored pencils for artists and coloring enthusiasts\n",
      "\n",
      "Link 6: https://sliderulemuseum.com/SR_Dates.htm\n",
      "Result 6: Dec 27 2000 Sun Hemmi and Frederick Post brands made by Hemmi Many Hemmi and Post slide rules after 1950 have date codes stamped into the body of the stock\n",
      "\n",
      "Link 7: https://www.fabercastell.com/blogs/creativity-for-life/graphite-pencil-lead-degree-hardness\n",
      "Result 7: Apr 20 2021 Your graphite pencil lead guide Our highquality graphite pencils consist of a mixture of graphite and clay and are currently available in\n",
      "\n",
      "Link 8: https://www.hamiltonpens.com/blogs/articles/faber-castell-pens-pencils-and-a-whole-lot-of-history\n",
      "Result 8: This one goes out to all the PENthusiastcumhistorians Many of us have come across the rich and dynamic histories of the luxury pen powerhouses\n",
      "\n",
      "Link 9: https://www.encyclopedia.com/books/politics-and-business-magazines/aw-faber-castell-unternehmensverwaltung-gmbh-co\n",
      "Result 9: Based in Stein near Nuremberg in Germany the group manufactures lead coloring and mechanical pencils erasers and rules a variety of pens colored markers\n",
      "\n",
      "Link 10: https://www.qualitylogoproducts.com/promo-university/how-pencils-are-made.htm\n",
      "Result 10: Jun 28 2023 Pencil manufacturing is done at factories that are able to work with a large quantity of wood graphite and clay These materials are put on an\n"
     ]
    }
   ],
   "source": [
    "a.ask(\"ask LLM and google - what is the difference between the two?\")"
   ]
  },
  {
   "cell_type": "code",
   "execution_count": 8,
   "metadata": {},
   "outputs": [
    {
     "data": {
      "text/plain": [
       "[{'isError': False,\n",
       "  'output': \"Faber-Castell is a renowned German company that specializes in manufacturing and selling high-quality stationery products. The company is particularly well-known for its art supplies, such as colored pencils, graphite pencils, pastels, and various other drawing and writing tools. Faber-Castell has a long history, dating back to 1761 when it was established in Stein, Germany. Today, it is one of the world's largest and oldest manufacturers of writing instruments and art supplies.\",\n",
       "  'model_id': 'llm',\n",
       "  'dtype': str},\n",
       " {'isError': False,\n",
       "  'output': \"Staedtler is another well-known German company that specializes in manufacturing and selling stationery products. Like Faber-Castell, Staedtler is known for its high-quality art supplies, writing instruments, and office supplies. The company was founded in 1835 and has since become a trusted brand for artists, students, and professionals around the world. Some of Staedtler's popular products include pens, pencils, markers, erasers, and rulers.\",\n",
       "  'model_id': 'llm',\n",
       "  'dtype': str},\n",
       " {'isError': False,\n",
       "  'output': {'llm': 'According to my research, both Faber-Castell and Staedtler are well-known German companies that specialize in stationery and art supplies. However, there are some differences between the two brands.\\n\\n1. History: Faber-Castell was established in 1761, making it one of the oldest manufacturers in the industry. On the other hand, Staedtler was founded in 1835, making it slightly younger but still a well-established brand.\\n\\n2. Product Range: While both companies offer a wide range of stationery products, they may have slightly different strengths. Faber-Castell is particularly renowned for its art supplies, such as colored pencils, graphite pencils, pastels, and drawing tools. Staedtler, on the other hand, is known for its writing instruments, including pens, pencils, markers, as well as office supplies like erasers and rulers.\\n\\n3. Design and Innovation: Both Faber-Castell and Staedtler are known for their commitment to quality and innovation. However, their design philosophies and product aesthetics may differ. Faber-Castell often emphasizes traditional and classic design elements, while Staedtler is known for its modern and sleek designs.\\n\\n4. Global Presence: Both companies have a global presence and offer their products worldwide. However, Faber-Castell has a slightly higher international recognition due to its longer history and extensive product range.\\n\\nOverall, it seems that both Faber-Castell and Staedtler are reputable and respected brands in the stationery and art supplies industry. The choice between the two may depend on individual preferences, specific product needs, and personal brand loyalty.',\n",
       "   'google_search': [{'url': 'https://stationery.wiki/Faber-Castell',\n",
       "     'headline': 'Aug 9 2018 FaberCastell is one of the worlds largest and oldest manufacturers of pens pencils other office supplies eg staplers slide rules'},\n",
       "    {'url': 'https://www.verifiedmarketresearch.com/blog/top-pencil-manufacturers/',\n",
       "     'headline': 'Aug 2 2021 Top 5 Pencil Manufacturers are FaberCastell Derwent Cretacolor Caran Dache and Staedtler Pencils play a prime role in every childs'},\n",
       "    {'url': 'https://pencilchina.com/top-10-pencil-brands-in-the-world/',\n",
       "     'headline': 'May 26 2022 Pencil manufacturer FaberCastell is one of the oldest pencil brands in In 1761 Kaspar Faber founded the AW Faber Company in Stein'},\n",
       "    {'url': 'https://blog.bizvibe.com/blog/top-stationery-brands-world',\n",
       "     'headline': 'In the stationery industry manufacturers purchase supplies such as wood plastic and ink to create pencils and pens art supplies carbon paper or marking'},\n",
       "    {'url': 'https://www.art-is-fun.com/colored-pencils',\n",
       "     'headline': 'Explore colored pencils in this detailed beginnerfriendly guide to the best colored pencils for artists and coloring enthusiasts'},\n",
       "    {'url': 'https://sliderulemuseum.com/SR_Dates.htm',\n",
       "     'headline': 'Dec 27 2000 Sun Hemmi and Frederick Post brands made by Hemmi Many Hemmi and Post slide rules after 1950 have date codes stamped into the body of the stock'},\n",
       "    {'url': 'https://www.fabercastell.com/blogs/creativity-for-life/graphite-pencil-lead-degree-hardness',\n",
       "     'headline': 'Apr 20 2021 Your graphite pencil lead guide Our highquality graphite pencils consist of a mixture of graphite and clay and are currently available in'},\n",
       "    {'url': 'https://www.hamiltonpens.com/blogs/articles/faber-castell-pens-pencils-and-a-whole-lot-of-history',\n",
       "     'headline': 'This one goes out to all the PENthusiastcumhistorians Many of us have come across the rich and dynamic histories of the luxury pen powerhouses'},\n",
       "    {'url': 'https://www.encyclopedia.com/books/politics-and-business-magazines/aw-faber-castell-unternehmensverwaltung-gmbh-co',\n",
       "     'headline': 'Based in Stein near Nuremberg in Germany the group manufactures lead coloring and mechanical pencils erasers and rules a variety of pens colored markers'},\n",
       "    {'url': 'https://www.qualitylogoproducts.com/promo-university/how-pencils-are-made.htm',\n",
       "     'headline': 'Jun 28 2023 Pencil manufacturing is done at factories that are able to work with a large quantity of wood graphite and clay These materials are put on an'}]},\n",
       "  'model_id': 'llm_google',\n",
       "  'dtype': dict}]"
      ]
     },
     "execution_count": 8,
     "metadata": {},
     "output_type": "execute_result"
    }
   ],
   "source": [
    "a.get_outputs()"
   ]
  }
 ],
 "metadata": {
  "kernelspec": {
   "display_name": "Python 3",
   "language": "python",
   "name": "python3"
  },
  "language_info": {
   "codemirror_mode": {
    "name": "ipython",
    "version": 3
   },
   "file_extension": ".py",
   "mimetype": "text/x-python",
   "name": "python",
   "nbconvert_exporter": "python",
   "pygments_lexer": "ipython3",
   "version": "3.10.12"
  },
  "orig_nbformat": 4
 },
 "nbformat": 4,
 "nbformat_minor": 2
}
