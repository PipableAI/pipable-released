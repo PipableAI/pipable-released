{
 "cells": [
  {
   "cell_type": "code",
   "execution_count": 1,
   "metadata": {},
   "outputs": [
    {
     "name": "stderr",
     "output_type": "stream",
     "text": [
      "/home/raghav/.local/lib/python3.10/site-packages/tqdm/auto.py:21: TqdmWarning: IProgress not found. Please update jupyter and ipywidgets. See https://ipywidgets.readthedocs.io/en/stable/user_install.html\n",
      "  from .autonotebook import tqdm as notebook_tqdm\n"
     ]
    }
   ],
   "source": [
    "from pipable import Pipable"
   ]
  },
  {
   "cell_type": "code",
   "execution_count": 3,
   "metadata": {},
   "outputs": [],
   "source": [
    "a = Pipable(\"sample_data/configPG_alyf.yaml\")"
   ]
  },
  {
   "cell_type": "code",
   "execution_count": 4,
   "metadata": {},
   "outputs": [
    {
     "name": "stderr",
     "output_type": "stream",
     "text": [
      "No GPU/TPU found, falling back to CPU. (Set TF_CPP_MIN_LOG_LEVEL=0 and rerun for more info.)\n"
     ]
    },
    {
     "name": "stdout",
     "output_type": "stream",
     "text": [
      "LLM: LLM: The best way to make a cake can vary depending on personal preferences and dietary restrictions. However, in general, here are some steps that can help you achieve a delicious homemade cake:\n",
      "\n",
      "1. Gather your ingredients: This typically includes flour, sugar, baking powder, eggs, butter or oil, milk or buttermilk, flavorings such as vanilla extract, and any additional ingredients specific to your recipe.\n",
      "2. Preheat your oven to the recommended temperature.\n",
      "3. Grease and flour your cake pans to prevent sticking.\n",
      "4. In a mixing bowl, whisk together the dry ingredients, such as the flour, sugar, and baking powder.\n",
      "5. Add the wet ingredients, usually eggs, melted butter or oil, milk, and vanilla extract. Mix until well combined.\n",
      "6. Pour the cake batter evenly into the prepared pans.\n",
      "7. Place the cake pans in the preheated oven and bake for the time specified in your recipe. Check for doneness by inserting a toothpick into the center of the cake; if it comes out clean, the cake is ready.\n",
      "8. Once baked, allow the cakes to cool in the pans for a few minutes, then transfer them to a wire rack to cool completely.\n",
      "9. While the cake is cooling, you can prepare a frosting or icing of your choice. Common options include buttercream, cream cheese frosting, or chocolate ganache.\n",
      "10. Once the cakes are cooled, you can frost and decorate them as desired. Be creative and let your imagination guide you!\n",
      "\n",
      "Google: The best way to make a cake can depend on personal preferences and dietary needs, but there are some general guidelines to follow. Here are a few steps to consider:\n",
      "\n",
      "1. Preheat your oven to the recommended temperature.\n",
      "2. Select a recipe that suits your taste and dietary requirements. There are countless cake recipes available online or in cookbooks.\n",
      "3. Gather all the necessary ingredients according to the recipe.\n",
      "4. Prepare your cake pans by greasing them with butter or oil and dusting them with flour or using parchment paper.\n",
      "5. In a mixing bowl, combine the dry ingredients as mentioned in the recipe. This usually includes flour, sugar, baking powder, and salt.\n",
      "6. In a separate bowl, mix the wet ingredients, which can include eggs, milk, melted butter or oil, and any flavorings.\n",
      "7. Gradually add the wet mixture to the dry ingredients, mixing well until fully incorporated.\n",
      "8. Pour the batter evenly into the prepared cake pans.\n",
      "9. Place the pans in the preheated oven and bake according to the recipe instructions. It's important to monitor the cakes during baking and adjust the time if needed.\n",
      "10. To check for doneness, insert a toothpick or skewer into the center of the cakes. If it comes out clean or with a few crumbs, the cakes are ready.\n",
      "11. Once baked, remove the pans from the oven and let the cakes cool in them for a few minutes. Then transfer them to a wire rack to cool completely before frosting.\n",
      "12. Prepare your desired frosting or icing while the cakes cool. Buttercream, cream cheese frosting, or ganache are common choices.\n",
      "13. Once the cakes are cool, layer them with the frosting or icing. You can also add additional decorations or embellishments, such as fruit, sprinkles, or chocolate shavings.\n",
      "14. Finally, slice and serve your delicious homemade cake!\n",
      "\n",
      "Remember to reference a specific recipe for more detailed instructions and measurements to ensure the best outcome.\n",
      "Google search: LLM: The best way to make a cake can vary depending on personal preferences and dietary restrictions. However, in general, here are some steps that can help you achieve a delicious homemade cake:\n",
      "\n",
      "1. Gather your ingredients: This typically includes flour, sugar, baking powder, eggs, butter or oil, milk or buttermilk, flavorings such as vanilla extract, and any additional ingredients specific to your recipe.\n",
      "2. Preheat your oven to the recommended temperature.\n",
      "3. Grease and flour your cake pans to prevent sticking.\n",
      "4. In a mixing bowl, whisk together the dry ingredients, such as the flour, sugar, and baking powder.\n",
      "5. Add the wet ingredients, usually eggs, melted butter or oil, milk, and vanilla extract. Mix until well combined.\n",
      "6. Pour the cake batter evenly into the prepared pans.\n",
      "7. Place the cake pans in the preheated oven and bake for the time specified in your recipe. Check for doneness by inserting a toothpick into the center of the cake; if it comes out clean, the cake is ready.\n",
      "8. Once baked, allow the cakes to cool in the pans for a few minutes, then transfer them to a wire rack to cool completely.\n",
      "9. While the cake is cooling, you can prepare a frosting or icing of your choice. Common options include buttercream, cream cheese frosting, or chocolate ganache.\n",
      "10. Once the cakes are cooled, you can frost and decorate them as desired. Be creative and let your imagination guide you!\n",
      "\n",
      "Google: The best way to make a cake can depend on personal preferences and dietary needs, but there are some general guidelines to follow. Here are a few steps to consider:\n",
      "\n",
      "1. Preheat your oven to the recommended temperature.\n",
      "2. Select a recipe that suits your taste and dietary requirements. There are countless cake recipes available online or in cookbooks.\n",
      "3. Gather all the necessary ingredients according to the recipe.\n",
      "4. Prepare your cake pans by greasing them with butter or oil and dusting them with flour or using parchment paper.\n",
      "5. In a mixing bowl, combine the dry ingredients as mentioned in the recipe. This usually includes flour, sugar, baking powder, and salt.\n",
      "6. In a separate bowl, mix the wet ingredients, which can include eggs, milk, melted butter or oil, and any flavorings.\n",
      "7. Gradually add the wet mixture to the dry ingredients, mixing well until fully incorporated.\n",
      "8. Pour the batter evenly into the prepared cake pans.\n",
      "9. Place the pans in the preheated oven and bake according to the recipe instructions. It's important to monitor the cakes during baking and adjust the time if needed.\n",
      "10. To check for doneness, insert a toothpick or skewer into the center of the cakes. If it comes out clean or with a few crumbs, the cakes are ready.\n",
      "11. Once baked, remove the pans from the oven and let the cakes cool in them for a few minutes. Then transfer them to a wire rack to cool completely before frosting.\n",
      "12. Prepare your desired frosting or icing while the cakes cool. Buttercream, cream cheese frosting, or ganache are common choices.\n",
      "13. Once the cakes are cool, layer them with the frosting or icing. You can also add additional decorations or embellishments, such as fruit, sprinkles, or chocolate shavings.\n",
      "14. Finally, slice and serve your delicious homemade cake!\n",
      "\n",
      "Remember to reference a specific recipe for more detailed instructions and measurements to ensure the best outcome.\n",
      "\n",
      "Link 1: https://www.law.upenn.edu/live/files/4200-2015-final-auction-program-2pdf\n",
      "Result 1: Feb 26 2015 The EJF Auction has become a longstanding tradition at Penn Law Each year students faculty staff alumni businesses and other EJF\n",
      "\n",
      "Link 2: https://www.bettycrocker.com/recipes/gold-medal-fresh-strawberry-pie/0afa26e7-1c50-41ed-af42-ebccb8006143\n",
      "Result 2: 1 12 quarts 6 cups strawberries hulled 1 cup sugar 2 tablespoons cornstarch 12 cup water Red food color if desired 1 package 3 oz cream cheese\n",
      "\n",
      "Link 3: https://arxiv.org/pdf/2305.01795\n",
      "Result 3: May 2 2023 Items such as various kinds of candy foam blocks cellophane wrap and ribbons or bows LLM T2IBridge Vanilla Plan Imagination Prompt\n",
      "\n",
      "Link 4: https://snap.berkeley.edu/project/11940160\n",
      "Result 4: Instead this block reports how many milliseconds it took to perform the notyourfromwebywillcanbuttheyanheallhasiftheironedomoremyhis\n",
      "\n",
      "Link 5: https://www.quora.com/I-have-some-vanilla-concentrate-from-Mexico-and-my-cake-recipe-calls-for-3-tsp-of-vanilla-extract-Can-I-substitute-with-the-concentrate-and-how-many-teaspoons-of-the-concentrate-should-I-use\n",
      "Result 5: Ive been cooking with Mexican vanilla for many years because it is inexpensive and easy to find in the southwest I cant tell the difference between that\n",
      "\n",
      "Link 6: https://clarifai.com/clarifai/main/models/general-image-recognition\n",
      "Result 6: Mar 9 2016 Identifies a variety of concepts in images and video including objects themes and more Trained with over 10000 concepts and 20M images\n",
      "\n",
      "Link 7: https://www.quora.com/I-am-having-a-themed-birthday-party-in-August-and-I-really-want-a-cake-that-matches-my-theme-but-there-are-not-any-cake-places-where-I-live-and-I-have-no-skill-in-cake-decorating-What-should-I-do\n",
      "Result 7: Your cake can be iced in a neutral tone and then the decorations placed onand around it Purchase items that match your theme and arrange them You dont\n",
      "\n",
      "Link 8: https://issuu.com/poisepublications/docs/cellar_door__issue27_lr\n",
      "Result 8: Jun 13 2017 Both wines you mention will likely have high alcohol with full ripe tannins and intense flavours this combination makes for a big wine\n",
      "\n",
      "Link 9: ftp://ftp.cs.princeton.edu/pub/cs226/autocomplete/bing.txt\n",
      "Result 9: san 5105050 college 5046613 day 5035006 en 5023426 one 4988845 pictures 4977371 map 4977371 file 4954502 world 4943107 house 4931738 women 4897788 your\n",
      "\n",
      "Link 10: https://issuu.com/dewlife/docs/dew_spring_2017_magazine_final\n",
      "Result 10: Apr 18 2019 SPRING 2017 Every Woman Deserves To Be Beautiful Janice Hurely Bloom Where You Grow Janet Hagerman When Your Dental Office Design Conveys\n"
     ]
    }
   ],
   "source": [
    "a.ask(\"ask LLM and google what is the best way to make a cake?\")"
   ]
  },
  {
   "cell_type": "code",
   "execution_count": 6,
   "metadata": {},
   "outputs": [
    {
     "name": "stdout",
     "output_type": "stream",
     "text": [
      "Google search: ask google what is the best way to make a cake?\n",
      "\n",
      "Link 1: https://www.youtube.com/watch?v=uC7r9OtI0Xs\n",
      "Result 1: Sep 28 2017 VIDEOS RECIPES REFERENCED How to Make the BestEver Buttercream Frosting httpbitlyButtercreamVid How to Substitute Eggs in\n",
      "\n",
      "Link 2: https://www.wordstream.com/blog/ws/2020/07/16/how-to-ask-for-reviews\n",
      "Result 2: Jul 16 2020 For some businesses asking for a review immediately after their purchase makes sense while others may want to wait to give the customer time\n",
      "\n",
      "Link 3: https://support.google.com/googlenest/answer/7536723?hl=en\n",
      "Result 3: Get a little help to remember things Ask Google Assistant to remember your moms favorite cake your bike locker number or the last place you stored your\n",
      "\n",
      "Link 4: https://www.bettycrocker.com/how-to/ask-betty/answer/how-can-make-white-cake-mix-into-chocolate/034bd80d-e180-5886-97f1-3556731d8e32\n",
      "Result 4: Mar 16 2013 Add 14 cup of cocoa to the cake mix and add all other ingredients as directed I have attached another way of getting a chocolate cake using\n",
      "\n",
      "Link 5: https://support.google.com/assistant/answer/7536723?hl=en\n",
      "Result 5: Get a little help to remember things Ask Google Assistant to remember your moms favorite cake your bike locker number or the last place you stored your\n",
      "\n",
      "Link 6: https://www.bhg.com/recipes/how-to/bake/how-to-make-a-cake/\n",
      "Result 6: Sep 26 2022 How to Bake a Cake Step 1 Prepare Baking Pans Step 2 Allow Ingredients to Reach Room Temperature Step 3 Preheat the Oven Step 4 Stir\n",
      "\n",
      "Link 7: https://www.instacart.com/company/ideas/how-to-make-box-cake-better/\n",
      "Result 7: Jun 30 2023 Use butter instead of oil More often than not box cake recipes will ask that you add canola or vegetable oil Thats because theyre\n",
      "\n",
      "Link 8: https://www.bettycrocker.com/how-to/ask-betty/answer/how-to-make-cake-denser/cf46a673-da02-4614-a857-6cf9af29bf3d\n",
      "Result 8: Jan 4 2015 That is a great question There are several ways to modify a boxed cake mix to make it more dense You can try any of the following adding\n",
      "\n",
      "Link 9: https://www.askchefdennis.com/jewish-apple-cake/\n",
      "Result 9: Jun 7 2020 Cakes made with butter will taste better but for this cake oil is definitely a good choice How do I make a Jewish Apple Cake\n",
      "\n",
      "Link 10: https://www.beaconjournal.com/story/lifestyle/food/2014/03/05/ask-lisa-can-you-fix/985169007/\n",
      "Result 10: Mar 5 2014 One of the reasons there is a best by date on cake mixes is because the manufacturer knows the age of the ingredients inside\n"
     ]
    }
   ],
   "source": [
    "a.ask(\"ask google what is the best way to make a cake?\")"
   ]
  },
  {
   "cell_type": "code",
   "execution_count": null,
   "metadata": {},
   "outputs": [
    {
     "name": "stdout",
     "output_type": "stream",
     "text": [
      "LLM: The best way to make a cake can vary based on personal preferences and dietary restrictions, as well as the type of cake you are interested in. However, here is a basic guideline that can help you make a delicious cake:\n",
      "\n",
      "1. Gather your ingredients based on the recipe you choose. Basic ingredients for most cakes include flour, sugar, butter, eggs, baking powder/soda, salt, milk, and flavorings (e.g., vanilla extract).\n",
      "\n",
      "2. Preheat your oven to the required temperature stated in the recipe.\n",
      "\n",
      "3. Prepare your baking pans by greasing them lightly with butter or oil, and optionally flouring them to prevent sticking.\n",
      "\n",
      "4. In a mixing bowl, cream the butter and sugar together until light and fluffy. Then, add eggs one at a time, beating well after each addition.\n",
      "\n",
      "5. In a separate bowl, whisk together the dry ingredients (flour, baking powder/soda, and salt). Gradually add this mixture to the creamed mixture, alternating with the milk, starting and ending with the dry ingredients. Mix until just combined; avoid over-mixing.\n",
      "\n",
      "6. Add any desired flavorings, such as vanilla extract, and mix just until incorporated.\n",
      "\n",
      "7. Pour the batter evenly into the prepared pans and smooth the tops with a spatula.\n",
      "\n",
      "8. Place the pans in the preheated oven and bake for the time mentioned in the recipe. Avoid opening the oven door too often during baking to prevent heat loss.\n",
      "\n",
      "9. Check the cake's doneness by inserting a toothpick into the center; it should come out clean or with a few crumbs clinging to it. Be cautious not to overbake, as it can result in a dry cake.\n",
      "\n",
      "10. Once baked, remove the cakes from the oven and let them cool in the pans for around 10 minutes. Then, transfer them onto a wire rack to cool completely before frosting and decorating.\n",
      "\n",
      "Remember to consult specific cake recipes for more detailed instructions, as variations exist depending on the specific cake type you wish to make.\n"
     ]
    }
   ],
   "source": [
    "a.ask(\"ask LLM what is the best way to make a cake?\")"
   ]
  }
 ],
 "metadata": {
  "kernelspec": {
   "display_name": "Python 3",
   "language": "python",
   "name": "python3"
  },
  "language_info": {
   "codemirror_mode": {
    "name": "ipython",
    "version": 3
   },
   "file_extension": ".py",
   "mimetype": "text/x-python",
   "name": "python",
   "nbconvert_exporter": "python",
   "pygments_lexer": "ipython3",
   "version": "3.10.12"
  },
  "orig_nbformat": 4
 },
 "nbformat": 4,
 "nbformat_minor": 2
}
