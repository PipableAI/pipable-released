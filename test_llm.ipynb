{
 "cells": [
  {
   "cell_type": "code",
   "execution_count": 7,
   "metadata": {},
   "outputs": [],
   "source": [
    "from pipable import Pipable"
   ]
  },
  {
   "cell_type": "code",
   "execution_count": 6,
   "metadata": {},
   "outputs": [
    {
     "ename": "KeyboardInterrupt",
     "evalue": "",
     "output_type": "error",
     "traceback": [
      "\u001b[0;31m---------------------------------------------------------------------------\u001b[0m",
      "\u001b[0;31mKeyboardInterrupt\u001b[0m                         Traceback (most recent call last)",
      "Cell \u001b[0;32mIn[6], line 1\u001b[0m\n\u001b[0;32m----> 1\u001b[0m a \u001b[39m=\u001b[39m pipable\u001b[39m.\u001b[39;49mPipable(\u001b[39m\"\u001b[39;49m\u001b[39msample_data/configCSV.yaml\u001b[39;49m\u001b[39m\"\u001b[39;49m)\n",
      "File \u001b[0;32m~/pipable/pipable.py:33\u001b[0m, in \u001b[0;36mPipable.__init__\u001b[0;34m(self, path)\u001b[0m\n\u001b[1;32m     31\u001b[0m \u001b[39m#WARNING: use action_sem_search for all semantic search functions related to action_desc ONLY\u001b[39;00m\n\u001b[1;32m     32\u001b[0m \u001b[39mself\u001b[39m\u001b[39m.\u001b[39maction_sem_search \u001b[39m=\u001b[39m copy\u001b[39m.\u001b[39mdeepcopy(\u001b[39mself\u001b[39m\u001b[39m.\u001b[39msem_s)\n\u001b[0;32m---> 33\u001b[0m \u001b[39mself\u001b[39;49m\u001b[39m.\u001b[39;49maction_sem_search\u001b[39m.\u001b[39;49mcreate_key_vectors(\u001b[39mlist\u001b[39;49m(\u001b[39mself\u001b[39;49m\u001b[39m.\u001b[39;49maction_desc\u001b[39m.\u001b[39;49mvalues()))\n\u001b[1;32m     35\u001b[0m \u001b[39mself\u001b[39m\u001b[39m.\u001b[39mcontext \u001b[39m=\u001b[39m config[\u001b[39m\"\u001b[39m\u001b[39mcontext\u001b[39m\u001b[39m\"\u001b[39m]\n\u001b[1;32m     36\u001b[0m \u001b[39m#WARNING: use context_sem_search for all semantic search functions related to context ONLY\u001b[39;00m\n",
      "File \u001b[0;32m~/pipable/classes/semantic.py:15\u001b[0m, in \u001b[0;36m_semantic_search.create_key_vectors\u001b[0;34m(self, key_list)\u001b[0m\n\u001b[1;32m     14\u001b[0m \u001b[39mdef\u001b[39;00m \u001b[39mcreate_key_vectors\u001b[39m(\u001b[39mself\u001b[39m,key_list):\n\u001b[0;32m---> 15\u001b[0m   \u001b[39mself\u001b[39m\u001b[39m.\u001b[39mkey_vectors \u001b[39m=\u001b[39m \u001b[39mself\u001b[39;49m\u001b[39m.\u001b[39;49mvectorize(key_list)\n\u001b[1;32m     16\u001b[0m   \u001b[39mreturn\u001b[39;00m \u001b[39mself\u001b[39m\n",
      "File \u001b[0;32m~/pipable/classes/semantic.py:12\u001b[0m, in \u001b[0;36m_semantic_search.vectorize\u001b[0;34m(self, data_list)\u001b[0m\n\u001b[1;32m     11\u001b[0m \u001b[39mdef\u001b[39;00m \u001b[39mvectorize\u001b[39m(\u001b[39mself\u001b[39m,data_list):\n\u001b[0;32m---> 12\u001b[0m   \u001b[39mreturn\u001b[39;00m \u001b[39mself\u001b[39;49m\u001b[39m.\u001b[39;49membedder\u001b[39m.\u001b[39;49mencode(data_list)\n",
      "File \u001b[0;32m~/.local/lib/python3.10/site-packages/sentence_transformers/SentenceTransformer.py:153\u001b[0m, in \u001b[0;36mSentenceTransformer.encode\u001b[0;34m(self, sentences, batch_size, show_progress_bar, output_value, convert_to_numpy, convert_to_tensor, device, normalize_embeddings)\u001b[0m\n\u001b[1;32m    150\u001b[0m \u001b[39mif\u001b[39;00m device \u001b[39mis\u001b[39;00m \u001b[39mNone\u001b[39;00m:\n\u001b[1;32m    151\u001b[0m     device \u001b[39m=\u001b[39m \u001b[39mself\u001b[39m\u001b[39m.\u001b[39m_target_device\n\u001b[0;32m--> 153\u001b[0m \u001b[39mself\u001b[39;49m\u001b[39m.\u001b[39;49mto(device)\n\u001b[1;32m    155\u001b[0m all_embeddings \u001b[39m=\u001b[39m []\n\u001b[1;32m    156\u001b[0m length_sorted_idx \u001b[39m=\u001b[39m np\u001b[39m.\u001b[39margsort([\u001b[39m-\u001b[39m\u001b[39mself\u001b[39m\u001b[39m.\u001b[39m_text_length(sen) \u001b[39mfor\u001b[39;00m sen \u001b[39min\u001b[39;00m sentences])\n",
      "File \u001b[0;32m~/.local/lib/python3.10/site-packages/torch/nn/modules/module.py:1145\u001b[0m, in \u001b[0;36mModule.to\u001b[0;34m(self, *args, **kwargs)\u001b[0m\n\u001b[1;32m   1141\u001b[0m         \u001b[39mreturn\u001b[39;00m t\u001b[39m.\u001b[39mto(device, dtype \u001b[39mif\u001b[39;00m t\u001b[39m.\u001b[39mis_floating_point() \u001b[39mor\u001b[39;00m t\u001b[39m.\u001b[39mis_complex() \u001b[39melse\u001b[39;00m \u001b[39mNone\u001b[39;00m,\n\u001b[1;32m   1142\u001b[0m                     non_blocking, memory_format\u001b[39m=\u001b[39mconvert_to_format)\n\u001b[1;32m   1143\u001b[0m     \u001b[39mreturn\u001b[39;00m t\u001b[39m.\u001b[39mto(device, dtype \u001b[39mif\u001b[39;00m t\u001b[39m.\u001b[39mis_floating_point() \u001b[39mor\u001b[39;00m t\u001b[39m.\u001b[39mis_complex() \u001b[39melse\u001b[39;00m \u001b[39mNone\u001b[39;00m, non_blocking)\n\u001b[0;32m-> 1145\u001b[0m \u001b[39mreturn\u001b[39;00m \u001b[39mself\u001b[39;49m\u001b[39m.\u001b[39;49m_apply(convert)\n",
      "File \u001b[0;32m~/.local/lib/python3.10/site-packages/torch/nn/modules/module.py:797\u001b[0m, in \u001b[0;36mModule._apply\u001b[0;34m(self, fn)\u001b[0m\n\u001b[1;32m    795\u001b[0m \u001b[39mdef\u001b[39;00m \u001b[39m_apply\u001b[39m(\u001b[39mself\u001b[39m, fn):\n\u001b[1;32m    796\u001b[0m     \u001b[39mfor\u001b[39;00m module \u001b[39min\u001b[39;00m \u001b[39mself\u001b[39m\u001b[39m.\u001b[39mchildren():\n\u001b[0;32m--> 797\u001b[0m         module\u001b[39m.\u001b[39;49m_apply(fn)\n\u001b[1;32m    799\u001b[0m     \u001b[39mdef\u001b[39;00m \u001b[39mcompute_should_use_set_data\u001b[39m(tensor, tensor_applied):\n\u001b[1;32m    800\u001b[0m         \u001b[39mif\u001b[39;00m torch\u001b[39m.\u001b[39m_has_compatible_shallow_copy_type(tensor, tensor_applied):\n\u001b[1;32m    801\u001b[0m             \u001b[39m# If the new tensor has compatible tensor type as the existing tensor,\u001b[39;00m\n\u001b[1;32m    802\u001b[0m             \u001b[39m# the current behavior is to change the tensor in-place using `.data =`,\u001b[39;00m\n\u001b[0;32m   (...)\u001b[0m\n\u001b[1;32m    807\u001b[0m             \u001b[39m# global flag to let the user control whether they want the future\u001b[39;00m\n\u001b[1;32m    808\u001b[0m             \u001b[39m# behavior of overwriting the existing tensor or not.\u001b[39;00m\n",
      "File \u001b[0;32m~/.local/lib/python3.10/site-packages/torch/nn/modules/module.py:797\u001b[0m, in \u001b[0;36mModule._apply\u001b[0;34m(self, fn)\u001b[0m\n\u001b[1;32m    795\u001b[0m \u001b[39mdef\u001b[39;00m \u001b[39m_apply\u001b[39m(\u001b[39mself\u001b[39m, fn):\n\u001b[1;32m    796\u001b[0m     \u001b[39mfor\u001b[39;00m module \u001b[39min\u001b[39;00m \u001b[39mself\u001b[39m\u001b[39m.\u001b[39mchildren():\n\u001b[0;32m--> 797\u001b[0m         module\u001b[39m.\u001b[39;49m_apply(fn)\n\u001b[1;32m    799\u001b[0m     \u001b[39mdef\u001b[39;00m \u001b[39mcompute_should_use_set_data\u001b[39m(tensor, tensor_applied):\n\u001b[1;32m    800\u001b[0m         \u001b[39mif\u001b[39;00m torch\u001b[39m.\u001b[39m_has_compatible_shallow_copy_type(tensor, tensor_applied):\n\u001b[1;32m    801\u001b[0m             \u001b[39m# If the new tensor has compatible tensor type as the existing tensor,\u001b[39;00m\n\u001b[1;32m    802\u001b[0m             \u001b[39m# the current behavior is to change the tensor in-place using `.data =`,\u001b[39;00m\n\u001b[0;32m   (...)\u001b[0m\n\u001b[1;32m    807\u001b[0m             \u001b[39m# global flag to let the user control whether they want the future\u001b[39;00m\n\u001b[1;32m    808\u001b[0m             \u001b[39m# behavior of overwriting the existing tensor or not.\u001b[39;00m\n",
      "    \u001b[0;31m[... skipping similar frames: Module._apply at line 797 (1 times)]\u001b[0m\n",
      "File \u001b[0;32m~/.local/lib/python3.10/site-packages/torch/nn/modules/module.py:797\u001b[0m, in \u001b[0;36mModule._apply\u001b[0;34m(self, fn)\u001b[0m\n\u001b[1;32m    795\u001b[0m \u001b[39mdef\u001b[39;00m \u001b[39m_apply\u001b[39m(\u001b[39mself\u001b[39m, fn):\n\u001b[1;32m    796\u001b[0m     \u001b[39mfor\u001b[39;00m module \u001b[39min\u001b[39;00m \u001b[39mself\u001b[39m\u001b[39m.\u001b[39mchildren():\n\u001b[0;32m--> 797\u001b[0m         module\u001b[39m.\u001b[39;49m_apply(fn)\n\u001b[1;32m    799\u001b[0m     \u001b[39mdef\u001b[39;00m \u001b[39mcompute_should_use_set_data\u001b[39m(tensor, tensor_applied):\n\u001b[1;32m    800\u001b[0m         \u001b[39mif\u001b[39;00m torch\u001b[39m.\u001b[39m_has_compatible_shallow_copy_type(tensor, tensor_applied):\n\u001b[1;32m    801\u001b[0m             \u001b[39m# If the new tensor has compatible tensor type as the existing tensor,\u001b[39;00m\n\u001b[1;32m    802\u001b[0m             \u001b[39m# the current behavior is to change the tensor in-place using `.data =`,\u001b[39;00m\n\u001b[0;32m   (...)\u001b[0m\n\u001b[1;32m    807\u001b[0m             \u001b[39m# global flag to let the user control whether they want the future\u001b[39;00m\n\u001b[1;32m    808\u001b[0m             \u001b[39m# behavior of overwriting the existing tensor or not.\u001b[39;00m\n",
      "File \u001b[0;32m~/.local/lib/python3.10/site-packages/torch/nn/modules/module.py:820\u001b[0m, in \u001b[0;36mModule._apply\u001b[0;34m(self, fn)\u001b[0m\n\u001b[1;32m    816\u001b[0m \u001b[39m# Tensors stored in modules are graph leaves, and we don't want to\u001b[39;00m\n\u001b[1;32m    817\u001b[0m \u001b[39m# track autograd history of `param_applied`, so we have to use\u001b[39;00m\n\u001b[1;32m    818\u001b[0m \u001b[39m# `with torch.no_grad():`\u001b[39;00m\n\u001b[1;32m    819\u001b[0m \u001b[39mwith\u001b[39;00m torch\u001b[39m.\u001b[39mno_grad():\n\u001b[0;32m--> 820\u001b[0m     param_applied \u001b[39m=\u001b[39m fn(param)\n\u001b[1;32m    821\u001b[0m should_use_set_data \u001b[39m=\u001b[39m compute_should_use_set_data(param, param_applied)\n\u001b[1;32m    822\u001b[0m \u001b[39mif\u001b[39;00m should_use_set_data:\n",
      "File \u001b[0;32m~/.local/lib/python3.10/site-packages/torch/nn/modules/module.py:1143\u001b[0m, in \u001b[0;36mModule.to.<locals>.convert\u001b[0;34m(t)\u001b[0m\n\u001b[1;32m   1140\u001b[0m \u001b[39mif\u001b[39;00m convert_to_format \u001b[39mis\u001b[39;00m \u001b[39mnot\u001b[39;00m \u001b[39mNone\u001b[39;00m \u001b[39mand\u001b[39;00m t\u001b[39m.\u001b[39mdim() \u001b[39min\u001b[39;00m (\u001b[39m4\u001b[39m, \u001b[39m5\u001b[39m):\n\u001b[1;32m   1141\u001b[0m     \u001b[39mreturn\u001b[39;00m t\u001b[39m.\u001b[39mto(device, dtype \u001b[39mif\u001b[39;00m t\u001b[39m.\u001b[39mis_floating_point() \u001b[39mor\u001b[39;00m t\u001b[39m.\u001b[39mis_complex() \u001b[39melse\u001b[39;00m \u001b[39mNone\u001b[39;00m,\n\u001b[1;32m   1142\u001b[0m                 non_blocking, memory_format\u001b[39m=\u001b[39mconvert_to_format)\n\u001b[0;32m-> 1143\u001b[0m \u001b[39mreturn\u001b[39;00m t\u001b[39m.\u001b[39;49mto(device, dtype \u001b[39mif\u001b[39;49;00m t\u001b[39m.\u001b[39;49mis_floating_point() \u001b[39mor\u001b[39;49;00m t\u001b[39m.\u001b[39;49mis_complex() \u001b[39melse\u001b[39;49;00m \u001b[39mNone\u001b[39;49;00m, non_blocking)\n",
      "\u001b[0;31mKeyboardInterrupt\u001b[0m: "
     ]
    }
   ],
   "source": [
    "a = Pipable(\"sample_data/configCSV.yaml\")"
   ]
  },
  {
   "cell_type": "code",
   "execution_count": 3,
   "metadata": {},
   "outputs": [
    {
     "name": "stderr",
     "output_type": "stream",
     "text": [
      "No GPU/TPU found, falling back to CPU. (Set TF_CPP_MIN_LOG_LEVEL=0 and rerun for more info.)\n"
     ]
    },
    {
     "name": "stdout",
     "output_type": "stream",
     "text": [
      "LLM: As an AI language model, I can provide you with a general guide on how to make a cake. However, since I don't have direct access to Google, I can't specifically search for the \"best\" way to make a cake. Here's a basic recipe:\n",
      "\n",
      "Ingredients:\n",
      "- 2 1/4 cups all-purpose flour\n",
      "- 2 cups granulated sugar\n",
      "- 1 cup unsalted butter, softened\n",
      "- 4 large eggs\n",
      "- 1 cup milk\n",
      "- 1 teaspoon vanilla extract\n",
      "- 3 1/2 teaspoons baking powder\n",
      "- 1/2 teaspoon salt\n",
      "\n",
      "Instructions:\n",
      "1. Preheat your oven to 350°F (175°C). Grease and flour two 9-inch round cake pans.\n",
      "2. In a large mixing bowl, cream together the butter and sugar until fluffy.\n",
      "3. Beat in the eggs, one at a time, ensuring each one is fully incorporated.\n",
      "4. In a separate bowl, whisk together the flour, baking powder, and salt.\n",
      "5. Gradually add the dry ingredients to the butter mixture while alternating with the milk. Begin and end with the dry ingredients.\n",
      "6. Stir in the vanilla extract.\n",
      "7. Mix the batter until smooth and well combined, but avoid overmixing.\n",
      "8. Divide the batter equally between the prepared pans, smoothing the tops with a spatula.\n",
      "9. Bake in the preheated oven for approximately 25-30 minutes or until a toothpick inserted into the center comes out clean.\n",
      "10. Remove the cakes from the oven and let them cool in the pans for 10 minutes, then transfer them to a wire rack to cool completely.\n",
      "11. Once cooled, you can frost and decorate the cake as desired.\n",
      "\n",
      "Remember, this is a basic recipe, and you can adjust it to your preferences by adding flavors, fillings, or frosting of your choice. Additionally, you may want to refer to more specific recipes or search for tutorials and tips for creating the best cake variations on Google or other baking websites.\n",
      "Google search: As an AI language model, I can provide you with a general guide on how to make a cake. However, since I don't have direct access to Google, I can't specifically search for the \"best\" way to make a cake. Here's a basic recipe:\n",
      "\n",
      "Ingredients:\n",
      "- 2 1/4 cups all-purpose flour\n",
      "- 2 cups granulated sugar\n",
      "- 1 cup unsalted butter, softened\n",
      "- 4 large eggs\n",
      "- 1 cup milk\n",
      "- 1 teaspoon vanilla extract\n",
      "- 3 1/2 teaspoons baking powder\n",
      "- 1/2 teaspoon salt\n",
      "\n",
      "Instructions:\n",
      "1. Preheat your oven to 350°F (175°C). Grease and flour two 9-inch round cake pans.\n",
      "2. In a large mixing bowl, cream together the butter and sugar until fluffy.\n",
      "3. Beat in the eggs, one at a time, ensuring each one is fully incorporated.\n",
      "4. In a separate bowl, whisk together the flour, baking powder, and salt.\n",
      "5. Gradually add the dry ingredients to the butter mixture while alternating with the milk. Begin and end with the dry ingredients.\n",
      "6. Stir in the vanilla extract.\n",
      "7. Mix the batter until smooth and well combined, but avoid overmixing.\n",
      "8. Divide the batter equally between the prepared pans, smoothing the tops with a spatula.\n",
      "9. Bake in the preheated oven for approximately 25-30 minutes or until a toothpick inserted into the center comes out clean.\n",
      "10. Remove the cakes from the oven and let them cool in the pans for 10 minutes, then transfer them to a wire rack to cool completely.\n",
      "11. Once cooled, you can frost and decorate the cake as desired.\n",
      "\n",
      "Remember, this is a basic recipe, and you can adjust it to your preferences by adding flavors, fillings, or frosting of your choice. Additionally, you may want to refer to more specific recipes or search for tutorials and tips for creating the best cake variations on Google or other baking websites.\n",
      "\n",
      "Link 1: https://mitsloan.mit.edu/ideas-made-to-matter/machine-learning-explained\n",
      "Result 1: Apr 21 2021 Reinforcement machine learning trains machines through trial and error to take the best action by establishing a reward system Reinforcement\n",
      "\n",
      "Link 2: https://developers.google.com/search/docs/appearance/structured-data/intro-structured-data\n",
      "Result 2: The best way to do that is to run a before and after test on a few pages on your site This can be a little tricky since page views can vary for a single\n",
      "\n",
      "Link 3: https://www.bettycrocker.com/recipes/foolproof-turkey-gravy/f5652d3d-c137-435e-b84f-fa9cc8e25828\n",
      "Result 3: Youll get rave reviews but dont let anyone know how easy it really is to make turkey This is so simple to make and I have to admit the best tasting\n",
      "\n",
      "Link 4: https://developers.google.com/search/docs/appearance/structured-data/recipe\n",
      "Result 4: Additional image guidelines Every page must contain at least one image whether or not you include markup Google will pick the best image to display in\n",
      "\n",
      "Link 5: https://files.eric.ed.gov/fulltext/ED462790.pdf\n",
      "Result 5: Reproductions supplied by EDRS are the best that can be made basic education teachers and exceptional education teachers with a modified\n",
      "\n",
      "Link 6: https://opentextbc.ca/writingforsuccess/chapter/chapter-2-working-with-words-which-word-is-right/\n",
      "Result 6: Having a solid everyday vocabulary will help you while writing but learning The best way to master new words is to understand the key spelling rules\n",
      "\n",
      "Link 7: https://files.eric.ed.gov/fulltext/ED150955.pdf\n",
      "Result 7: implementation required no effofts outside of my own ASPisgiven s set of answers to a question about a story and ASP tries toselect the best answer\n",
      "\n",
      "Link 8: https://chilis.com/frequently-asked-questions\n",
      "Result 8: Contact us and find info about My Chilis Rewards menu nutrition Its our way of making sure our Chilis Regulars keep getting the best deal every\n",
      "\n",
      "Link 9: https://www.pillsbury.com/everyday-eats/desserts/pies-tarts/how-to-make-apple-pie\n",
      "Result 9: How to Make Classic Apple Pie The Best Apples for Apple Pie How to Make Homemade Apple Pie Filling How Long to Bake Apple Pie Different Types of Apple\n",
      "\n",
      "Link 10: https://www.misd.net/languageart/grammarinaction/proofreadingrevisingediting.pdf\n",
      "Result 10: Of the three sweaters I like the red one a better b best follow the recipe or if you leave out a key ingredient the cake will not turn out\n"
     ]
    }
   ],
   "source": [
    "a.ask(\"ask LLM and google what is the best way to make a cake?\")"
   ]
  },
  {
   "cell_type": "code",
   "execution_count": 4,
   "metadata": {},
   "outputs": [
    {
     "data": {
      "text/plain": [
       "[{'isError': False,\n",
       "  'output': ['As an AI language model, I can provide you with a general guide on how to make a cake. However, since I don\\'t have direct access to Google, I can\\'t specifically search for the \"best\" way to make a cake. Here\\'s a basic recipe:\\n\\nIngredients:\\n- 2 1/4 cups all-purpose flour\\n- 2 cups granulated sugar\\n- 1 cup unsalted butter, softened\\n- 4 large eggs\\n- 1 cup milk\\n- 1 teaspoon vanilla extract\\n- 3 1/2 teaspoons baking powder\\n- 1/2 teaspoon salt\\n\\nInstructions:\\n1. Preheat your oven to 350°F (175°C). Grease and flour two 9-inch round cake pans.\\n2. In a large mixing bowl, cream together the butter and sugar until fluffy.\\n3. Beat in the eggs, one at a time, ensuring each one is fully incorporated.\\n4. In a separate bowl, whisk together the flour, baking powder, and salt.\\n5. Gradually add the dry ingredients to the butter mixture while alternating with the milk. Begin and end with the dry ingredients.\\n6. Stir in the vanilla extract.\\n7. Mix the batter until smooth and well combined, but avoid overmixing.\\n8. Divide the batter equally between the prepared pans, smoothing the tops with a spatula.\\n9. Bake in the preheated oven for approximately 25-30 minutes or until a toothpick inserted into the center comes out clean.\\n10. Remove the cakes from the oven and let them cool in the pans for 10 minutes, then transfer them to a wire rack to cool completely.\\n11. Once cooled, you can frost and decorate the cake as desired.\\n\\nRemember, this is a basic recipe, and you can adjust it to your preferences by adding flavors, fillings, or frosting of your choice. Additionally, you may want to refer to more specific recipes or search for tutorials and tips for creating the best cake variations on Google or other baking websites.',\n",
       "   {'url': 'https://mitsloan.mit.edu/ideas-made-to-matter/machine-learning-explained',\n",
       "    'headline': 'Apr 21 2021 Reinforcement machine learning trains machines through trial and error to take the best action by establishing a reward system Reinforcement'},\n",
       "   {'url': 'https://developers.google.com/search/docs/appearance/structured-data/intro-structured-data',\n",
       "    'headline': 'The best way to do that is to run a before and after test on a few pages on your site This can be a little tricky since page views can vary for a single'},\n",
       "   {'url': 'https://www.bettycrocker.com/recipes/foolproof-turkey-gravy/f5652d3d-c137-435e-b84f-fa9cc8e25828',\n",
       "    'headline': 'Youll get rave reviews but dont let anyone know how easy it really is to make turkey This is so simple to make and I have to admit the best tasting'},\n",
       "   {'url': 'https://developers.google.com/search/docs/appearance/structured-data/recipe',\n",
       "    'headline': 'Additional image guidelines Every page must contain at least one image whether or not you include markup Google will pick the best image to display in'},\n",
       "   {'url': 'https://files.eric.ed.gov/fulltext/ED462790.pdf',\n",
       "    'headline': 'Reproductions supplied by EDRS are the best that can be made basic education teachers and exceptional education teachers with a modified'},\n",
       "   {'url': 'https://opentextbc.ca/writingforsuccess/chapter/chapter-2-working-with-words-which-word-is-right/',\n",
       "    'headline': 'Having a solid everyday vocabulary will help you while writing but learning The best way to master new words is to understand the key spelling rules'},\n",
       "   {'url': 'https://files.eric.ed.gov/fulltext/ED150955.pdf',\n",
       "    'headline': 'implementation required no effofts outside of my own ASPisgiven s set of answers to a question about a story and ASP tries toselect the best answer'},\n",
       "   {'url': 'https://chilis.com/frequently-asked-questions',\n",
       "    'headline': 'Contact us and find info about My Chilis Rewards menu nutrition Its our way of making sure our Chilis Regulars keep getting the best deal every'},\n",
       "   {'url': 'https://www.pillsbury.com/everyday-eats/desserts/pies-tarts/how-to-make-apple-pie',\n",
       "    'headline': 'How to Make Classic Apple Pie The Best Apples for Apple Pie How to Make Homemade Apple Pie Filling How Long to Bake Apple Pie Different Types of Apple'},\n",
       "   {'url': 'https://www.misd.net/languageart/grammarinaction/proofreadingrevisingediting.pdf',\n",
       "    'headline': 'Of the three sweaters I like the red one a better b best follow the recipe or if you leave out a key ingredient the cake will not turn out'}],\n",
       "  'model_id': 'llm_google',\n",
       "  'dtype': list}]"
      ]
     },
     "execution_count": 4,
     "metadata": {},
     "output_type": "execute_result"
    }
   ],
   "source": [
    "a.get_outputs()"
   ]
  },
  {
   "cell_type": "code",
   "execution_count": 6,
   "metadata": {},
   "outputs": [
    {
     "name": "stdout",
     "output_type": "stream",
     "text": [
      "Google search: ask google what is the best way to make a cake?\n",
      "\n",
      "Link 1: https://www.youtube.com/watch?v=uC7r9OtI0Xs\n",
      "Result 1: Sep 28 2017 VIDEOS RECIPES REFERENCED How to Make the BestEver Buttercream Frosting httpbitlyButtercreamVid How to Substitute Eggs in\n",
      "\n",
      "Link 2: https://www.wordstream.com/blog/ws/2020/07/16/how-to-ask-for-reviews\n",
      "Result 2: Jul 16 2020 For some businesses asking for a review immediately after their purchase makes sense while others may want to wait to give the customer time\n",
      "\n",
      "Link 3: https://support.google.com/googlenest/answer/7536723?hl=en\n",
      "Result 3: Get a little help to remember things Ask Google Assistant to remember your moms favorite cake your bike locker number or the last place you stored your\n",
      "\n",
      "Link 4: https://www.bettycrocker.com/how-to/ask-betty/answer/how-can-make-white-cake-mix-into-chocolate/034bd80d-e180-5886-97f1-3556731d8e32\n",
      "Result 4: Mar 16 2013 Add 14 cup of cocoa to the cake mix and add all other ingredients as directed I have attached another way of getting a chocolate cake using\n",
      "\n",
      "Link 5: https://support.google.com/assistant/answer/7536723?hl=en\n",
      "Result 5: Get a little help to remember things Ask Google Assistant to remember your moms favorite cake your bike locker number or the last place you stored your\n",
      "\n",
      "Link 6: https://www.bhg.com/recipes/how-to/bake/how-to-make-a-cake/\n",
      "Result 6: Sep 26 2022 How to Bake a Cake Step 1 Prepare Baking Pans Step 2 Allow Ingredients to Reach Room Temperature Step 3 Preheat the Oven Step 4 Stir\n",
      "\n",
      "Link 7: https://www.instacart.com/company/ideas/how-to-make-box-cake-better/\n",
      "Result 7: Jun 30 2023 Use butter instead of oil More often than not box cake recipes will ask that you add canola or vegetable oil Thats because theyre\n",
      "\n",
      "Link 8: https://www.bettycrocker.com/how-to/ask-betty/answer/how-to-make-cake-denser/cf46a673-da02-4614-a857-6cf9af29bf3d\n",
      "Result 8: Jan 4 2015 That is a great question There are several ways to modify a boxed cake mix to make it more dense You can try any of the following adding\n",
      "\n",
      "Link 9: https://www.askchefdennis.com/jewish-apple-cake/\n",
      "Result 9: Jun 7 2020 Cakes made with butter will taste better but for this cake oil is definitely a good choice How do I make a Jewish Apple Cake\n",
      "\n",
      "Link 10: https://www.beaconjournal.com/story/lifestyle/food/2014/03/05/ask-lisa-can-you-fix/985169007/\n",
      "Result 10: Mar 5 2014 One of the reasons there is a best by date on cake mixes is because the manufacturer knows the age of the ingredients inside\n"
     ]
    }
   ],
   "source": [
    "a.ask(\"ask google what is the best way to make a cake?\")"
   ]
  },
  {
   "cell_type": "code",
   "execution_count": null,
   "metadata": {},
   "outputs": [
    {
     "name": "stdout",
     "output_type": "stream",
     "text": [
      "LLM: The best way to make a cake can vary based on personal preferences and dietary restrictions, as well as the type of cake you are interested in. However, here is a basic guideline that can help you make a delicious cake:\n",
      "\n",
      "1. Gather your ingredients based on the recipe you choose. Basic ingredients for most cakes include flour, sugar, butter, eggs, baking powder/soda, salt, milk, and flavorings (e.g., vanilla extract).\n",
      "\n",
      "2. Preheat your oven to the required temperature stated in the recipe.\n",
      "\n",
      "3. Prepare your baking pans by greasing them lightly with butter or oil, and optionally flouring them to prevent sticking.\n",
      "\n",
      "4. In a mixing bowl, cream the butter and sugar together until light and fluffy. Then, add eggs one at a time, beating well after each addition.\n",
      "\n",
      "5. In a separate bowl, whisk together the dry ingredients (flour, baking powder/soda, and salt). Gradually add this mixture to the creamed mixture, alternating with the milk, starting and ending with the dry ingredients. Mix until just combined; avoid over-mixing.\n",
      "\n",
      "6. Add any desired flavorings, such as vanilla extract, and mix just until incorporated.\n",
      "\n",
      "7. Pour the batter evenly into the prepared pans and smooth the tops with a spatula.\n",
      "\n",
      "8. Place the pans in the preheated oven and bake for the time mentioned in the recipe. Avoid opening the oven door too often during baking to prevent heat loss.\n",
      "\n",
      "9. Check the cake's doneness by inserting a toothpick into the center; it should come out clean or with a few crumbs clinging to it. Be cautious not to overbake, as it can result in a dry cake.\n",
      "\n",
      "10. Once baked, remove the cakes from the oven and let them cool in the pans for around 10 minutes. Then, transfer them onto a wire rack to cool completely before frosting and decorating.\n",
      "\n",
      "Remember to consult specific cake recipes for more detailed instructions, as variations exist depending on the specific cake type you wish to make.\n"
     ]
    }
   ],
   "source": [
    "a.ask(\"ask LLM what is the best way to make a cake?\")"
   ]
  },
  {
   "cell_type": "code",
   "execution_count": 6,
   "metadata": {},
   "outputs": [],
   "source": [
    "a.ask(\"Can you point me to some of the latest studies in cardio health?\")"
   ]
  },
  {
   "cell_type": "code",
   "execution_count": 7,
   "metadata": {},
   "outputs": [
    {
     "data": {
      "text/plain": [
       "[{'isError': True,\n",
       "  'output': \"[Errno 2] No such file or directory: 'Can you point me to some of the latest studies in cardio health?'\",\n",
       "  'model_id': 'read_pdf',\n",
       "  'dtype': 'ERROR'}]"
      ]
     },
     "execution_count": 7,
     "metadata": {},
     "output_type": "execute_result"
    }
   ],
   "source": [
    "a.get_outputs(1)"
   ]
  }
 ],
 "metadata": {
  "kernelspec": {
   "display_name": "Python 3",
   "language": "python",
   "name": "python3"
  },
  "language_info": {
   "codemirror_mode": {
    "name": "ipython",
    "version": 3
   },
   "file_extension": ".py",
   "mimetype": "text/x-python",
   "name": "python",
   "nbconvert_exporter": "python",
   "pygments_lexer": "ipython3",
   "version": "3.10.12"
  },
  "orig_nbformat": 4
 },
 "nbformat": 4,
 "nbformat_minor": 2
}
