{
 "cells": [
  {
   "cell_type": "code",
   "execution_count": 1,
   "id": "0e2abe34",
   "metadata": {},
   "outputs": [
    {
     "name": "stderr",
     "output_type": "stream",
     "text": [
      "/home/raghav/.local/lib/python3.10/site-packages/tqdm/auto.py:21: TqdmWarning: IProgress not found. Please update jupyter and ipywidgets. See https://ipywidgets.readthedocs.io/en/stable/user_install.html\n",
      "  from .autonotebook import tqdm as notebook_tqdm\n"
     ]
    }
   ],
   "source": [
    "from pipable import Pipable"
   ]
  },
  {
   "cell_type": "code",
   "execution_count": 2,
   "id": "82e16a4b",
   "metadata": {},
   "outputs": [],
   "source": [
    "a = Pipable(\"sample_data/configPG.yaml\")"
   ]
  },
  {
   "cell_type": "code",
   "execution_count": 11,
   "id": "c9e875fb",
   "metadata": {},
   "outputs": [
    {
     "name": "stdout",
     "output_type": "stream",
     "text": [
      "SELECT first_name, last_name\n",
      "FROM alyf_members\n",
      "ORDER BY random()\n",
      "LIMIT 5;\n",
      "Generated query failed. Try regenerating.\n"
     ]
    }
   ],
   "source": [
    "a.ask(\"search data, give me first and last name of 5 patients with the highest height\")"
   ]
  },
  {
   "cell_type": "code",
   "execution_count": 4,
   "id": "e74936ca",
   "metadata": {},
   "outputs": [
    {
     "data": {
      "text/plain": [
       "{'isError': False,\n",
       " 'output': 'column \"height\" does not exist\\nLINE 3: ORDER BY height DESC\\n                 ^\\n',\n",
       " 'model_id': 'data_search',\n",
       " 'dtype': 'ERROR'}"
      ]
     },
     "execution_count": 4,
     "metadata": {},
     "output_type": "execute_result"
    }
   ],
   "source": [
    "a.all_outputs[-1]"
   ]
  },
  {
   "cell_type": "code",
   "execution_count": 5,
   "id": "39188fb0",
   "metadata": {},
   "outputs": [
    {
     "data": {
      "text/plain": [
       "[{'isError': False,\n",
       "  'output': 'column \"height\" does not exist\\nLINE 3: ORDER BY height DESC\\n                 ^\\n',\n",
       "  'model_id': 'data_search',\n",
       "  'dtype': 'ERROR'}]"
      ]
     },
     "execution_count": 5,
     "metadata": {},
     "output_type": "execute_result"
    }
   ],
   "source": [
    "a.all_outputs"
   ]
  }
 ],
 "metadata": {
  "kernelspec": {
   "display_name": "Python 3 (ipykernel)",
   "language": "python",
   "name": "python3"
  },
  "language_info": {
   "codemirror_mode": {
    "name": "ipython",
    "version": 3
   },
   "file_extension": ".py",
   "mimetype": "text/x-python",
   "name": "python",
   "nbconvert_exporter": "python",
   "pygments_lexer": "ipython3",
   "version": "3.10.12"
  }
 },
 "nbformat": 4,
 "nbformat_minor": 5
}
