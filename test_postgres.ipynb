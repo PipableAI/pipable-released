{
 "cells": [
  {
   "cell_type": "code",
   "execution_count": 1,
   "id": "0e2abe34",
   "metadata": {},
   "outputs": [
    {
     "name": "stderr",
     "output_type": "stream",
     "text": [
      "/home/raghav/.local/lib/python3.10/site-packages/tqdm/auto.py:21: TqdmWarning: IProgress not found. Please update jupyter and ipywidgets. See https://ipywidgets.readthedocs.io/en/stable/user_install.html\n",
      "  from .autonotebook import tqdm as notebook_tqdm\n"
     ]
    }
   ],
   "source": [
    "from pipable import Pipable"
   ]
  },
  {
   "cell_type": "code",
   "execution_count": 2,
   "id": "82e16a4b",
   "metadata": {},
   "outputs": [],
   "source": [
    "a = Pipable(\"sample_data/configPG_alyf.yaml\")"
   ]
  },
  {
   "cell_type": "code",
   "execution_count": 3,
   "id": "c9e875fb",
   "metadata": {},
   "outputs": [
    {
     "name": "stderr",
     "output_type": "stream",
     "text": [
      "No GPU/TPU found, falling back to CPU. (Set TF_CPP_MIN_LOG_LEVEL=0 and rerun for more info.)\n"
     ]
    },
    {
     "name": "stdout",
     "output_type": "stream",
     "text": [
      "SELECT first_name, last_name\n",
      "FROM alyf_members\n",
      "WHERE member_id IN (\n",
      "    SELECT member_id\n",
      "    FROM alyf_asvs\n",
      "    WHERE daily_hfi > 35\n",
      "    LIMIT 5\n",
      ")\n",
      "Query executed successfully.\n"
     ]
    }
   ],
   "source": [
    "a.ask(\"search data, give me first and last name of 5 patients with heart risk\")"
   ]
  },
  {
   "cell_type": "code",
   "execution_count": 8,
   "id": "e74936ca",
   "metadata": {},
   "outputs": [
    {
     "name": "stdout",
     "output_type": "stream",
     "text": [
      "[{'isError': False, 'output':   first_name last_name\n",
      "0      James     Huber\n",
      "1      Susan    Miller\n",
      "2    Natalie     Lewis, 'model_id': 'data_search', 'dtype': <class 'pandas.core.frame.DataFrame'>}]\n"
     ]
    }
   ],
   "source": [
    "print(a.get_outputs(1))"
   ]
  },
  {
   "cell_type": "code",
   "execution_count": 7,
   "id": "39188fb0",
   "metadata": {},
   "outputs": [
    {
     "name": "stdout",
     "output_type": "stream",
     "text": [
      "[{'isError': False, 'output':   first_name last_name\n",
      "0      James     Huber\n",
      "1      Susan    Miller\n",
      "2    Natalie     Lewis, 'model_id': 'data_search', 'dtype': <class 'pandas.core.frame.DataFrame'>}]\n"
     ]
    }
   ],
   "source": [
    "print(a.get_outputs())"
   ]
  }
 ],
 "metadata": {
  "kernelspec": {
   "display_name": "Python 3 (ipykernel)",
   "language": "python",
   "name": "python3"
  },
  "language_info": {
   "codemirror_mode": {
    "name": "ipython",
    "version": 3
   },
   "file_extension": ".py",
   "mimetype": "text/x-python",
   "name": "python",
   "nbconvert_exporter": "python",
   "pygments_lexer": "ipython3",
   "version": "3.10.12"
  }
 },
 "nbformat": 4,
 "nbformat_minor": 5
}
