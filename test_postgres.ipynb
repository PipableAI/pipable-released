{
 "cells": [
  {
   "cell_type": "code",
   "execution_count": null,
   "id": "0e2abe34",
   "metadata": {},
   "outputs": [],
   "source": [
    "from pipable import Pipable"
   ]
  },
  {
   "cell_type": "code",
   "execution_count": null,
   "id": "82e16a4b",
   "metadata": {},
   "outputs": [],
   "source": [
    "a = Pipable(\"sample_data/alyf_default.yaml\")"
   ]
  },
  {
   "cell_type": "code",
   "execution_count": null,
   "id": "c9e875fb",
   "metadata": {},
   "outputs": [],
   "source": [
    "a.ask(\"search data, give me first and last name of 5 patients with the highest weight_daily_avg\")"
   ]
  },
  {
   "cell_type": "code",
   "execution_count": null,
   "id": "e74936ca",
   "metadata": {},
   "outputs": [],
   "source": [
    "a.get_latest_output()"
   ]
  }
 ],
 "metadata": {
  "kernelspec": {
   "display_name": "Python 3 (ipykernel)",
   "language": "python",
   "name": "python3"
  },
  "language_info": {
   "codemirror_mode": {
    "name": "ipython",
    "version": 3
   },
   "file_extension": ".py",
   "mimetype": "text/x-python",
   "name": "python",
   "nbconvert_exporter": "python",
   "pygments_lexer": "ipython3",
   "version": "3.10.12"
  }
 },
 "nbformat": 4,
 "nbformat_minor": 5
}
