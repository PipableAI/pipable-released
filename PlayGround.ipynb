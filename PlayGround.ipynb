{
 "cells": [
  {
   "cell_type": "code",
   "execution_count": 1,
   "id": "0e2abe34",
   "metadata": {},
   "outputs": [
    {
     "name": "stderr",
     "output_type": "stream",
     "text": [
      "/home/csart/env/lib/python3.9/site-packages/tqdm/auto.py:21: TqdmWarning: IProgress not found. Please update jupyter and ipywidgets. See https://ipywidgets.readthedocs.io/en/stable/user_install.html\n",
      "  from .autonotebook import tqdm as notebook_tqdm\n"
     ]
    }
   ],
   "source": [
    "from pipable import Pipable"
   ]
  },
  {
   "cell_type": "code",
   "execution_count": 2,
   "id": "82e16a4b",
   "metadata": {},
   "outputs": [],
   "source": [
    "a = Pipable(\"sample_data/configPG.yaml\")"
   ]
  },
  {
   "cell_type": "code",
   "execution_count": 14,
   "id": "c9e875fb",
   "metadata": {},
   "outputs": [],
   "source": [
    "a.ask(\"Which of my patients have a heart failure risk\")"
   ]
  },
  {
   "cell_type": "code",
   "execution_count": 15,
   "id": "e74936ca",
   "metadata": {},
   "outputs": [
    {
     "data": {
      "text/html": [
       "<div>\n",
       "<style scoped>\n",
       "    .dataframe tbody tr th:only-of-type {\n",
       "        vertical-align: middle;\n",
       "    }\n",
       "\n",
       "    .dataframe tbody tr th {\n",
       "        vertical-align: top;\n",
       "    }\n",
       "\n",
       "    .dataframe thead th {\n",
       "        text-align: right;\n",
       "    }\n",
       "</style>\n",
       "<table border=\"1\" class=\"dataframe\">\n",
       "  <thead>\n",
       "    <tr style=\"text-align: right;\">\n",
       "      <th></th>\n",
       "      <th>0</th>\n",
       "      <th>1</th>\n",
       "      <th>2</th>\n",
       "      <th>3</th>\n",
       "      <th>4</th>\n",
       "      <th>5</th>\n",
       "      <th>6</th>\n",
       "      <th>7</th>\n",
       "      <th>8</th>\n",
       "      <th>9</th>\n",
       "      <th>10</th>\n",
       "      <th>11</th>\n",
       "      <th>12</th>\n",
       "      <th>13</th>\n",
       "      <th>14</th>\n",
       "    </tr>\n",
       "  </thead>\n",
       "  <tbody>\n",
       "    <tr>\n",
       "      <th>0</th>\n",
       "      <td>d4b4fb84-e5db-4d39-97cd-d7e3e659aaf5</td>\n",
       "      <td>22whojLaehSsEtF0mwbjfmkAb1q2</td>\n",
       "      <td>True</td>\n",
       "      <td>Joseph</td>\n",
       "      <td>Hill</td>\n",
       "      <td>joseph_hillhd@icloud.com</td>\n",
       "      <td>2023-06-14 00:12:54.209084+00:00</td>\n",
       "      <td>2023-07-06 20:24:55.494387+00:00</td>\n",
       "      <td>True</td>\n",
       "      <td>ac7a5bea-4b87-4f40-82ca-8426d6bda796</td>\n",
       "      <td>None</td>\n",
       "      <td>male</td>\n",
       "      <td>6719 Aaron Ford\\nNorth Williamberg, MA 61646</td>\n",
       "      <td>1981-09-14 00:00:00+00:00</td>\n",
       "      <td>UTC</td>\n",
       "    </tr>\n",
       "    <tr>\n",
       "      <th>1</th>\n",
       "      <td>e280bb0a-0b94-4026-8460-1847d109ef92</td>\n",
       "      <td>22whojLaehSsEtF0mwbjfmkAb1q2</td>\n",
       "      <td>True</td>\n",
       "      <td>Laura</td>\n",
       "      <td>Lin</td>\n",
       "      <td>lauralin1p@gmail.com</td>\n",
       "      <td>2023-06-14 00:12:46.031470+00:00</td>\n",
       "      <td>2023-07-06 20:25:03.884232+00:00</td>\n",
       "      <td>True</td>\n",
       "      <td>d66fdad1-9147-41d2-8ca4-a05dac290d61</td>\n",
       "      <td>None</td>\n",
       "      <td>female</td>\n",
       "      <td>162 Tina Stravenue Suite 065\\nEast Michael, SC...</td>\n",
       "      <td>1991-12-06 00:00:00+00:00</td>\n",
       "      <td>UTC</td>\n",
       "    </tr>\n",
       "    <tr>\n",
       "      <th>2</th>\n",
       "      <td>4b05e4a7-1db5-4d4e-ac2b-7e5838f65550</td>\n",
       "      <td>22whojLaehSsEtF0mwbjfmkAb1q2</td>\n",
       "      <td>True</td>\n",
       "      <td>Christopher</td>\n",
       "      <td>Shelton</td>\n",
       "      <td>christopher_shelton@gmail.com</td>\n",
       "      <td>2023-06-14 00:13:04.303417+00:00</td>\n",
       "      <td>2023-07-06 20:25:13.410460+00:00</td>\n",
       "      <td>True</td>\n",
       "      <td>f95955d0-0c81-4752-ad5b-085ac929e5e0</td>\n",
       "      <td>None</td>\n",
       "      <td>male</td>\n",
       "      <td>2087 Allen Ville Suite 825\\nPort Andrefort, NY...</td>\n",
       "      <td>1980-03-01 00:00:00+00:00</td>\n",
       "      <td>UTC</td>\n",
       "    </tr>\n",
       "  </tbody>\n",
       "</table>\n",
       "</div>"
      ],
      "text/plain": [
       "                                     0                             1     2   \\\n",
       "0  d4b4fb84-e5db-4d39-97cd-d7e3e659aaf5  22whojLaehSsEtF0mwbjfmkAb1q2  True   \n",
       "1  e280bb0a-0b94-4026-8460-1847d109ef92  22whojLaehSsEtF0mwbjfmkAb1q2  True   \n",
       "2  4b05e4a7-1db5-4d4e-ac2b-7e5838f65550  22whojLaehSsEtF0mwbjfmkAb1q2  True   \n",
       "\n",
       "            3        4                              5   \\\n",
       "0       Joseph     Hill       joseph_hillhd@icloud.com   \n",
       "1        Laura      Lin           lauralin1p@gmail.com   \n",
       "2  Christopher  Shelton  christopher_shelton@gmail.com   \n",
       "\n",
       "                                6                                7     8   \\\n",
       "0 2023-06-14 00:12:54.209084+00:00 2023-07-06 20:24:55.494387+00:00  True   \n",
       "1 2023-06-14 00:12:46.031470+00:00 2023-07-06 20:25:03.884232+00:00  True   \n",
       "2 2023-06-14 00:13:04.303417+00:00 2023-07-06 20:25:13.410460+00:00  True   \n",
       "\n",
       "                                     9     10      11  \\\n",
       "0  ac7a5bea-4b87-4f40-82ca-8426d6bda796  None    male   \n",
       "1  d66fdad1-9147-41d2-8ca4-a05dac290d61  None  female   \n",
       "2  f95955d0-0c81-4752-ad5b-085ac929e5e0  None    male   \n",
       "\n",
       "                                                  12  \\\n",
       "0       6719 Aaron Ford\\nNorth Williamberg, MA 61646   \n",
       "1  162 Tina Stravenue Suite 065\\nEast Michael, SC...   \n",
       "2  2087 Allen Ville Suite 825\\nPort Andrefort, NY...   \n",
       "\n",
       "                         13   14  \n",
       "0 1981-09-14 00:00:00+00:00  UTC  \n",
       "1 1991-12-06 00:00:00+00:00  UTC  \n",
       "2 1980-03-01 00:00:00+00:00  UTC  "
      ]
     },
     "execution_count": 15,
     "metadata": {},
     "output_type": "execute_result"
    }
   ],
   "source": [
    "a.get_latest_output()"
   ]
  },
  {
   "cell_type": "code",
   "execution_count": 13,
   "id": "47f87c15",
   "metadata": {},
   "outputs": [
    {
     "data": {
      "text/plain": [
       "[('SELECT m.first_name, m.last_name\\nFROM alyf_asvs AS a\\nJOIN alyf_members AS m ON a.member_id = m.member_id\\nORDER BY a.weight_daily_avg DESC\\nLIMIT 1;',\n",
       "  'normal'),\n",
       " ('SELECT m.member_id \\nFROM alyf_asvs AS a \\nJOIN alyf_members AS m ON a.member_id = m.member_id \\nWHERE a.daily_hfi > 35;',\n",
       "  'normal'),\n",
       " ('SELECT a.member_id\\nFROM alyf_members a\\nJOIN alyf_asvs b ON a.member_id = b.member_id\\nWHERE b.daily_hfi > 35;',\n",
       "  'normal'),\n",
       " ('SELECT DISTINCT a.member_id\\nFROM alyf_members a\\nJOIN alyf_asvs b ON a.member_id = b.member_id\\nWHERE b.daily_hfi > 35;',\n",
       "  'normal')]"
      ]
     },
     "execution_count": 13,
     "metadata": {},
     "output_type": "execute_result"
    }
   ],
   "source": []
  },
  {
   "cell_type": "code",
   "execution_count": null,
   "id": "75605eb5",
   "metadata": {},
   "outputs": [],
   "source": []
  }
 ],
 "metadata": {
  "kernelspec": {
   "display_name": "Python 3 (ipykernel)",
   "language": "python",
   "name": "python3"
  },
  "language_info": {
   "codemirror_mode": {
    "name": "ipython",
    "version": 3
   },
   "file_extension": ".py",
   "mimetype": "text/x-python",
   "name": "python",
   "nbconvert_exporter": "python",
   "pygments_lexer": "ipython3",
   "version": "3.9.2"
  }
 },
 "nbformat": 4,
 "nbformat_minor": 5
}
