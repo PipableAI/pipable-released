{
 "cells": [
  {
   "cell_type": "code",
   "execution_count": 1,
   "metadata": {},
   "outputs": [
    {
     "name": "stderr",
     "output_type": "stream",
     "text": [
      "/home/raghav/.local/lib/python3.10/site-packages/tqdm/auto.py:21: TqdmWarning: IProgress not found. Please update jupyter and ipywidgets. See https://ipywidgets.readthedocs.io/en/stable/user_install.html\n",
      "  from .autonotebook import tqdm as notebook_tqdm\n"
     ]
    }
   ],
   "source": [
    "from pipable import Pipable"
   ]
  },
  {
   "cell_type": "code",
   "execution_count": 2,
   "metadata": {},
   "outputs": [
    {
     "ename": "AttributeError",
     "evalue": "'str' object has no attribute 'values'",
     "output_type": "error",
     "traceback": [
      "\u001b[0;31m---------------------------------------------------------------------------\u001b[0m",
      "\u001b[0;31mAttributeError\u001b[0m                            Traceback (most recent call last)",
      "Cell \u001b[0;32mIn[2], line 1\u001b[0m\n\u001b[0;32m----> 1\u001b[0m a \u001b[39m=\u001b[39m Pipable(\u001b[39m\"\u001b[39;49m\u001b[39msample_data/configCSV.yaml\u001b[39;49m\u001b[39m\"\u001b[39;49m)\n",
      "File \u001b[0;32m~/pipable/pipable.py:38\u001b[0m, in \u001b[0;36mPipable.__init__\u001b[0;34m(self, path)\u001b[0m\n\u001b[1;32m     36\u001b[0m \u001b[39m#WARNING: use context_sem_search for all semantic search functions related to context ONLY\u001b[39;00m\n\u001b[1;32m     37\u001b[0m \u001b[39mself\u001b[39m\u001b[39m.\u001b[39mcontext_sem_search \u001b[39m=\u001b[39m copy\u001b[39m.\u001b[39mdeepcopy(\u001b[39mself\u001b[39m\u001b[39m.\u001b[39msem_s)\n\u001b[0;32m---> 38\u001b[0m \u001b[39mself\u001b[39m\u001b[39m.\u001b[39mcontext_sem_search\u001b[39m.\u001b[39mcreate_key_vectors(\u001b[39mlist\u001b[39m(\u001b[39mself\u001b[39;49m\u001b[39m.\u001b[39;49mcontext\u001b[39m.\u001b[39;49mvalues()))\n\u001b[1;32m     40\u001b[0m dataType \u001b[39m=\u001b[39m config[\u001b[39m\"\u001b[39m\u001b[39mdataType\u001b[39m\u001b[39m\"\u001b[39m]\n\u001b[1;32m     41\u001b[0m \u001b[39mif\u001b[39;00m dataType \u001b[39m==\u001b[39m \u001b[39m\"\u001b[39m\u001b[39mcsv\u001b[39m\u001b[39m\"\u001b[39m \u001b[39mor\u001b[39;00m dataType \u001b[39m==\u001b[39m \u001b[39m\"\u001b[39m\u001b[39mparquet\u001b[39m\u001b[39m\"\u001b[39m \u001b[39mor\u001b[39;00m dataType \u001b[39m==\u001b[39m \u001b[39m\"\u001b[39m\u001b[39mpdf\u001b[39m\u001b[39m\"\u001b[39m:\n",
      "\u001b[0;31mAttributeError\u001b[0m: 'str' object has no attribute 'values'"
     ]
    }
   ],
   "source": [
    "a = Pipable(\"sample_data/configCSV.yaml\")"
   ]
  },
  {
   "cell_type": "code",
   "execution_count": null,
   "metadata": {},
   "outputs": [
    {
     "name": "stderr",
     "output_type": "stream",
     "text": [
      "No GPU/TPU found, falling back to CPU. (Set TF_CPP_MIN_LOG_LEVEL=0 and rerun for more info.)\n"
     ]
    },
    {
     "name": "stdout",
     "output_type": "stream",
     "text": [
      "df = pd.DataFrame({\n",
      "\tUnnamed: 0: int64,\n",
      "\tstartTimeDate: object,\n",
      "\tinfo: object,\n",
      "\tendTimeDate: object,\n",
      "\tunit: object,\n",
      "\tvital: object,\n",
      "\tvalue: float64,\n",
      "\tid: object,\n",
      "\tsource: object,\n",
      "\tlogTime: object,\n",
      "})\n",
      "df[df['vital'] == 'HRV'][df['value'] < 35]\n",
      "Query executed successfully.\n"
     ]
    },
    {
     "name": "stderr",
     "output_type": "stream",
     "text": [
      "<string>:1: UserWarning: Boolean Series key will be reindexed to match DataFrame index.\n"
     ]
    }
   ],
   "source": [
    "a.ask(\"search data, find patients with HRV < 35\")"
   ]
  }
 ],
 "metadata": {
  "kernelspec": {
   "display_name": "Python 3",
   "language": "python",
   "name": "python3"
  },
  "language_info": {
   "codemirror_mode": {
    "name": "ipython",
    "version": 3
   },
   "file_extension": ".py",
   "mimetype": "text/x-python",
   "name": "python",
   "nbconvert_exporter": "python",
   "pygments_lexer": "ipython3",
   "version": "3.10.12"
  },
  "orig_nbformat": 4
 },
 "nbformat": 4,
 "nbformat_minor": 2
}
