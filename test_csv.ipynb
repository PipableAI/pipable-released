{
 "cells": [
  {
   "cell_type": "code",
   "execution_count": 1,
   "metadata": {},
   "outputs": [
    {
     "name": "stderr",
     "output_type": "stream",
     "text": [
      "/home/raghav/.local/lib/python3.10/site-packages/tqdm/auto.py:21: TqdmWarning: IProgress not found. Please update jupyter and ipywidgets. See https://ipywidgets.readthedocs.io/en/stable/user_install.html\n",
      "  from .autonotebook import tqdm as notebook_tqdm\n"
     ]
    }
   ],
   "source": [
    "from pipable import Pipable"
   ]
  },
  {
   "cell_type": "code",
   "execution_count": 2,
   "metadata": {},
   "outputs": [
    {
     "ename": "AttributeError",
     "evalue": "'str' object has no attribute 'values'",
     "output_type": "error",
     "traceback": [
      "\u001b[0;31m---------------------------------------------------------------------------\u001b[0m",
      "\u001b[0;31mAttributeError\u001b[0m                            Traceback (most recent call last)",
      "Cell \u001b[0;32mIn[2], line 1\u001b[0m\n\u001b[0;32m----> 1\u001b[0m a \u001b[39m=\u001b[39m Pipable(\u001b[39m\"\u001b[39;49m\u001b[39msample_data/configCSV.yaml\u001b[39;49m\u001b[39m\"\u001b[39;49m)\n",
      "File \u001b[0;32m~/pipable/pipable.py:38\u001b[0m, in \u001b[0;36mPipable.__init__\u001b[0;34m(self, path)\u001b[0m\n\u001b[1;32m     36\u001b[0m \u001b[39m#WARNING: use context_sem_search for all semantic search functions related to context ONLY\u001b[39;00m\n\u001b[1;32m     37\u001b[0m \u001b[39mself\u001b[39m\u001b[39m.\u001b[39mcontext_sem_search \u001b[39m=\u001b[39m copy\u001b[39m.\u001b[39mdeepcopy(\u001b[39mself\u001b[39m\u001b[39m.\u001b[39msem_s)\n\u001b[0;32m---> 38\u001b[0m \u001b[39mself\u001b[39m\u001b[39m.\u001b[39mcontext_sem_search\u001b[39m.\u001b[39mcreate_key_vectors(\u001b[39mlist\u001b[39m(\u001b[39mself\u001b[39;49m\u001b[39m.\u001b[39;49mcontext\u001b[39m.\u001b[39;49mvalues()))\n\u001b[1;32m     40\u001b[0m dataType \u001b[39m=\u001b[39m config[\u001b[39m\"\u001b[39m\u001b[39mdataType\u001b[39m\u001b[39m\"\u001b[39m]\n\u001b[1;32m     41\u001b[0m \u001b[39mif\u001b[39;00m dataType \u001b[39m==\u001b[39m \u001b[39m\"\u001b[39m\u001b[39mcsv\u001b[39m\u001b[39m\"\u001b[39m \u001b[39mor\u001b[39;00m dataType \u001b[39m==\u001b[39m \u001b[39m\"\u001b[39m\u001b[39mparquet\u001b[39m\u001b[39m\"\u001b[39m \u001b[39mor\u001b[39;00m dataType \u001b[39m==\u001b[39m \u001b[39m\"\u001b[39m\u001b[39mpdf\u001b[39m\u001b[39m\"\u001b[39m:\n",
      "\u001b[0;31mAttributeError\u001b[0m: 'str' object has no attribute 'values'"
     ]
    }
   ],
   "source": [
    "a = Pipable(\"sample_data/configCSV.yaml\")"
   ]
  },
  {
   "cell_type": "code",
   "execution_count": null,
   "metadata": {},
   "outputs": [
    {
     "name": "stderr",
     "output_type": "stream",
     "text": [
      "No GPU/TPU found, falling back to CPU. (Set TF_CPP_MIN_LOG_LEVEL=0 and rerun for more info.)\n"
     ]
    },
    {
     "name": "stdout",
     "output_type": "stream",
     "text": [
      "df = pd.DataFrame({\n",
      "\tUnnamed: 0: int64,\n",
      "\tstartTimeDate: object,\n",
      "\tinfo: object,\n",
      "\tendTimeDate: object,\n",
      "\tunit: object,\n",
      "\tvital: object,\n",
      "\tvalue: float64,\n",
      "\tid: object,\n",
      "\tsource: object,\n",
      "\tlogTime: object,\n",
      "})\n",
      "df[df['vital'] == 'HRV'][df['value'] < 35]\n",
      "Query executed successfully.\n"
     ]
    },
    {
     "name": "stderr",
     "output_type": "stream",
     "text": [
      "<string>:1: UserWarning: Boolean Series key will be reindexed to match DataFrame index.\n"
     ]
    }
   ],
   "source": [
    "a.ask(\"search data, find patients with HRV < 35\")"
   ]
  },
  {
   "cell_type": "code",
   "execution_count": null,
   "metadata": {},
   "outputs": [
    {
     "data": {
      "text/plain": [
       "{'isError': False,\n",
       " 'output':        Unnamed: 0        startTimeDate       info          endTimeDate   unit  \\\n",
       " 10             10  2023-06-04T20:59:00  automatic  2023-06-04T20:59:00  rmssd   \n",
       " 12             12  2023-06-02T07:27:00  automatic  2023-06-02T07:27:00  rmssd   \n",
       " 20             20  2023-06-01T04:32:00  automatic  2023-06-01T04:32:00  rmssd   \n",
       " 29             29  2023-06-02T18:12:00  automatic  2023-06-02T18:12:00  rmssd   \n",
       " 31             31  2023-06-01T22:50:00  automatic  2023-06-01T22:50:00  rmssd   \n",
       " ...           ...                  ...        ...                  ...    ...   \n",
       " 29981       29981  2023-04-30T20:23:00  automatic  2023-04-30T20:23:00  rmssd   \n",
       " 29984       29984  2023-05-30T13:25:00  automatic  2023-05-30T13:25:00  rmssd   \n",
       " 29985       29985  2023-05-29T11:50:00  automatic  2023-05-29T11:50:00  rmssd   \n",
       " 29989       29989  2023-06-02T05:21:00  automatic  2023-06-02T05:21:00  rmssd   \n",
       " 29996       29996  2023-06-04T07:21:00  automatic  2023-06-04T07:21:00  rmssd   \n",
       " \n",
       "       vital      value                                    id  source  \\\n",
       " 10      HRV  24.707151  381235aa-b9af-40ab-a421-78bc82f6eab4  fitbit   \n",
       " 12      HRV  26.318927  7ced6233-01d1-49bb-bc0f-d3e210054674  fitbit   \n",
       " 20      HRV  10.108952  98bb1d4d-e863-467d-965c-32c2c065da06  fitbit   \n",
       " 29      HRV  26.861668  98bb1d4d-e863-467d-965c-32c2c065da06  fitbit   \n",
       " 31      HRV  25.190000  98bb1d4d-e863-467d-965c-32c2c065da06  fitbit   \n",
       " ...     ...        ...                                   ...     ...   \n",
       " 29981   HRV  19.932201  f63a7037-e5f4-42e7-8381-64ab0e62a132  fitbit   \n",
       " 29984   HRV  12.346501  98bb1d4d-e863-467d-965c-32c2c065da06  fitbit   \n",
       " 29985   HRV  18.792000  381235aa-b9af-40ab-a421-78bc82f6eab4  fitbit   \n",
       " 29989   HRV  18.790000  2b194e6d-ccf0-45c4-987c-0f0f102f893e  fitbit   \n",
       " 29996   HRV  24.931604  381235aa-b9af-40ab-a421-78bc82f6eab4  fitbit   \n",
       " \n",
       "                        logTime  \n",
       " 10     2023-06-05T03:00:34.123  \n",
       " 12     2023-06-03T05:00:14.047  \n",
       " 20     2023-06-02T05:00:10.873  \n",
       " 29     2023-06-03T01:00:19.305  \n",
       " 31     2023-06-02T23:00:12.571  \n",
       " ...                        ...  \n",
       " 29981  2023-05-30T03:25:21.987  \n",
       " 29984  2023-05-31T07:00:10.893  \n",
       " 29985  2023-05-30T13:00:13.061  \n",
       " 29989  2023-06-03T23:00:18.666  \n",
       " 29996  2023-06-05T17:00:36.383  \n",
       " \n",
       " [3352 rows x 10 columns],\n",
       " 'model_id': 'data_search',\n",
       " 'dtype': pandas.core.frame.DataFrame}"
      ]
     },
     "execution_count": 5,
     "metadata": {},
     "output_type": "execute_result"
    }
   ],
   "source": [
    "a.get_outputs(1)"
   ]
  },
  {
   "cell_type": "code",
   "execution_count": null,
   "metadata": {},
   "outputs": [
    {
     "data": {
      "text/plain": [
       "[{'isError': False,\n",
       "  'output':        Unnamed: 0        startTimeDate       info          endTimeDate   unit  \\\n",
       "  10             10  2023-06-04T20:59:00  automatic  2023-06-04T20:59:00  rmssd   \n",
       "  12             12  2023-06-02T07:27:00  automatic  2023-06-02T07:27:00  rmssd   \n",
       "  20             20  2023-06-01T04:32:00  automatic  2023-06-01T04:32:00  rmssd   \n",
       "  29             29  2023-06-02T18:12:00  automatic  2023-06-02T18:12:00  rmssd   \n",
       "  31             31  2023-06-01T22:50:00  automatic  2023-06-01T22:50:00  rmssd   \n",
       "  ...           ...                  ...        ...                  ...    ...   \n",
       "  29981       29981  2023-04-30T20:23:00  automatic  2023-04-30T20:23:00  rmssd   \n",
       "  29984       29984  2023-05-30T13:25:00  automatic  2023-05-30T13:25:00  rmssd   \n",
       "  29985       29985  2023-05-29T11:50:00  automatic  2023-05-29T11:50:00  rmssd   \n",
       "  29989       29989  2023-06-02T05:21:00  automatic  2023-06-02T05:21:00  rmssd   \n",
       "  29996       29996  2023-06-04T07:21:00  automatic  2023-06-04T07:21:00  rmssd   \n",
       "  \n",
       "        vital      value                                    id  source  \\\n",
       "  10      HRV  24.707151  381235aa-b9af-40ab-a421-78bc82f6eab4  fitbit   \n",
       "  12      HRV  26.318927  7ced6233-01d1-49bb-bc0f-d3e210054674  fitbit   \n",
       "  20      HRV  10.108952  98bb1d4d-e863-467d-965c-32c2c065da06  fitbit   \n",
       "  29      HRV  26.861668  98bb1d4d-e863-467d-965c-32c2c065da06  fitbit   \n",
       "  31      HRV  25.190000  98bb1d4d-e863-467d-965c-32c2c065da06  fitbit   \n",
       "  ...     ...        ...                                   ...     ...   \n",
       "  29981   HRV  19.932201  f63a7037-e5f4-42e7-8381-64ab0e62a132  fitbit   \n",
       "  29984   HRV  12.346501  98bb1d4d-e863-467d-965c-32c2c065da06  fitbit   \n",
       "  29985   HRV  18.792000  381235aa-b9af-40ab-a421-78bc82f6eab4  fitbit   \n",
       "  29989   HRV  18.790000  2b194e6d-ccf0-45c4-987c-0f0f102f893e  fitbit   \n",
       "  29996   HRV  24.931604  381235aa-b9af-40ab-a421-78bc82f6eab4  fitbit   \n",
       "  \n",
       "                         logTime  \n",
       "  10     2023-06-05T03:00:34.123  \n",
       "  12     2023-06-03T05:00:14.047  \n",
       "  20     2023-06-02T05:00:10.873  \n",
       "  29     2023-06-03T01:00:19.305  \n",
       "  31     2023-06-02T23:00:12.571  \n",
       "  ...                        ...  \n",
       "  29981  2023-05-30T03:25:21.987  \n",
       "  29984  2023-05-31T07:00:10.893  \n",
       "  29985  2023-05-30T13:00:13.061  \n",
       "  29989  2023-06-03T23:00:18.666  \n",
       "  29996  2023-06-05T17:00:36.383  \n",
       "  \n",
       "  [3352 rows x 10 columns],\n",
       "  'model_id': 'data_search',\n",
       "  'dtype': pandas.core.frame.DataFrame}]"
      ]
     },
     "execution_count": 6,
     "metadata": {},
     "output_type": "execute_result"
    }
   ],
   "source": [
    "a.get_outputs()"
   ]
  }
 ],
 "metadata": {
  "kernelspec": {
   "display_name": "Python 3",
   "language": "python",
   "name": "python3"
  },
  "language_info": {
   "codemirror_mode": {
    "name": "ipython",
    "version": 3
   },
   "file_extension": ".py",
   "mimetype": "text/x-python",
   "name": "python",
   "nbconvert_exporter": "python",
   "pygments_lexer": "ipython3",
   "version": "3.10.12"
  },
  "orig_nbformat": 4
 },
 "nbformat": 4,
 "nbformat_minor": 2
}
