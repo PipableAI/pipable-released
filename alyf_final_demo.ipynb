{
 "cells": [
  {
   "cell_type": "code",
   "execution_count": 47,
   "id": "0e2abe34",
   "metadata": {},
   "outputs": [],
   "source": [
    "from pipable import Pipable\n",
    "import pandas as pd"
   ]
  },
  {
   "cell_type": "code",
   "execution_count": 48,
   "id": "82e16a4b",
   "metadata": {},
   "outputs": [],
   "source": [
    "pip = Pipable(\"sample_data/configPG_alyf.yaml\")"
   ]
  },
  {
   "cell_type": "code",
   "execution_count": 49,
   "id": "c9e875fb",
   "metadata": {},
   "outputs": [
    {
     "name": "stdout",
     "output_type": "stream",
     "text": [
      "SELECT first_name, last_name\n",
      "FROM alyf_members\n",
      "WHERE member_id IN (\n",
      "    SELECT member_id\n",
      "    FROM alyf_asvs\n",
      "    WHERE daily_hfi > 35 OR bp_systolic_daily_avg > 120\n",
      ")\n",
      "Query executed successfully.\n"
     ]
    }
   ],
   "source": [
    "pip.ask(\"give me first and last name of patients at risk \")"
   ]
  },
  {
   "cell_type": "code",
   "execution_count": 50,
   "id": "e74936ca",
   "metadata": {},
   "outputs": [
    {
     "data": {
      "text/plain": [
       "pandas.core.frame.DataFrame"
      ]
     },
     "execution_count": 50,
     "metadata": {},
     "output_type": "execute_result"
    }
   ],
   "source": [
    "type(pip.get_latest_output())"
   ]
  },
  {
   "cell_type": "code",
   "execution_count": 51,
   "id": "5ee785cf",
   "metadata": {},
   "outputs": [
    {
     "name": "stdout",
     "output_type": "stream",
     "text": [
      "LLM: The table consists of three rows of data. The first row includes a person named Joseph Hill, while the second row includes a person named Laura Lin. Lastly, the third row contains information about Christopher Shelton.\n"
     ]
    }
   ],
   "source": [
    "if type(pip.get_latest_output()) == pd.DataFrame:\n",
    "    pip.ask(f\"I have this table that I want to present to my user as a fully constructed english response to the question.?{str(pip.get_latest_output())}\")\n",
    "else:\n",
    "    pass"
   ]
  },
  {
   "cell_type": "code",
   "execution_count": 52,
   "id": "39188fb0",
   "metadata": {},
   "outputs": [
    {
     "data": {
      "text/plain": [
       "{'outputs': [    first_name last_name\n",
       "  0       Joseph      Hill\n",
       "  1        Laura       Lin\n",
       "  2  Christopher   Shelton,\n",
       "  'The table consists of three rows of data. The first row includes a person named Joseph Hill, while the second row includes a person named Laura Lin. Lastly, the third row contains information about Christopher Shelton.'],\n",
       " 'errors': []}"
      ]
     },
     "execution_count": 52,
     "metadata": {},
     "output_type": "execute_result"
    }
   ],
   "source": [
    "pip.get_all_outputs()"
   ]
  },
  {
   "cell_type": "code",
   "execution_count": null,
   "id": "2b5708f7",
   "metadata": {},
   "outputs": [],
   "source": []
  }
 ],
 "metadata": {
  "kernelspec": {
   "display_name": "Python 3 (ipykernel)",
   "language": "python",
   "name": "python3"
  },
  "language_info": {
   "codemirror_mode": {
    "name": "ipython",
    "version": 3
   },
   "file_extension": ".py",
   "mimetype": "text/x-python",
   "name": "python",
   "nbconvert_exporter": "python",
   "pygments_lexer": "ipython3",
   "version": "3.9.7"
  }
 },
 "nbformat": 4,
 "nbformat_minor": 5
}
