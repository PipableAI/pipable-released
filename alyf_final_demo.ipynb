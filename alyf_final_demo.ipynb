{
 "cells": [
  {
   "cell_type": "code",
   "execution_count": 7,
   "id": "0e2abe34",
   "metadata": {},
   "outputs": [],
   "source": [
    "from pipable import Pipable\n",
    "import pandas as pd"
   ]
  },
  {
   "cell_type": "code",
   "execution_count": 8,
   "id": "82e16a4b",
   "metadata": {},
   "outputs": [],
   "source": [
    "pip = Pipable(\"sample_data/configPG_alyf.yaml\")"
   ]
  },
  {
   "cell_type": "code",
   "execution_count": 9,
   "id": "c9e875fb",
   "metadata": {},
   "outputs": [
    {
     "name": "stdout",
     "output_type": "stream",
     "text": [
      "SELECT m.first_name, m.last_name, a.bp_systolic_daily_avg, a.bp_diastolic_daily_avg, a.timestamp\n",
      "FROM alyf_asvs a\n",
      "JOIN alyf_members m ON a.member_id = m.member_id\n",
      "WHERE a.daily_hfi > 35;\n",
      "Query executed successfully.\n"
     ]
    }
   ],
   "source": [
    "pip.ask(\"give me first, last name, blood pressure and datetime of patients at risk\")"
   ]
  },
  {
   "cell_type": "code",
   "execution_count": 10,
   "id": "e74936ca",
   "metadata": {},
   "outputs": [
    {
     "data": {
      "text/html": [
       "<div>\n",
       "<style scoped>\n",
       "    .dataframe tbody tr th:only-of-type {\n",
       "        vertical-align: middle;\n",
       "    }\n",
       "\n",
       "    .dataframe tbody tr th {\n",
       "        vertical-align: top;\n",
       "    }\n",
       "\n",
       "    .dataframe thead th {\n",
       "        text-align: right;\n",
       "    }\n",
       "</style>\n",
       "<table border=\"1\" class=\"dataframe\">\n",
       "  <thead>\n",
       "    <tr style=\"text-align: right;\">\n",
       "      <th></th>\n",
       "      <th>first_name</th>\n",
       "      <th>last_name</th>\n",
       "      <th>bp_systolic_daily_avg</th>\n",
       "      <th>bp_diastolic_daily_avg</th>\n",
       "      <th>timestamp</th>\n",
       "    </tr>\n",
       "  </thead>\n",
       "  <tbody>\n",
       "    <tr>\n",
       "      <th>0</th>\n",
       "      <td>Laura</td>\n",
       "      <td>Lin</td>\n",
       "      <td>NaN</td>\n",
       "      <td>NaN</td>\n",
       "      <td>2023-03-26 00:00:00+00:00</td>\n",
       "    </tr>\n",
       "    <tr>\n",
       "      <th>1</th>\n",
       "      <td>Laura</td>\n",
       "      <td>Lin</td>\n",
       "      <td>NaN</td>\n",
       "      <td>NaN</td>\n",
       "      <td>2023-03-27 00:00:00+00:00</td>\n",
       "    </tr>\n",
       "    <tr>\n",
       "      <th>2</th>\n",
       "      <td>Laura</td>\n",
       "      <td>Lin</td>\n",
       "      <td>NaN</td>\n",
       "      <td>NaN</td>\n",
       "      <td>2023-03-28 00:00:00+00:00</td>\n",
       "    </tr>\n",
       "    <tr>\n",
       "      <th>3</th>\n",
       "      <td>Laura</td>\n",
       "      <td>Lin</td>\n",
       "      <td>NaN</td>\n",
       "      <td>NaN</td>\n",
       "      <td>2023-03-29 00:00:00+00:00</td>\n",
       "    </tr>\n",
       "    <tr>\n",
       "      <th>4</th>\n",
       "      <td>Laura</td>\n",
       "      <td>Lin</td>\n",
       "      <td>NaN</td>\n",
       "      <td>NaN</td>\n",
       "      <td>2023-03-30 00:00:00+00:00</td>\n",
       "    </tr>\n",
       "    <tr>\n",
       "      <th>...</th>\n",
       "      <td>...</td>\n",
       "      <td>...</td>\n",
       "      <td>...</td>\n",
       "      <td>...</td>\n",
       "      <td>...</td>\n",
       "    </tr>\n",
       "    <tr>\n",
       "      <th>177</th>\n",
       "      <td>Christopher</td>\n",
       "      <td>Shelton</td>\n",
       "      <td>190.0</td>\n",
       "      <td>104.0</td>\n",
       "      <td>2023-04-09 00:00:00+00:00</td>\n",
       "    </tr>\n",
       "    <tr>\n",
       "      <th>178</th>\n",
       "      <td>Christopher</td>\n",
       "      <td>Shelton</td>\n",
       "      <td>199.0</td>\n",
       "      <td>108.0</td>\n",
       "      <td>2023-04-22 00:00:00+00:00</td>\n",
       "    </tr>\n",
       "    <tr>\n",
       "      <th>179</th>\n",
       "      <td>Christopher</td>\n",
       "      <td>Shelton</td>\n",
       "      <td>210.0</td>\n",
       "      <td>120.0</td>\n",
       "      <td>2023-05-21 00:00:00+00:00</td>\n",
       "    </tr>\n",
       "    <tr>\n",
       "      <th>180</th>\n",
       "      <td>Christopher</td>\n",
       "      <td>Shelton</td>\n",
       "      <td>210.0</td>\n",
       "      <td>120.0</td>\n",
       "      <td>2023-06-21 00:00:00+00:00</td>\n",
       "    </tr>\n",
       "    <tr>\n",
       "      <th>181</th>\n",
       "      <td>Joseph</td>\n",
       "      <td>Hill</td>\n",
       "      <td>141.0</td>\n",
       "      <td>88.0</td>\n",
       "      <td>2023-05-28 00:00:00+00:00</td>\n",
       "    </tr>\n",
       "  </tbody>\n",
       "</table>\n",
       "<p>182 rows × 5 columns</p>\n",
       "</div>"
      ],
      "text/plain": [
       "      first_name last_name  bp_systolic_daily_avg  bp_diastolic_daily_avg  \\\n",
       "0          Laura       Lin                    NaN                     NaN   \n",
       "1          Laura       Lin                    NaN                     NaN   \n",
       "2          Laura       Lin                    NaN                     NaN   \n",
       "3          Laura       Lin                    NaN                     NaN   \n",
       "4          Laura       Lin                    NaN                     NaN   \n",
       "..           ...       ...                    ...                     ...   \n",
       "177  Christopher   Shelton                  190.0                   104.0   \n",
       "178  Christopher   Shelton                  199.0                   108.0   \n",
       "179  Christopher   Shelton                  210.0                   120.0   \n",
       "180  Christopher   Shelton                  210.0                   120.0   \n",
       "181       Joseph      Hill                  141.0                    88.0   \n",
       "\n",
       "                    timestamp  \n",
       "0   2023-03-26 00:00:00+00:00  \n",
       "1   2023-03-27 00:00:00+00:00  \n",
       "2   2023-03-28 00:00:00+00:00  \n",
       "3   2023-03-29 00:00:00+00:00  \n",
       "4   2023-03-30 00:00:00+00:00  \n",
       "..                        ...  \n",
       "177 2023-04-09 00:00:00+00:00  \n",
       "178 2023-04-22 00:00:00+00:00  \n",
       "179 2023-05-21 00:00:00+00:00  \n",
       "180 2023-06-21 00:00:00+00:00  \n",
       "181 2023-05-28 00:00:00+00:00  \n",
       "\n",
       "[182 rows x 5 columns]"
      ]
     },
     "execution_count": 10,
     "metadata": {},
     "output_type": "execute_result"
    }
   ],
   "source": [
    "pip.get_latest_output()"
   ]
  },
  {
   "cell_type": "code",
   "execution_count": 11,
   "id": "ca220eeb",
   "metadata": {},
   "outputs": [
    {
     "name": "stdout",
     "output_type": "stream",
     "text": [
      "LLM: Here is the fully constructed English response to the table:\n",
      "\n",
      "The table shows the daily average systolic and diastolic blood pressure for each individual. \n",
      "\n",
      "For Laura Lin, there are no recorded values for the systolic and diastolic blood pressure.\n",
      "\n",
      "For Christopher Shelton, the daily average systolic blood pressure ranges from 190mmHg to 210mmHg, and the diastolic blood pressure ranges from 104mmHg to 120mmHg. The corresponding timestamps for the recorded values are as follows:\n",
      "- 2023-04-09: Systolic - 190 mmHg, Diastolic - 104 mmHg\n",
      "- 2023-04-22: Systolic - 199 mmHg, Diastolic - 108 mmHg\n",
      "- 2023-05-21: Systolic - 210 mmHg, Diastolic - 120 mmHg\n",
      "- 2023-06-21: Systolic - 210 mmHg, Diastolic - 120 mmHg\n",
      "\n",
      "For Joseph Hill, the daily average systolic blood pressure is 141mmHg and the diastolic blood pressure is 88mmHg. The corresponding timestamp for the recorded values is 2023-05-28.\n"
     ]
    }
   ],
   "source": [
    "if type(pip.get_latest_output()) == pd.DataFrame:\n",
    "    pip.ask(f\"I have this table that I want to present to my user as a fully constructed english response to the question.?{str(pip.get_latest_output())}\",\"llm\")\n",
    "else:\n",
    "    pass"
   ]
  },
  {
   "cell_type": "code",
   "execution_count": 12,
   "id": "39188fb0",
   "metadata": {},
   "outputs": [
    {
     "data": {
      "text/plain": [
       "{'outputs': [      first_name last_name  bp_systolic_daily_avg  bp_diastolic_daily_avg  \\\n",
       "  0          Laura       Lin                    NaN                     NaN   \n",
       "  1          Laura       Lin                    NaN                     NaN   \n",
       "  2          Laura       Lin                    NaN                     NaN   \n",
       "  3          Laura       Lin                    NaN                     NaN   \n",
       "  4          Laura       Lin                    NaN                     NaN   \n",
       "  ..           ...       ...                    ...                     ...   \n",
       "  177  Christopher   Shelton                  190.0                   104.0   \n",
       "  178  Christopher   Shelton                  199.0                   108.0   \n",
       "  179  Christopher   Shelton                  210.0                   120.0   \n",
       "  180  Christopher   Shelton                  210.0                   120.0   \n",
       "  181       Joseph      Hill                  141.0                    88.0   \n",
       "  \n",
       "                      timestamp  \n",
       "  0   2023-03-26 00:00:00+00:00  \n",
       "  1   2023-03-27 00:00:00+00:00  \n",
       "  2   2023-03-28 00:00:00+00:00  \n",
       "  3   2023-03-29 00:00:00+00:00  \n",
       "  4   2023-03-30 00:00:00+00:00  \n",
       "  ..                        ...  \n",
       "  177 2023-04-09 00:00:00+00:00  \n",
       "  178 2023-04-22 00:00:00+00:00  \n",
       "  179 2023-05-21 00:00:00+00:00  \n",
       "  180 2023-06-21 00:00:00+00:00  \n",
       "  181 2023-05-28 00:00:00+00:00  \n",
       "  \n",
       "  [182 rows x 5 columns],\n",
       "  'Here is the fully constructed English response to the table:\\n\\nThe table shows the daily average systolic and diastolic blood pressure for each individual. \\n\\nFor Laura Lin, there are no recorded values for the systolic and diastolic blood pressure.\\n\\nFor Christopher Shelton, the daily average systolic blood pressure ranges from 190mmHg to 210mmHg, and the diastolic blood pressure ranges from 104mmHg to 120mmHg. The corresponding timestamps for the recorded values are as follows:\\n- 2023-04-09: Systolic - 190 mmHg, Diastolic - 104 mmHg\\n- 2023-04-22: Systolic - 199 mmHg, Diastolic - 108 mmHg\\n- 2023-05-21: Systolic - 210 mmHg, Diastolic - 120 mmHg\\n- 2023-06-21: Systolic - 210 mmHg, Diastolic - 120 mmHg\\n\\nFor Joseph Hill, the daily average systolic blood pressure is 141mmHg and the diastolic blood pressure is 88mmHg. The corresponding timestamp for the recorded values is 2023-05-28.'],\n",
       " 'errors': []}"
      ]
     },
     "execution_count": 12,
     "metadata": {},
     "output_type": "execute_result"
    }
   ],
   "source": [
    "pip.get_all_outputs()"
   ]
  }
 ],
 "metadata": {
  "kernelspec": {
   "display_name": "Python 3 (ipykernel)",
   "language": "python",
   "name": "python3"
  },
  "language_info": {
   "codemirror_mode": {
    "name": "ipython",
    "version": 3
   },
   "file_extension": ".py",
   "mimetype": "text/x-python",
   "name": "python",
   "nbconvert_exporter": "python",
   "pygments_lexer": "ipython3",
   "version": "3.10.12"
  }
 },
 "nbformat": 4,
 "nbformat_minor": 5
}
